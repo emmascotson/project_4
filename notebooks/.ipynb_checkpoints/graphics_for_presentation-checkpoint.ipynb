{
 "cells": [
  {
   "cell_type": "code",
   "execution_count": 5,
   "id": "fc6bea1b-32e1-49a9-9dee-aca911ec3a64",
   "metadata": {},
   "outputs": [],
   "source": [
    "import pandas as pd\n",
    "import numpy as np\n",
    "\n",
    "import seaborn as sns\n",
    "import geopandas as gpd\n",
    "import matplotlib.pyplot as plt\n",
    "from matplotlib.colors import ListedColormap\n",
    "import re"
   ]
  },
  {
   "cell_type": "code",
   "execution_count": 14,
   "id": "a665dcba-a7e6-4775-a541-b731e0ca5434",
   "metadata": {},
   "outputs": [
    {
     "name": "stderr",
     "output_type": "stream",
     "text": [
      "[nltk_data] Downloading package punkt to\n",
      "[nltk_data]     /Users/emmascotson/nltk_data...\n",
      "[nltk_data]   Package punkt is already up-to-date!\n",
      "[nltk_data] Downloading package stopwords to\n",
      "[nltk_data]     /Users/emmascotson/nltk_data...\n",
      "[nltk_data]   Package stopwords is already up-to-date!\n",
      "[nltk_data] Downloading package averaged_perceptron_tagger to\n",
      "[nltk_data]     /Users/emmascotson/nltk_data...\n",
      "[nltk_data]   Package averaged_perceptron_tagger is already up-to-\n",
      "[nltk_data]       date!\n",
      "[nltk_data] Downloading package wordnet to\n",
      "[nltk_data]     /Users/emmascotson/nltk_data...\n",
      "[nltk_data]   Package wordnet is already up-to-date!\n",
      "[nltk_data] Downloading package omw-1.4 to\n",
      "[nltk_data]     /Users/emmascotson/nltk_data...\n",
      "[nltk_data]   Package omw-1.4 is already up-to-date!\n"
     ]
    }
   ],
   "source": [
    "import pandas as pd\n",
    "import numpy as np\n",
    "\n",
    "import seaborn as sns\n",
    "import geopandas as gpd\n",
    "import matplotlib.pyplot as plt\n",
    "from matplotlib.colors import ListedColormap\n",
    "import plotly.express as px\n",
    "from wordcloud import WordCloud\n",
    "import os\n",
    "\n",
    "from statsmodels.stats.outliers_influence import variance_inflation_factor\n",
    "from statsmodels.tools.tools import add_constant\n",
    "\n",
    "from sklearn.preprocessing import OneHotEncoder, StandardScaler, LabelEncoder, label_binarize\n",
    "from sklearn.model_selection import train_test_split, GridSearchCV, cross_val_score\n",
    "from sklearn.linear_model import LogisticRegression, Lasso\n",
    "from sklearn.metrics import classification_report, silhouette_score, confusion_matrix, accuracy_score, recall_score, precision_score, f1_score, roc_auc_score, roc_curve, auc, RocCurveDisplay, ConfusionMatrixDisplay\n",
    "from sklearn.tree import DecisionTreeClassifier, plot_tree\n",
    "from sklearn.ensemble import RandomForestClassifier\n",
    "from sklearn.compose import ColumnTransformer\n",
    "from sklearn.pipeline import Pipeline\n",
    "from sklearn.impute import SimpleImputer\n",
    "from sklearn.neighbors import KNeighborsClassifier\n",
    "from sklearn.feature_extraction.text import TfidfVectorizer, CountVectorizer\n",
    "from sklearn.naive_bayes import MultinomialNB, ComplementNB\n",
    "from sklearn.cluster import KMeans\n",
    "from sklearn.base import BaseEstimator, TransformerMixin\n",
    "from sklearn.feature_selection import SelectKBest, chi2, SelectFromModel\n",
    "\n",
    "from imblearn.pipeline import make_pipeline\n",
    "from imblearn.over_sampling import SMOTE\n",
    "\n",
    "from scipy.stats import chi2_contingency, multinomial\n",
    "from scipy.sparse import hstack, csr_matrix\n",
    "\n",
    "import nltk\n",
    "import re\n",
    "nltk.download('punkt')\n",
    "from nltk.tokenize import word_tokenize, RegexpTokenizer, regexp_tokenize, sent_tokenize\n",
    "nltk.download('stopwords')\n",
    "from nltk.corpus import stopwords, wordnet\n",
    "from nltk.stem import SnowballStemmer, LancasterStemmer, PorterStemmer\n",
    "from nltk.probability import FreqDist\n",
    "from nltk import WordNetLemmatizer, pos_tag\n",
    "from nltk.util import bigrams\n",
    "nltk.download('averaged_perceptron_tagger')\n",
    "nltk.download('wordnet')\n",
    "nltk.download('omw-1.4')\n",
    "#nltk.download('all')\n",
    "from nltk.collocations import BigramCollocationFinder, BigramAssocMeasures\n",
    "from nltk.metrics import BigramAssocMeasures\n",
    "\n",
    "import itertools\n",
    "import string\n",
    "import contractions\n",
    "\n",
    "import os\n",
    "import sys\n",
    "module_path = os.path.abspath(os.path.join(os.pardir, os.pardir))\n",
    "if module_path not in sys.path:\n",
    "    sys.path.append(module_path)\n",
    "\n",
    "from copy import deepcopy\n",
    "\n",
    "from xgboost import XGBClassifier\n",
    "\n",
    "from joblib import parallel_backend\n",
    "\n",
    "from memory_profiler import profile\n",
    "\n",
    "from collections import Counter"
   ]
  },
  {
   "cell_type": "code",
   "execution_count": 15,
   "id": "a7c9fdb9-f992-4f39-bd5b-2002b5ae8e32",
   "metadata": {},
   "outputs": [],
   "source": [
    "data = pd.read_csv('../data/Combined Data.csv')"
   ]
  },
  {
   "cell_type": "code",
   "execution_count": 16,
   "id": "7053486a-eb74-4296-ac7f-ef43f40f2527",
   "metadata": {},
   "outputs": [
    {
     "data": {
      "text/html": [
       "<div>\n",
       "<style scoped>\n",
       "    .dataframe tbody tr th:only-of-type {\n",
       "        vertical-align: middle;\n",
       "    }\n",
       "\n",
       "    .dataframe tbody tr th {\n",
       "        vertical-align: top;\n",
       "    }\n",
       "\n",
       "    .dataframe thead th {\n",
       "        text-align: right;\n",
       "    }\n",
       "</style>\n",
       "<table border=\"1\" class=\"dataframe\">\n",
       "  <thead>\n",
       "    <tr style=\"text-align: right;\">\n",
       "      <th></th>\n",
       "      <th>Unnamed: 0</th>\n",
       "      <th>statement</th>\n",
       "      <th>status</th>\n",
       "      <th>perc_upper_words</th>\n",
       "    </tr>\n",
       "  </thead>\n",
       "  <tbody>\n",
       "    <tr>\n",
       "      <th>964</th>\n",
       "      <td>964</td>\n",
       "      <td>THANK GOD</td>\n",
       "      <td>Normal</td>\n",
       "      <td>100.0</td>\n",
       "    </tr>\n",
       "    <tr>\n",
       "      <th>3865</th>\n",
       "      <td>3865</td>\n",
       "      <td>ANYONE BUY ME LIGHT STICK HIS DREAMCACTHER PLS...</td>\n",
       "      <td>Normal</td>\n",
       "      <td>100.0</td>\n",
       "    </tr>\n",
       "    <tr>\n",
       "      <th>5912</th>\n",
       "      <td>5912</td>\n",
       "      <td>QWUEERRRRREEEEEEEERE QUEEUWUUEUQUEUUQU QUE!?#?...</td>\n",
       "      <td>Normal</td>\n",
       "      <td>100.0</td>\n",
       "    </tr>\n",
       "    <tr>\n",
       "      <th>3985</th>\n",
       "      <td>3985</td>\n",
       "      <td>WHAT TO SAY TO DREAMIES????</td>\n",
       "      <td>Normal</td>\n",
       "      <td>100.0</td>\n",
       "    </tr>\n",
       "    <tr>\n",
       "      <th>5917</th>\n",
       "      <td>5917</td>\n",
       "      <td>#PECAT WHOSE NAME IS SI ALI MOCHTAR NYEBELIN #</td>\n",
       "      <td>Normal</td>\n",
       "      <td>100.0</td>\n",
       "    </tr>\n",
       "  </tbody>\n",
       "</table>\n",
       "</div>"
      ],
      "text/plain": [
       "      Unnamed: 0                                          statement  status  \\\n",
       "964          964                                          THANK GOD  Normal   \n",
       "3865        3865  ANYONE BUY ME LIGHT STICK HIS DREAMCACTHER PLS...  Normal   \n",
       "5912        5912  QWUEERRRRREEEEEEEERE QUEEUWUUEUQUEUUQU QUE!?#?...  Normal   \n",
       "3985        3985                        WHAT TO SAY TO DREAMIES????  Normal   \n",
       "5917        5917     #PECAT WHOSE NAME IS SI ALI MOCHTAR NYEBELIN #  Normal   \n",
       "\n",
       "      perc_upper_words  \n",
       "964              100.0  \n",
       "3865             100.0  \n",
       "5912             100.0  \n",
       "3985             100.0  \n",
       "5917             100.0  "
      ]
     },
     "execution_count": 16,
     "metadata": {},
     "output_type": "execute_result"
    }
   ],
   "source": [
    "# Updating perc_upper to calculate based on number of words\n",
    "def perc_upper_words(text): \n",
    "    if not isinstance(text, str):\n",
    "        return 0\n",
    "    words = re.findall(r'\\b[a-zA-Z\\'-]+\\b', text) # Including apostrophes and hyphens\n",
    "    words = [word for word in words if not re.search(r'\\d', word)] # Filter out numbers\n",
    "    if not words:\n",
    "        return 0\n",
    "    uppercase_words = [word for word in words if word.isupper()]\n",
    "    return len(uppercase_words) / len(words) * 100\n",
    "\n",
    "data['perc_upper_words'] = data['statement'].apply(perc_upper_words)\n",
    "\n",
    "upper_sorted = data.sort_values(by='perc_upper_words', ascending=False)\n",
    "upper_sorted.head()"
   ]
  },
  {
   "cell_type": "code",
   "execution_count": 17,
   "id": "194044eb-ab10-4a73-a62c-fd68be235f04",
   "metadata": {},
   "outputs": [
    {
     "data": {
      "text/html": [
       "<div>\n",
       "<style scoped>\n",
       "    .dataframe tbody tr th:only-of-type {\n",
       "        vertical-align: middle;\n",
       "    }\n",
       "\n",
       "    .dataframe tbody tr th {\n",
       "        vertical-align: top;\n",
       "    }\n",
       "\n",
       "    .dataframe thead th {\n",
       "        text-align: right;\n",
       "    }\n",
       "</style>\n",
       "<table border=\"1\" class=\"dataframe\">\n",
       "  <thead>\n",
       "    <tr style=\"text-align: right;\">\n",
       "      <th></th>\n",
       "      <th>mean</th>\n",
       "      <th>min</th>\n",
       "      <th>max</th>\n",
       "    </tr>\n",
       "    <tr>\n",
       "      <th>status</th>\n",
       "      <th></th>\n",
       "      <th></th>\n",
       "      <th></th>\n",
       "    </tr>\n",
       "  </thead>\n",
       "  <tbody>\n",
       "    <tr>\n",
       "      <th>Anxiety</th>\n",
       "      <td>5.448665</td>\n",
       "      <td>0.0</td>\n",
       "      <td>100.000000</td>\n",
       "    </tr>\n",
       "    <tr>\n",
       "      <th>Bipolar</th>\n",
       "      <td>5.793845</td>\n",
       "      <td>0.0</td>\n",
       "      <td>25.000000</td>\n",
       "    </tr>\n",
       "    <tr>\n",
       "      <th>Depression</th>\n",
       "      <td>5.695736</td>\n",
       "      <td>0.0</td>\n",
       "      <td>100.000000</td>\n",
       "    </tr>\n",
       "    <tr>\n",
       "      <th>Normal</th>\n",
       "      <td>3.874615</td>\n",
       "      <td>0.0</td>\n",
       "      <td>100.000000</td>\n",
       "    </tr>\n",
       "    <tr>\n",
       "      <th>Personality disorder</th>\n",
       "      <td>4.926243</td>\n",
       "      <td>0.0</td>\n",
       "      <td>27.118644</td>\n",
       "    </tr>\n",
       "    <tr>\n",
       "      <th>Stress</th>\n",
       "      <td>5.455538</td>\n",
       "      <td>0.0</td>\n",
       "      <td>100.000000</td>\n",
       "    </tr>\n",
       "    <tr>\n",
       "      <th>Suicidal</th>\n",
       "      <td>7.940715</td>\n",
       "      <td>0.0</td>\n",
       "      <td>100.000000</td>\n",
       "    </tr>\n",
       "  </tbody>\n",
       "</table>\n",
       "</div>"
      ],
      "text/plain": [
       "                          mean  min         max\n",
       "status                                         \n",
       "Anxiety               5.448665  0.0  100.000000\n",
       "Bipolar               5.793845  0.0   25.000000\n",
       "Depression            5.695736  0.0  100.000000\n",
       "Normal                3.874615  0.0  100.000000\n",
       "Personality disorder  4.926243  0.0   27.118644\n",
       "Stress                5.455538  0.0  100.000000\n",
       "Suicidal              7.940715  0.0  100.000000"
      ]
     },
     "execution_count": 17,
     "metadata": {},
     "output_type": "execute_result"
    }
   ],
   "source": [
    "upper_stats = data.groupby('status')['perc_upper_words'].agg(['mean', 'min', 'max'])\n",
    "upper_stats"
   ]
  },
  {
   "cell_type": "code",
   "execution_count": 18,
   "id": "f246ba89-0fd3-4cb4-a61e-f7c1147fe436",
   "metadata": {},
   "outputs": [],
   "source": [
    "# Define function to remove emojis\n",
    "def remove_emojis(text):\n",
    "    # Regex pattern to match emojis (covers a wide range of emojis)\n",
    "    emoji_pattern = re.compile(\n",
    "        '['\n",
    "        '\\U0001F600-\\U0001F64F'  # emoticons\n",
    "        '\\U0001F300-\\U0001F5FF'  # symbols & pictographs\n",
    "        '\\U0001F680-\\U0001F6FF'  # transport & map symbols\n",
    "        '\\U0001F700-\\U0001F77F'  # alchemical symbols\n",
    "        '\\U0001F780-\\U0001F7FF'  # Geometric Shapes Extended\n",
    "        '\\U0001F800-\\U0001F8FF'  # Supplemental Arrows-C\n",
    "        '\\U0001F900-\\U0001F9FF'  # Supplemental Symbols and Pictographs\n",
    "        '\\U0001FA00-\\U0001FA6F'  # Chess Symbols\n",
    "        '\\U0001FA70-\\U0001FAFF'  # Symbols and Pictographs Extended-A\n",
    "        '\\U00002700-\\U000027BF'  # Dingbats\n",
    "        '\\U000024C2-\\U0001F251' \n",
    "        ']+', \n",
    "        flags=re.UNICODE\n",
    "    )\n",
    "    return emoji_pattern.sub(r'', text)\n",
    "\n",
    "# Define function to preprocess text\n",
    "def clean_text(text):\n",
    "    if not isinstance(text, str):\n",
    "        return\"\"\n",
    "    text = text.lower()\n",
    "    text = re.sub(r'https?://\\S+|www\\.\\S+', '', text)  # Remove links\n",
    "    text = re.sub(r'[^\\w\\s]', '', text) # Remove special char's & punct\n",
    "    text = re.sub(r'\\[|\\]', '', text)  # Remove square brackets\n",
    "    text = re.sub(r'\\d+', '', text) # Remove numbers\n",
    "    text = re.sub(r'<.*?>', '', text)  # Remove HTML tags\n",
    "    text = re.sub(r'\\n', '', text)  # Remove newlines\n",
    "    text = remove_emojis(text) # Apply emoji function from above\n",
    "    return text\n",
    "\n",
    "data['cleaned_statement'] = data['statement'].apply(lambda x: clean_text(x))\n",
    "\n",
    "# Creating list of stop words\n",
    "stopwords_list = stopwords.words('english')\n",
    "\n",
    "# Excluding 'not'\n",
    "important_words = ['not']\n",
    "\n",
    "# Initialize lemmatizer\n",
    "lemmatizer = WordNetLemmatizer()\n",
    "\n",
    "# Define function to tokenize, remove stopwords, and lemmatize\n",
    "def tokenize_stopwords_lemmatize(text):\n",
    "    tokens = word_tokenize(text)\n",
    "    cleaned_tokens = [w for w in tokens if w not in stopwords_list or w in important_words]\n",
    "    lemmatized_tokens = [lemmatizer.lemmatize(w) for w in cleaned_tokens]\n",
    "    return lemmatized_tokens\n",
    "\n",
    "# Tokenize\n",
    "data['tokens'] = data['cleaned_statement'].apply(tokenize_stopwords_lemmatize)\n",
    "\n",
    "# Remove 'like' from tokens, now that we've made bigrams\n",
    "def remove_like(tokens):\n",
    "    return [token for token in tokens if token != 'like']\n",
    "\n",
    "# Apply function\n",
    "data['tokens'] = data['tokens'].apply(remove_like)\n",
    "\n",
    "# Remove 'not' from tokens, now that we've made bigrams\n",
    "def remove_not(tokens):\n",
    "    return [token for token in tokens if token != 'not']\n",
    "\n",
    "# Apply function\n",
    "data['tokens'] = data['tokens'].apply(remove_not)\n",
    "\n",
    "columns_to_keep = ['status', 'statement', 'perc_upper_words', 'tokens']\n",
    "filtered_df = data.loc[:, columns_to_keep]\n",
    "filtered_df.head()\n",
    "\n",
    "# Set rows with empty 'tokens' lists to NaN\n",
    "filtered_df.loc[filtered_df['tokens'].apply(lambda x: len(x) == 0), 'tokens'] = np.nan\n",
    "\n",
    "# Dropping NaNs\n",
    "filtered_df = filtered_df.dropna(subset=['tokens'])\n",
    "\n",
    "# Remove 'like' from tokens, now that we've made bigrams\n",
    "def remove_feel(tokens):\n",
    "    return [token for token in tokens if token != 'feel']\n",
    "\n",
    "def remove_might(tokens):\n",
    "    return [token for token in tokens if token!= 'might']\n",
    "\n",
    "# Apply function\n",
    "data['tokens'] = data['tokens'].apply(remove_feel)\n",
    "filtered_df['tokens'] = filtered_df['tokens'].apply(remove_feel)\n",
    "\n",
    "data['tokens'] = data['tokens'].apply(remove_might)\n",
    "filtered_df['tokens'] = filtered_df['tokens'].apply(remove_might)\n",
    "\n",
    "# Set rows with empty 'tokens' lists to NaN\n",
    "filtered_df.loc[filtered_df['tokens'].apply(lambda x: len(x) == 0), 'tokens'] = np.nan\n",
    "\n",
    "# Dropping NaNs\n",
    "filtered_df = filtered_df.dropna(subset=['tokens'])\n",
    "\n",
    "# Convert token lists to strings\n",
    "filtered_df['joined_tokens'] = filtered_df['tokens'].apply(lambda x: ' '.join(x))\n",
    "\n",
    "# Drop rows where 'status' is 'Personality disorder'\n",
    "filtered_df = filtered_df[filtered_df['status'] != 'Personality disorder']\n",
    "\n",
    "# Relabeling stress as anxiety\n",
    "filtered_df.loc[filtered_df['status'] == 'Stress', 'status'] = 'Anxiety'\n",
    "\n",
    "# Relabeling depression rows that should be suicidal\n",
    "# Step 1: Filter rows where status is 'Depression' and tokens contain 'suicide' or 'suicidal'\n",
    "filtered_rows = filtered_df[(filtered_df['status'] == 'Depression') & \n",
    "                            (filtered_df['tokens'].apply(lambda x: 'suicide' in x or 'suicidal' in x))]\n",
    "\n",
    "# Step 2: Update status to 'Suicidal' for these filtered rows\n",
    "filtered_df.loc[filtered_rows.index, 'status'] = 'Suicidal'\n",
    "\n",
    "filtered_df['status'].value_counts(normalize=True)\n",
    "\n",
    "# Function to check if the text contains specific bigrams\n",
    "def has_specific_bigrams(text, bigrams):\n",
    "    for bigram in bigrams:\n",
    "        if all(word in text.split() for word in bigram):\n",
    "            return True\n",
    "    return False\n",
    "\n",
    "# Filter rows with status 'Depression'\n",
    "depression_df = filtered_df[filtered_df['status'] == 'Depression']\n",
    "\n",
    "# Define the bigrams to search for\n",
    "target_bigrams = [('kill', 'myself'), ('want', 'die')]\n",
    "\n",
    "# Find rows containing the specific bigrams\n",
    "filtered_rows = depression_df[depression_df['joined_tokens'].apply(lambda x: has_specific_bigrams(x, target_bigrams))]\n",
    "\n",
    "# Assuming filtered_rows is a subset of filtered_df and has the same indices\n",
    "filtered_df.loc[filtered_rows.index, 'status'] = 'Suicidal'\n",
    "\n"
   ]
  },
  {
   "cell_type": "code",
   "execution_count": 20,
   "id": "ab808223-9167-456c-b377-b529a3aa1367",
   "metadata": {},
   "outputs": [
    {
     "data": {
      "text/html": [
       "<div>\n",
       "<style scoped>\n",
       "    .dataframe tbody tr th:only-of-type {\n",
       "        vertical-align: middle;\n",
       "    }\n",
       "\n",
       "    .dataframe tbody tr th {\n",
       "        vertical-align: top;\n",
       "    }\n",
       "\n",
       "    .dataframe thead th {\n",
       "        text-align: right;\n",
       "    }\n",
       "</style>\n",
       "<table border=\"1\" class=\"dataframe\">\n",
       "  <thead>\n",
       "    <tr style=\"text-align: right;\">\n",
       "      <th></th>\n",
       "      <th>mean</th>\n",
       "      <th>min</th>\n",
       "      <th>max</th>\n",
       "    </tr>\n",
       "    <tr>\n",
       "      <th>status</th>\n",
       "      <th></th>\n",
       "      <th></th>\n",
       "      <th></th>\n",
       "    </tr>\n",
       "  </thead>\n",
       "  <tbody>\n",
       "    <tr>\n",
       "      <th>Anxiety</th>\n",
       "      <td>5.560865</td>\n",
       "      <td>0.0</td>\n",
       "      <td>100.0</td>\n",
       "    </tr>\n",
       "    <tr>\n",
       "      <th>Bipolar</th>\n",
       "      <td>6.002482</td>\n",
       "      <td>0.0</td>\n",
       "      <td>25.0</td>\n",
       "    </tr>\n",
       "    <tr>\n",
       "      <th>Depression</th>\n",
       "      <td>5.601627</td>\n",
       "      <td>0.0</td>\n",
       "      <td>100.0</td>\n",
       "    </tr>\n",
       "    <tr>\n",
       "      <th>Normal</th>\n",
       "      <td>3.909294</td>\n",
       "      <td>0.0</td>\n",
       "      <td>100.0</td>\n",
       "    </tr>\n",
       "    <tr>\n",
       "      <th>Suicidal</th>\n",
       "      <td>7.595251</td>\n",
       "      <td>0.0</td>\n",
       "      <td>100.0</td>\n",
       "    </tr>\n",
       "  </tbody>\n",
       "</table>\n",
       "</div>"
      ],
      "text/plain": [
       "                mean  min    max\n",
       "status                          \n",
       "Anxiety     5.560865  0.0  100.0\n",
       "Bipolar     6.002482  0.0   25.0\n",
       "Depression  5.601627  0.0  100.0\n",
       "Normal      3.909294  0.0  100.0\n",
       "Suicidal    7.595251  0.0  100.0"
      ]
     },
     "execution_count": 20,
     "metadata": {},
     "output_type": "execute_result"
    }
   ],
   "source": [
    "upper_stats = filtered_df.groupby('status')['perc_upper_words'].agg(['mean', 'min', 'max'])\n",
    "upper_stats"
   ]
  },
  {
   "cell_type": "code",
   "execution_count": 26,
   "id": "4f794656-fb12-4dab-8f89-703d5f8707f3",
   "metadata": {},
   "outputs": [
    {
     "name": "stdout",
     "output_type": "stream",
     "text": [
      "\n",
      "Top 20 Statements for Bipolar:\n",
      "Statement 1: WTF?? Walmart.   Of course.\n",
      "Statement 2: BIPOLAR TOYS R US THEME SONG I wrote this for you. \n",
      "\n",
      "*Ahem*\n",
      "\n",
      "“I don’t wanna come down,\n",
      "I’m a hypo-manic,\n",
      "Everything in life right now is freaken terrific!\n",
      "From sex to thoughts to fantasies,\n",
      "I have the most energy there is,\n",
      "GEE WIZ,\n",
      "I don’t wanna come down,\n",
      "Cause if I did,\n",
      "I wouldn’t be a hypo-manic \n",
      "\n",
      "*applause* \n",
      "\n",
      "Yes. Yes. *bows* Thank you, everyone. \n",
      "Statement 3: I don’t think I have bipolar. I don’t think I have it, I think I’m faking everything and I feel frustrated. I think I’ve made it all up in my head. \n",
      "\n",
      "I feel fine now that I’m on meds, I think I just need antidepressants not lamictal. I think I’m going to get off lamictal and just ask my therapist if I can get on an anti depressant. \n",
      "\n",
      "I think I just have cyclical depression and I’m just a bit cocky and and paranoid and irritable and creative.\n",
      "Statement 4: Anyone been on venlablue XL? I’m having really bad tremors, I can’t stop shaking.\n",
      "Statement 5: Accidentally double dosed on Lamictal? I am on 250mg per day of Lamictal for Bipolar 2. I thought I missed the dose I was supposed to take 12 hours ago so I took it now but I think I actually did take it this morning. Should I be worried? What should I do? \n",
      "Statement 6: 16 &amp; bipolar I’m 16 diagnosed Bipolar 1, eBPD, ADHD, PTSD, GAD, social anxiety and my question is wtf do y’all do to cope??💀\n",
      "\n",
      "I’ve tried 10+ meds, therapy, IOP, PHP, inpatient, and I’m still not doing any better.\n",
      "\n",
      "so i’m curious, what helps/helped you?\n",
      "Statement 7: Is it mania or genuine confidence It's more than likely that it's mania since I'm on reddit posting about it after drinking champagne and finishing crocheting a stuffed animal cat wearing a scarf.. but \n",
      "\n",
      "I HAVE FELT REALLY FINANCIALLY CONFIDENT AND WANT TO APLY FOR A CREDIT CARD WITHIN THE NEXT HOUR or I never will. I have refused to get a credit card for 9 years now.. (currently24). My recent stability has helped me succeed financially to the point I confidently have bought myself things that aren't necessities! I am now sure that this is just mania and a bad impulsive decision as I am constantly deleting random rambled jumbled sentences into this impulsive post.\n",
      "\n",
      "&amp;#x200B;\n",
      "\n",
      "I just would really appreciate some sort of advice or anyones past experience having a credit card even though there's a chance your mania could destroy you \n",
      "Statement 8: A more recent one I did Although I don't exactly remember drawing it ha, I think I'm gonna try to get back on meds\n",
      "Statement 9: A more recent one I did Although I don't exactly remember drawing it ha, I think I'm gonna try to get back on meds\n",
      "Statement 10: Progress is not good enough I have bipolar 1. When I go manic I go full hallucinating manic. When I get depressed I get dangerously close to killing myself. \n",
      "\n",
      "I’m better now where I ride waves of hypomania and depression. I feel like that is progress but it isn’t good enough. \n",
      "\n",
      "I’m not perfect. I don’t want this illness. I can’t control how stable I am. I take my medicine, I do my cbt and DBT coping techniques. \n",
      "\n",
      "I just wish people wouldn’t expect me to be stable all the time. I’m trying my best. \n",
      "\n",
      "Can anyone relate? \n",
      "Statement 11: My first time here I have Bi Polar and don’t talk to anyone about it. How do I accept that I have it?\n",
      "I’m 27 and was diagnosed when I was 21 but I still struggle with believing I have a mental illness.\n",
      "Statement 12: Schizoaffective vs Bipolar 1 I was diagnosed Bipolar 1 when I had my first psychotic break, but how do I know I don’t have schizoaffective disorder? \n",
      "Statement 13: Existing is so hard I don’t even have it bad (except for mental illness obviously) yet being awake is so fucking stressful. I have a supportive family, a great boyfriend, good friends, etc but I still want to be d3ad. Im on Wellbutrin, buspar, Vraylar and klonopin AND IM STILL DEPRESSED, ANXIOUS AND EMOTIONAL. I get they aren’t a cure all and I’d be much worse off meds, but what’s the point if I still can’t function in life?? I can’t work a normal job but I keep getting turned down for disability even though I over qualify. I fucking need money to live a life I don’t even want and I can’t get it. I’m about to explode\n",
      "Statement 14: Existing is so hard I don’t even have it bad (except for mental illness obviously) yet being awake is so fucking stressful. I have a supportive family, a great boyfriend, good friends, etc but I still want to be d3ad. Im on Wellbutrin, buspar, Vraylar and klonopin AND IM STILL DEPRESSED, ANXIOUS AND EMOTIONAL. I get they aren’t a cure all and I’d be much worse off meds, but what’s the point if I still can’t function in life?? I can’t work a normal job but I keep getting turned down for disability even though I over qualify. I fucking need money to live a life I don’t even want and I can’t get it. I’m about to explode\n",
      "Statement 15: [Rant warning] Had fucking enough. I hate everybody and everything: Modern society, people, especially any Sanist, atheists, my parents, the world, every single redditor, memes, neighbors, SJWs, Any kind of discriminator, myself, assholes, mythbusters/fake science, medications, cycles, skeptics, people who take anything without a grain of salt, western arabian american oceanian african and asian cultures, rich people, police, politicians, communists, the army/conscription, murder, rape, the lack of cigarettes, moderators...\n",
      "OH AND ALSO REDDIT ASKING ME IF I AM A HUMAN RIGHT?\n",
      "Statement 16: Every. Single. Time. Every single time I think I’m getting better I’m just not. I thought I was healing but really I was masking my depressive symptoms with drugs. Now I’ve ran out of drugs to binge on and I can feel myself spiralling into mania and I don’t wanna sectioned again I just can’t please someone help me\n",
      "Statement 17: Every. Single. Time. Every single time I think I’m getting better I’m just not. I thought I was healing but really I was masking my depressive symptoms with drugs. Now I’ve ran out of drugs to binge on and I can feel myself spiralling into mania and I don’t wanna sectioned again I just can’t please someone help me\n",
      "Statement 18: I have a problem with alcol So... I enjoy drinking but problem is lately I have less tolerance and get easily drunk.\n",
      "I don't remember anything... I have memory loss\n",
      "Plus when I'm super drunk I flirt a lot amd would kiss anyone... like last night but really I don't remember anything..\n",
      "\n",
      "Maybe I became drunk faster because I took 2h before 450mg of lithium. And also because I drunk too fast.\n",
      "\n",
      "Problem is when I sober I feel disgusted to myself and full of guilt. \n",
      "I feel so shameless and I just regret everything.\n",
      "Statement 19: I’m so anxious. All the god damn time. I can’t go to my uni classes, I can’t get a job, I can’t write an email, I can barely leave the house. I don’t want to leave the house. I’m scared of everything.\n",
      "\n",
      "I don’t even know what I’m scared of I just am. I’m just anxious. I was stable for like a year and now I’m plummeting I don’t know what to do. I was doing so well but now I’m just so anxious. I don’t want to have to quit my degree.\n",
      "\n",
      "I want to be good but it’s just hard.\n",
      "\n",
      "Thank you for listening to me\n",
      "Statement 20: food as the main coping mechanism I eat a lot, more after I started my meds. When I am stressed or under pressure I have a big appetite for food like sweets. I eat even more when manic even tho I am not hungry. I think I do it cause I have control over it, but I see now how out of control it has gotten. I gained like 40 kg in 1 year and I am so unhappy with myself. I wish I could loos them kg over night. But the appetite never gets away and I eat again. It is vicious circle.\n",
      "\n",
      "Top 20 Statements for Depression:\n",
      "Statement 1: UGHHHHHHHHHH UGHHHH UGH UGHHHHHH UGH UGH UGH UGH UGHHHHHHHHHHHHHHHHHHHHHHHHHHHH UGHHHHHHHHHHHH\n",
      "Statement 2: #NAME?\n",
      "Statement 3: #NAME?\n",
      "Statement 4: #NAME?\n",
      "Statement 5: FUCK. FUCK. FUCK.FUCK.FUCK. FUCK. FUCK.FUCK.FUCK. FUCK. FUCK.FUCK.FUCK. FUCK. FUCK.FUCK.FUCK. FUCK. FUCK.FUCK.FUCK. FUCK. FUCK.FUCK.FUCK. FUCK. FUCK.FUCK.FUCK. FUCK. FUCK.FUCK.FUCK. FUCK. FUCK.FUCK.FUCK. FUCK. FUCK.FUCK.FUCK. FUCK. FUCK.FUCK.FUCK. FUCK. FUCK.FUCK.FUCK. FUCK. FUCK.FUCK.FUCK. FUCK. FUCK.FUCK.FUCK. FUCK. FUCK.FUCK.FUCK. FUCK. FUCK.FUCK.FUUUUUUUUUUUUUUUCCKKKK AAAAAAAAAAAAAAAAAAAAA\n",
      "Statement 6: FUCK I HATE MY LIFE\n",
      "Statement 7: #NAME?\n",
      "Statement 8: #NAME?\n",
      "Statement 9: IS MY DEPRESSIVE EPISODE OVER❓ IS IT MANIA❓ OR IS IT A SECRET THIRD THING⁉️⁉️⁉️ MAYBE ITS A MIXED EPISODE😏 WE’LL NEVER KNOW 🤯🤯🤯\n",
      "Statement 10: #NAME?\n",
      "Statement 11: #NAME?\n",
      "Statement 12: #NAME?\n",
      "Statement 13: i DID IT I ATE A FULL MEAL TODAY I ATE EVERTING ON MY PLATE WITY APETITE I ACTUALLY DID IT OH MG GOD NYJFDJDDJJWJWJWJWJAJAJAKAKKALALAKAKAJSNENENENNENDND I FUVKING DID TI\n",
      "Statement 14: wow. IF U REACH OUT TO SOMEONE TRYING TO HELP, DO NOT COMPARE THE SEVERITY OF YOURS AND THEIR MENTAL ISSUES. OFFER THEM GENUINE SUPPORT.\n",
      "Statement 15: I am SO FUCKING UPSET AND SAD AND ANGRY AND NONE OF IT EVER GOES AWAY AND I cannot EVEN DO ANYTHING OR FEEL OR SAY ANYTHING AT ALL EXCEPT SADNESS AND ANGER AND FRUSTRATION AND DISBELIEF AT THE FACT THAT I WOKE UP THIS MORNING AND REALIZED TIME KEEPS MOVING AND there is NOTHING I CAN DO AND IT is not A DREAM THIS IS ALL REAL AND I CANNOT BELIEVE THIS IS REAL LIFE AND DESPITE ANOTHER DAY TIME RESUMES TURNING THE PAGES OF THE BOOK IT HAS BURNED AND SHREDDED AND IT PISSES ME OFF SO MUCH AND INSTEAD OF GETTING AN ADRENALINE RUSH I JUST FEEL ALL HOT AND ANGRY AND I WRIGGLE LIKE A WORM IN THE SUN WITHIN MY OWN MIND YET MY BODY LIES STILL IN UTTER DISBELIEF AT ITS OWN INCOMPETENCE AND INABILITY TO COPE WITH THE UTTER SKULL-FUCK OF EMOTIONAL FUCKERY THAT NEVER CEASES TO FLOW FROM EVERY NEURON FIRING AT ONCE IN MY BRAINgoodnight. I am SO ANGRY AND SAD AND I do not EVEN WANT TO TALK ABOUT IT\n",
      "Statement 16: [ O!SLIM - SAFE WEIGHT LOSS AND WEIGHT REDUCTION BY 10-12 KG IN A MONTH\n",
      "Statement 17: IF I WANT MY CAMERA TO BE OFF OR IF I do not WANT TO SPEAK IN FRONT OF EVERYONE THEN LEAVE ME THE FUCK ALONE. I should not HAVE TO BE FORCED TO DO SOMETHING JUST BECAUSE YOU WANT ME TO. WHAT ABOUT MEEEEE?????!!!?!?!!? I HATE IT WHEN PEOPLE do not RESPECT THE FACT THAT YOU do not WANT TO SPEAK OR SHOW YOUR FACE IN FRONT OF DOZENS OF PEOPLE\n",
      "Statement 18: WHAT AM I SUPPOSED TO DO WHAT AM I SUPPOSED TO DO? NOTHING. I NEVER DO ANYTHING. I am LOST. what can I do?\n",
      "Statement 19: I cannot TAKE IT ANYMORE. I cannot TAKE IT ANYMORE. I cannot TAKE IT ANYMORE. I cannot TAKE IT ANYMORE. I cannot TAKE IT ANYMORE. I cannot TAKE IT ANYMORE. I cannot TAKE IT ANYMORE. I cannot TAKE IT ANYMORE. I cannot TAKE IT ANYMORE. I cannot TAKE IT ANYMORE. I cannot TAKE IT ANYMORE. I cannot TAKE IT ANYMORE. I cannot TAKE IT ANYMORE. I cannot TAKE IT ANYMORE. I cannot TAKE IT ANYMORE. I cannot TAKE IT ANYMORE. I cannot TAKE IT ANYMORE. I cannot TAKE IT ANYMORE. I cannot TAKE IT ANYMORE. I cannot TAKE IT ANYMORE. I cannot TAKE IT ANYMORE. I cannot TAKE IT ANYMORE. I cannot TAKE IT ANYMORE. I cannot TAKE IT ANYMORE. I cannot TAKE IT ANYMORE. I cannot TAKE IT ANYMORE. I cannot TAKE IT ANYMORE. I cannot TAKE IT ANYMORE. I cannot TAKE IT ANYMORE. I cannot TAKE IT ANYMORE. I cannot TAKE IT ANYMORE. I cannot TAKE IT ANYMORE. I cannot TAKE IT ANYMORE. I cannot TAKE IT ANYMORE. I cannot TAKE IT ANYMORE. I cannot TAKE IT ANYMORE. I cannot TAKE IT ANYMORE. I cannot TAKE IT ANYMORE. I cannot TAKE IT ANYMORE. I cannot TAKE IT ANYMORE. I cannot TAKE IT ANYMORE. I cannot TAKE IT ANYMORE. I cannot TAKE IT ANYMORE. I cannot TAKE IT ANYMORE. I cannot TAKE IT ANYMORE. I cannot TAKE IT ANYMORE. I cannot TAKE IT ANYMORE. I cannot TAKE IT ANYMORE. I cannot TAKE IT ANYMORE. I cannot TAKE IT ANYMORE. I cannot TAKE IT ANYMORE. I cannot TAKE IT ANYMORE. I cannot TAKE IT ANYMORE. I cannot TAKE IT ANYMORE. I cannot TAKE IT ANYMORE. I cannot TAKE IT ANYMORE. I cannot TAKE IT ANYMORE. I cannot TAKE IT ANYMORE. I cannot TAKE IT ANYMORE. I cannot TAKE IT ANYMORE. I cannot TAKE IT ANYMORE. I cannot TAKE IT ANYMORE. I cannot TAKE IT ANYMORE. I cannot TAKE IT ANYMORE. I cannot TAKE IT ANYMORE. I cannot TAKE IT ANYMORE. I cannot TAKE IT ANYMORE. I cannot TAKE IT ANYMORE. I cannot TAKE IT ANYMORE. I cannot TAKE IT ANYMORE. I cannot TAKE IT ANYMORE. I cannot TAKE IT ANYMORE. I cannot TAKE IT ANYMORE. I cannot TAKE IT ANYMORE. I cannot TAKE IT ANYMORE. I cannot TAKE IT ANYMORE. I cannot TAKE IT ANYMORE. I cannot TAKE IT ANYMORE. I cannot TAKE IT ANYMORE. I cannot TAKE IT ANYMORE. I cannot TAKE IT ANYMORE. I cannot TAKE IT ANYMORE. I cannot TAKE IT ANYMORE. I cannot TAKE IT ANYMORE. I cannot TAKE IT ANYMORE. I cannot TAKE IT ANYMORE. I cannot TAKE IT ANYMORE. I cannot TAKE IT ANYMORE. I cannot TAKE IT ANYMORE. I cannot TAKE IT ANYMORE. I cannot TAKE IT ANYMORE. I cannot TAKE IT ANYMORE. I cannot TAKE IT ANYMORE. I cannot TAKE IT ANYMORE. I cannot TAKE IT ANYMORE. I cannot TAKE IT ANYMORE. I cannot TAKE IT ANYMORE. I cannot TAKE IT ANYMORE. I cannot TAKE IT ANYMORE. I cannot TAKE IT ANYMORE. I cannot TAKE IT ANYMORE. I cannot TAKE IT ANYMORE. I cannot TAKE IT ANYMORE. I cannot TAKE IT ANYMORE. I cannot TAKE IT ANYMORE. I cannot TAKE IT ANYMORE. I cannot TAKE IT ANYMORE. I cannot TAKE IT ANYMORE. I cannot TAKE IT ANYMORE. I cannot TAKE IT ANYMORE. I cannot TAKE IT ANYMORE. I cannot TAKE IT ANYMORE. I cannot TAKE IT ANYMORE. I cannot TAKE IT ANYMORE. I cannot TAKE IT ANYMORE. I cannot TAKE IT ANYMORE. I cannot TAKE IT ANYMORE. I cannot TAKE IT ANYMORE. I cannot TAKE IT ANYMORE. I cannot TAKE IT ANYMORE. I cannot TAKE IT ANYMORE. I cannot TAKE IT ANYMORE. I cannot TAKE IT ANYMORE. I cannot TAKE IT ANYMORE. I cannot TAKE IT ANYMORE. I cannot TAKE IT ANYMORE. I cannot TAKE IT ANYMORE. I cannot TAKE IT ANYMORE. I cannot TAKE IT ANYMORE. I cannot TAKE IT ANYMORE. I cannot TAKE IT ANYMORE. I cannot TAKE IT ANYMORE. I cannot TAKE IT ANYMORE. I cannot TAKE IT ANYMORE. I cannot TAKE IT ANYMORE. I cannot TAKE IT ANYMORE. I cannot TAKE IT ANYMORE. I cannot TAKE IT ANYMORE. I cannot TAKE IT ANYMORE. I cannot TAKE IT ANYMORE. I cannot TAKE IT ANYMORE. I cannot TAKE IT ANYMORE. I cannot TAKE IT ANYMORE. I cannot TAKE IT ANYMORE. I cannot TAKE IT ANYMORE. I cannot TAKE IT ANYMORE. I cannot TAKE IT ANYMORE. I cannot TAKE IT ANYMORE. I cannot TAKE IT ANYMORE. I cannot TAKE IT ANYMORE. I cannot TAKE IT ANYMORE. I cannot TAKE IT ANYMORE. I cannot TAKE IT ANYMORE. I cannot TAKE IT ANYMORE. I cannot TAKE IT ANYMORE. I cannot TAKE IT ANYMORE. I cannot TAKE IT ANYMORE. I cannot TAKE IT ANYMORE. I cannot TAKE IT ANYMORE. I cannot TAKE IT ANYMORE. I cannot TAKE IT ANYMORE. I cannot TAKE IT ANYMORE. I cannot TAKE IT ANYMORE. I cannot TAKE IT ANYMORE. I cannot TAKE IT ANYMORE. I cannot TAKE IT ANYMORE. I cannot TAKE IT ANYMORE. I cannot TAKE IT ANYMORE. I cannot TAKE IT ANYMORE. I cannot TAKE IT ANYMORE. I cannot TAKE IT ANYMORE. I cannot TAKE IT ANYMORE. I cannot TAKE IT ANYMORE. I cannot TAKE IT ANYMORE. I cannot TAKE IT ANYMORE. I cannot TAKE IT ANYMORE. I cannot TAKE IT ANYMORE. I cannot TAKE IT ANYMORE. I cannot TAKE IT ANYMORE. I cannot TAKE IT ANYMORE. I cannot TAKE IT ANYMORE. I cannot TAKE IT ANYMORE. I cannot TAKE IT ANYMORE. I cannot TAKE IT ANYMORE. I cannot TAKE IT ANYMORE. I cannot TAKE IT ANYMORE. I cannot TAKE IT ANYMORE. I cannot TAKE IT ANYMORE. I cannot TAKE IT ANYMORE. I cannot TAKE IT ANYMORE. I cannot TAKE IT ANYMORE. I cannot TAKE IT ANYMORE. I cannot TAKE IT ANYMORE. I cannot TAKE IT ANYMORE. I cannot TAKE IT ANYMORE. I cannot TAKE IT ANYMORE. I cannot TAKE IT ANYMORE. I cannot TAKE IT ANYMORE. I cannot TAKE IT ANYMORE. I cannot TAKE IT ANYMORE. I cannot TAKE IT ANYMORE. I cannot TAKE IT ANYMORE. I cannot TAKE IT ANYMORE. I cannot TAKE IT ANYMORE. I cannot TAKE IT ANYMORE. I cannot TAKE IT ANYMORE. I cannot TAKE IT ANYMORE. I cannot TAKE IT ANYMORE. I cannot TAKE IT ANYMORE. I cannot TAKE IT ANYMORE. I cannot TAKE IT ANYMORE. I cannot TAKE IT ANYMORE. I cannot TAKE IT ANYMORE. I cannot TAKE IT ANYMORE. I cannot TAKE IT ANYMORE. I cannot TAKE IT ANYMORE. I cannot TAKE IT ANYMORE. I cannot TAKE IT ANYMORE. I cannot TAKE IT ANYMORE. I cannot TAKE IT ANYMORE. I cannot TAKE IT ANYMORE. I cannot TAKE IT ANYMORE. I cannot TAKE IT ANYMORE. I cannot TAKE IT ANYMORE. I cannot TAKE IT ANYMORE. I cannot TAKE IT ANYMORE. I cannot TAKE IT ANYMORE. I cannot TAKE IT ANYMORE. I cannot TAKE IT ANYMORE. I cannot TAKE IT ANYMORE. I cannot TAKE IT ANYMORE. I cannot TAKE IT ANYMORE. I cannot TAKE IT ANYMORE. I cannot TAKE IT ANYMORE. I cannot TAKE IT ANYMORE. I cannot TAKE IT ANYMORE. I cannot TAKE IT ANYMORE. I cannot TAKE IT ANYMORE. I cannot TAKE IT ANYMORE. I cannot TAKE IT ANYMORE. I cannot TAKE IT ANYMORE. I cannot TAKE IT ANYMORE. I cannot TAKE IT ANYMORE. I cannot TAKE IT ANYMORE. I cannot TAKE IT ANYMORE. I cannot TAKE IT ANYMORE. I cannot TAKE IT ANYMORE. I cannot TAKE IT ANYMORE. I cannot TAKE IT ANYMORE. I cannot TAKE IT ANYMORE. I cannot TAKE IT ANYMORE. I cannot TAKE IT ANYMORE. I cannot TAKE IT ANYMORE. I cannot TAKE IT ANYMORE. I cannot TAKE IT ANYMORE. I cannot TAKE IT ANYMORE. I cannot TAKE IT ANYMORE. I cannot TAKE IT ANYMORE. I cannot TAKE IT ANYMORE. I cannot TAKE IT ANYMORE. I cannot TAKE IT ANYMORE. I cannot TAKE IT ANYMORE. I cannot TAKE IT ANYMORE. I cannot TAKE IT ANYMORE. I cannot TAKE IT ANYMORE. I cannot TAKE IT ANYMORE. I cannot TAKE IT ANYMORE. I cannot TAKE IT ANYMORE. I cannot TAKE IT ANYMORE. I cannot TAKE IT ANYMORE. I cannot TAKE IT ANYMORE. I cannot TAKE IT ANYMORE. I cannot TAKE IT ANYMORE. I cannot TAKE IT ANYMORE. I cannot TAKE IT ANYMORE. I cannot TAKE IT ANYMORE. I cannot TAKE IT ANYMORE. I cannot TAKE IT ANYMORE. I cannot TAKE IT ANYMORE. I cannot TAKE IT ANYMORE. I cannot TAKE IT ANYMORE. I cannot TAKE IT ANYMORE. I cannot TAKE IT ANYMORE. I cannot TAKE IT ANYMORE. I cannot TAKE IT ANYMORE. I cannot TAKE IT ANYMORE. I cannot TAKE IT ANYMORE. I cannot TAKE IT ANYMORE. I cannot TAKE IT ANYMORE. I cannot TAKE IT ANYMORE. I cannot TAKE IT ANYMORE. I cannot TAKE IT ANYMORE. I cannot TAKE IT ANYMORE. I cannot TAKE IT ANYMORE. I cannot TAKE IT ANYMORE. I cannot TAKE IT ANYMORE. I cannot TAKE IT ANYMORE. I cannot TAKE IT ANYMORE. I cannot TAKE IT ANYMORE. I cannot TAKE IT ANYMORE.\n",
      "Statement 20: I really hate posting this shit on social media so I am hoping an anonymous account will help. I just needed to get this off my chest. I FUCKING HATE BEING AN ADULT. EVERYTHING IS SO LONLEY, ALL YOU DO IS WORK AND PAY BILLS, NO ONE REALLY ACTUALLY CARES ABOUT YOU, AND you are STUCK DOING EVERYTHING YOURSELF EVEN WHEN YOU REALLY JUST NEED THE COMFORT OF ANOTHER HUMAN BEING, BUT EVERYONE ELSE IS JUST AS DEPRESSED AS YOU SO are not NOBODY GOT TIME FOR THAT. Thank you Adulting\n"
     ]
    }
   ],
   "source": [
    "# Function to filter, sort, and print statements\n",
    "def print_statements_by_status(df, status_value, top_n=20):\n",
    "    # Filter rows by status\n",
    "    status_df = df[df['status'] == status_value]\n",
    "    \n",
    "    # Sort by 'perc_upper_words' in descending order\n",
    "    status_df_sorted = status_df.sort_values(by='perc_upper_words', ascending=False)\n",
    "    \n",
    "    # Get the top N statements\n",
    "    top_statements = status_df_sorted.head(top_n)['statement']\n",
    "    \n",
    "    # Print statements in the desired format\n",
    "    print(f\"\\nTop {top_n} Statements for {status_value}:\")\n",
    "    for idx, statement in enumerate(top_statements):\n",
    "        print(f\"Statement {idx + 1}: {statement}\")\n",
    "\n",
    "# Print statements for 'Bipolar'\n",
    "print_statements_by_status(filtered_df, 'Bipolar')\n",
    "\n",
    "# Print statements for 'Depression'\n",
    "print_statements_by_status(filtered_df, 'Depression')"
   ]
  },
  {
   "cell_type": "code",
   "execution_count": 27,
   "id": "802a6f2f-4163-487e-8b94-8143d109f02c",
   "metadata": {},
   "outputs": [
    {
     "name": "stdout",
     "output_type": "stream",
     "text": [
      "\n",
      "Top 20 Statements for Suicidal:\n",
      "Statement 1: DANIEL WON!\n",
      "Statement 2: I KEEP MESSING THINGS UP ALL DAY EVERY DAY THERE IS NOTHING I CAN DO ABOUT PEOPEL WILL HATE ME I WILL SAY TOO MUCH AND THEY WILL HATE ME THEY WILL ALWAYS DO FUCK YOU I FUCKIGN HATE THIS FUCKING LIFE I WISH I WAS FUCKING DEAD WHY THE FUCK CAN I SOCIALIZE WITH PEOPLE\n",
      "Statement 3: FUCK YOU I FUCKING HATE YOU\n",
      "Statement 4: GOD! CAN U HERME IM TIRED PLEASE KILL ME I WANT DIE\n",
      "Statement 5: YOU MAKE ME FUCKING CRY EVERY NIGHT AND YOU DONT EVEN KNOW IT\n",
      "Statement 6: I WILL PRAY EVERYDAY THAT ALL HUMANS ON THIS PLANET GET CANCER AND DIE A SLOW AND PAINFUL DEATH. I HATE HATE HATE ALL HUMANS ESPECIALLY MY MOTHER, FUCK THAT BITCH SHE CAN GET RAPED!!!! I REALLY WANT TO SHOOT UP A SCHOOL AND TAKE THESE POOR KIDS OFF THIS FUCKING PLANET!!! [SERIOUS] I HATE HUMANS!\n",
      "Statement 7: IM REALLY ABOUT TO KMS CAUSE THIS DAMN TEST OMG I HATE MYSELF FOR NOT REMEMBERING ITS TODAY\n",
      "Statement 8: AAAAAAAAAAAAAAAAAAAAAAAAAAAAAAAAAAAAAAAAAAAAAAAAAAAAAAAAAAAAAAAAAAAAAAAAAAAAAAAAAAAAAAAAAAAAAAAAAAAAAAAAAAAAAAAAAAAAAAAAAAAAAAAAAAAAAAAAAAAAAAAAAAAAAAAAAAAAAAAAAAAAAAAAAAAAAAAAAAAAAAAAAAAAAAAAAAAAAAAAAAAAAAAAAAAAAAAAAAAAAAAAAAAAAAAAAAAAAAAAAAAAAAAAAAAAAAAAAAAAAAAAAAAAAAAAAAAAAAAAAAAAAAAAAAAAAAAAAAAAAAAAAAAAAAAAAAAAAAAAAAAAAAAAAAAAAAAAAAAAAAAAAAAAAAAAAAAAAAAAAAAAAAAAAAAAAAAAAAAAAAAAAAAAAAAAAAAAAAAAAAAAAAAAAAAAAAAAAAAAAAAAAAAAAAAAAAAAAAAAAAAAAAAAAAAAAAAAAAAAAAAAAAAAAAAAAAAAAAAAAAAAAAAAAAAAAAAAAAAAAAAAAAAAAAAAAAAAAAAAAAAAAAAAAAAAAAAAAAAAAAAAAAAAAAAAAAAAAAAAAAAAAAAAAAAAAAAAAAAAAAAAAAAAAAAAAAAAAAAAAAAAAAAAAAAAAAAAAAAAAAAAAAAAAAAAAAAAAAAAAAAAAAAAAAAAAAAAAAAAAAAAAAAAAAAAAAAAAAAAAAAAAAAAAAAAAAAAAAAAAAAAAAAAAAAAAAAAAAAAAAAAAAAAAAAAAAAAAAAAAAAAAAAAAAAAAAAAAAAAAAAAAAAAAAAAAAAAAAAAAAAAAAAAAAAAAAAAAAAAAAAAAAAAAAAAAAAAAAAAAAAAAAAAAAAAAAAAAAAAAAAAAAAAAAAAAAAAAAAAAAAAAAAAAAAAAAAAAAAAAAAAAAAAAAAAAAAAAAAAAAAAAAAAAAAAAAAAAAAAAAAAAAAAAAAAAAAAAAAAAAAAAAAAAAAAAAAAAAAAAAAAAAAAAAAAAAAAAAAAAAAAAAAAAAAAAAAAAAAAAAAAAAAAAAAAAAAAAAAAAAAAAAAAAAAAAAAAAAAAAAAAAAAAAAAAAAAAAAAAAAAAAAAAAAAAAAAAAAAAAAAAAAAAAAAAAAAAAAAAAAAAAAAAAAAAAAAAAAAAAAAAAAAAAAAAAAAAAAAAAAAAAAAAAAAAAAAAAAAAAAAAAAAAAAAAAAAAAAAAAAAAAAAAAAAAAAAAAAAAAAAAAAAAAAAAAAAAAAAAAAAAAAAAAAAAAAAAAAAAAAAAAAAAAAAAAAAAAAAAAAAAAAAAAAAAAAAAAAAAAAAAAAAAAAAAAAAAAAAAAAAAAAAAAAAAAAAAAAAAAAAAAAAAAAAAAAAAAAAAAAAAAAAAAAAAAAAAAAAAAAAAAAAAAAAAAAAAAAAAAAAAAAAAAAAAAAAAAAAAAAAAAAAAAAAAAAAAAAAAAAAAAAAAAAAAAAAAAAAAAAAAAAAAAAAAAAAAAAAAAAAAAAAAAAAAAAAAAAAAAAAAAAAAAAAAAAAAAAAAAAAAAAAAAAAAAAAAAAAAAAAAAAAAAAAAAAAAAAAAAAAAAAAAAAAAAAAAAAAAAAAAAAAAAAAAAAAAAAAAAAAAAAAAAAAAAAAAAAAAAAAAAAAAAAAAAAAAAAAAAAAAAAAAAAAAAAAAAAAAAAAAAAAAAAAAAAAAAAAAAAAAAAAAAAAAAAAAAAAAAAAAAAAAAAAAAAAAAAAAAAAAAAAAAAAAAAAAAAAAAAAAAAAAAAAAAAAAAAAAAAAAAAAAAAAAAAAAAAAAAAAAAAAAAAAAAAAAAAAAAAAAAAAAAAAAAAAAAAAAAAAAAAAAAAAAAAAAAAAAAAAAAAAAAAAAAAAAAAAAAAAAAAAAAAAAAAAAAAAAAAAAAAAAAAAAAAAAAAAAAAAAAAAAAAAAAAAAAAAAAAAAAAAAAAAAAAAAAAAAAAAAAAAAAAAAAAAAAAAAAAAAAAAAAAAAAAAAAAAAAAAAAAAAAAAAAAAAAAAAAAAAAAAAAAAAAAAAAAAAAAAAAAAAAAAAAAAAAAAAAAAAAAAAAAAAAAAAAAAAAAAAAAAAAAAAAAAAAAAAAAAAAAAAAAAAAAAAAAAAAAAAAAAAAAAAAAAAAAAAAAAAAAAAAAAAAAAAAAAAAAAAAAAAAAAAAAAAAAAAAAAAAAAAAAAAAAAAAAAAAAAAAAAAAAAAAAAAAAAAAAAAAAAAAAAAAAAAAAAAAAAAAAAAAAAAAAAAAAAAAAAAAAAAAAAAAAAAAAAAAAAAAAAAAAAAAAAAAAAAAAAAAAAAAAAAAAAAAAAAAAAAAAAAAAAAAAAAAAAAAAAAAAAAAAAAAAAAAAAAAAAAAAAAAAAAAAAAAAAAAAAAAAAAAAAAAAAAAAAAAAAAAAAAAAAAAAAAAAAAAAAAAAAAAAAAAAAAAAAAAAAAAAAAAAAAAAAAAAAAAAAAAAAAAAAAAAAAAAAAAAAAAAAAAAAAAAAAAAAAAAAAAAAAAAAAAAAAAAAAAAAAAAAAAAAAAAAAAAAAAAAAAAAAAAAAAAAAAAAAAAAAAAAAAAAAAAAAAAAAAAAAAAAAAAAAAAAAAAAAAAAAAAAAAAAAAAAAAAAAAAAAAAAAAAAAAAAAAAAAAAAAAAAAAAAAAAAAAAAAAAAAAAAAAAAAAAAAAAAAAAAAAAAAAAAAAAAAAAAAAAAAAAAAAAAAAAAAAAAAAAAAAAAAAAAAAAAAAAAAAAAAAAAAAAAAAAAAAAAAAAAAAAAAAAAAAAAAAAAAAAAAAAAAAAAAAAAAAAAAAAAAAAAAAAAAAAAAAAAAAAAAAAAAAAAAAAAAAAAAAAAAAAAAAAAAAAAAAAAAAAAAAAAAAAAAAAAAAAAAAAAAAAAAAAAAAAAAAAAAAAAAAAAAAAAAAAAAAAAAAAAAAAAAAAAAAAAAAAAAAAAAAAAAAAAAAAAAAAAAAAAAAAAAAAAAAAAAAAAAAAAAAAAAAAAAAAAAAAAAAAAAAAAAAAAAAAAAAAAAAAAAAAAAAAAAAAAAAAAAAAAAAAAAAAAAAAAAAAAAAAAAAAAAAAAAAAAAAAAAAAAAAAAAAAAAAAAAAAAAAAAAAAAAAAAAAAAAAAAAAAAAAAAAAAAAAAAAAAAAAAAAAAAAAAAAAAAAAAAAAAAAAAAAAAAAAAAAAAAAAAAAAAAAAAAAAAAAAAAAAAAAAAAAAAAAAAAAAAAAAAAAAAAAAAAAAAAAAAAAAAAAAAAAAAAAAAAAAAAAAAAAAAAAAAAAAAAAAAAAAAAAAAAAAAAAAAAAAAAAAAAAAAAAAAAAAAAAAAAAAAAAAAAAAAAAAAAAAAAAAAAAAAAAAAAAAAAAAAAAAAAAAAAAAAAAAAAAAAAAAAAAAAAAAAAAAAAAAAAAAAAAAAAAAAAAAAAAAAAAAAAAAAAAAAAAAAAAAAAAAAAAAAAAAAAAAAAAAAAAAAAAAAAAAAAAAAAAAAAAAAAAAAAAAAAAAAAAAAAAAAAAAAAAAAAAAAAAAAAAAAAAAAAAAAAAAAAAAAAAAAAAAAAAAAAAAAAAAAAAAAAAAAAAAAAAAAAAAAAAAAAAAAAAAAAAAAAAAAAAAAAAAAAAAAAAAAAAAAAAAAAAAAAAAAAAAAAAAAAAAAAAAAAAAAAAAAAAAAAAAAAAAAAAAAAAAAAAAAAAAAAAAAAAAAAAAAAAAAAAAAAAAAAAAAAAAAAAAAAAAAAAAAAAAAAAAAAAAAAAAAAAAAAAAAAAAAAAAAAAAAAAAAAAAAAAAAAAAAAAAAAAAAAAAAAAAAAAAAAAAAAAAAAAAAAAAAAAAAAAAAAAAAAAAAAAAAAAAAAAAAAAAAAAAAAAAAAAAAAAAAAAAAAAAAAAAAAAAAAAAAAAAAAAAAAAAAAAAAAAAAAAAAAAAAAAAAAAAAAAAAAAAAAAAAAAAAAAAAAAAAAAAAAAAAAAAAAAAAAAAAAAAAAAAAAAAAAAAAAAAAAAAAAAAAAAAAAAAAAAAAAAAAAAAAAAAAAAAAAAAAAAAAAAAAAAAAAAAAAAAAAAAAAAAAAAAAAAAAAAAAAAAAAAAAAAAAAAAAAAAAAAAAAAAAAAAAAAAAAAAAAAAAAAAAAAAAAAAAAAAAAAAAAAAAAAAAAAAAAAAAAAAAAAAAAAAAAAAAAAAAAAAAAAAAAAAAAAAAAAAAAAAAAAAAAAAAAAAAAAAAAAAAAAAAAAAAAAAAAAAAAAAAAAAAAAAAAAAAAAAAAAAAAAAAAAAAAAAAAAAAAAAAAAAAAAAAAAAAAAAAAAAAAAAAAAAAAAAAAAAAAAAAAAAAAAAAAAAAAAAAAAAAAAAAAAAAAAAAAAAAAAAAAAAAAAAAAAAAAAAAAAAAAAAAAAAAAAAAAAAAAAAAAAAAAAAAAAAAAAAAAAAAAAAAAAAAAAAAAAAAAAAAAAAAAAAAAAAAAAAAAAAAAAAAAAAAAAAAAAAAAAAAAAAAAAAAAAAAAAAAAAAAAAAAAAAAAAAAAAAAAAAAAAAAAAAAAAAAAAAAAAAAAAAAAAAAAAAAAAAAAAAAAAAAAAAAAAAAAAAAAAAAAAAAAAAAAAAAAAAAAAAAAAAAAAAAAAAAAAAAAAAAAAAAAAAAAAAAAAAAAAAAAAAAAAAAAAAAAAAAAAAAAAAAAAAAAAAAAAAAAAAAAAAAAAAAAAAAAAAAAAAAAAAAAAAAAAAAAAAAAAAAAAAAAAAAAAAAAAAAAAAAAAAAAAAAAAAAAAAAAAAAAAAAAAAAAAAAAAAAAAAAAAAAAAAAAAAAAAAAAAAAAAAAAAAAAAAAAAAAAAAAAAAAAAAAAAAAAAAAAAAAAAAAAAAAAAAAAAAAAAAAAAAAAAAAAAAAAAAAAAAAAAAAAAAAAAAAAAAAAAAAAAAAAAAAAAAAAAAAAAAAAAAAAAAAAAAAAAAAAAAAAAAAAAAAAAAAAAAAAAAAAAAAAAAAAAAAAAAAAAAAAAAAAAAAAAAAAAAAAAAAAAAAAAAAAAAAAAAAAAAAAAAAAAAAAAAAAAAAAAAAAAAAAAAAAAAAAAAAAAAAAAAAAAAAAAAAAAAAAAAAAAAAAAAAAAAAAAAAAAAAAAAAAAAAAAAAAAAAAAAAAAAAAAAAAAAAAAAAAAAAAAAAAAAAAAAAAAAAAAAAAAAAAAAAAAAAAAAAAAAAAAAAAAAAAAAAAAAAAAAAAAAAAAAAAAAAAAAAAAAAAAAAAAAAAAAAAAAAAAAAAAAAAAAAAAAAAAAAAAAAAAAAAAAAAAAAAAAAAAAAAAAAAAAAAAAAAAAAAAAAAAAAAAAAAAAAAAAAAAAAAAAAAAAAAAAAAAAAAAAAAAAAAAAAAAAAAAAAAAAAAAAAAAAAAAAAAAAAAAAAAAAAAAAAAAAAAAAAAAAAAAAAAAAAAAAAAAAAAAAAAAAAAAAAAAAAAAAAAAAAAAAAAAAAAAAAAAAAAAAAAAAAAAAAAAAAAAAAAAAAAAAAAAAAAAAAAAAAAAAAAAAAAAAAAAAAAAAAAAAAAAAAAAAAAAAAAAAAAAAAAAAAAAAAAAAAAAAAAAAAAAAAAAAAAAAAAAAAAAAAAAAAAAAAAAAAAAAAAAAAAAAAAAAAAAAAAAAAAAAAAAAAAAAAAAAAAAAAAAAAAAAAAAAAAAAAAAAAAAAAAAAAAAAAAAAAAAAAAAAAAAAAAAAAAAAAAAAAAAAAAAAAAAAAAAAAAAAAAAAAAAAAAAAAAAAAAAAAAAAAAAAAAAAAAAAAAAAAAAAAAAAAAAAAAAAAAAAAAAAAAAAAAAAAAAAAAAAAAAAAAAAAAAAAAAAAAAAAAAAAAAAAAAAAAAAAAAAAAAAAAAAAAAAAAAAAAAAAAAAAAAAAAAAAAAAAAAAAAAAAAAAAAAAAAAAAAAAAAAAAAAAAAAAAAAAAAAAAAAAAAAAAAAAAAAAAAAAAAAAAAAAAAAAAAAAAAAAAAAAAAAAAAAAAAAAAAAAAAAAAAAAAAAAAAAAAAAAAAAAAAAAAAAAAAAAAAAAAAAAAAAAAAAAAAAAAAAAAAAAAAAAAAAAAAAAAAAAAAAAAAAAAAAAAAAAAAAAAAAAAAAAAAAAAAAAAAAAAAAAAAAAAAAAAAAAAAAAAAAAAAAAAAAAAAAAAAAAAAAAAAAAAAAAAAAAAAAAAAAAAAAAAAAAAAAAAAAAAAAAAAAAAAAAAAAAAAAAAAAAAAAAAAAAAAAAAAAAAAAAAAAAAAAAAAAAAAAAAAAAAAAAAAAAAAAAAAAAAAAAAAAAAAAAAAAAAAAAAAAAAAAAAAAAAAAAAAAAAAAAAAAAAAAAAAAAAAAAAAAAAAAAAAAAAAAAAAAAAAAAAAAAAAAAAAAAAAAAAAAAAAAAAAAAAAAAAAAAAAAAAAAAAAAAAAAAAAAAAAAAAAAAAAAAAAAAAAAAAAAAAAAAAAAAAAAAAAAAAAAAAAAAAAAAAAAAAAAAAAAAAAAAAAAAAAAAAAAAAAAAAAAAAAAAAAAAAAAAAAAAAAAAAAAAAAAAAAAAAAAAAAAAAAAAAAAAAAAAAAAAAAAAAAAAAAAAAAAAAAAAAAAAAAAAAAAAAAAAAAAAAAAAAAAAAAAAAAAAAAAAAAAAAAAAAAAAAAAAAAAAAAAAAAAAAAAAAAAAAAAAAAAAAAAAAAAAAAAAAAAAAAAAAAAAAAAAAAAAAAAAAAAAAAAAAAAAAAAAAAAAAAAAAAAAAAAAAAAAAAAAAAAAAAAAAAAAAAAAAAAAAAAAAAAAAAAAAAAAAAAAAAAAAAAAAAAAAAAAAAAAAAAAAAAAAAAAAAAAAAAAAAAAAAAAAAAAAAAAAAAAAAAAAAAAAAAAAAAAAAAAAAAAAAAAAAAAAAAAAAAAAAAAAAAAAAAAAAAAAAAAAAAAAAAAAAAAAAAAAAAAAAAAAAAAAAAAAAAAAAAAAAAAAAAAAAAAAAAAAAAAAAAAAAAAAAAAAAAAAAAAAAAAAAAAAAAAAAAAAAAAAAAAAAAAAAAAAAAAAAAAAAAAAAAAAAAAAAAAAAAAAAAAAAAAAAAAAAAAAAAAAAAAAAAAAAAAAAAAAAAAAAAAAAAAAAAAAAAAAAAAAAAAAAAAAAAAAAAAAAAAAAAAAAAAAAAAAAAAAAAAAAAAAAAAAAAAAAAAAAAAAAAAAAAAAAAAAAAAAAAAAAAAAAAAAAAAAAAAAAAAAAAAAAAAAAAAAAAAAAAAAAAAAAAAAAAAAAAAAAAAAAAAAAAAAAAAAAAAAAAAAAAAAAAAAAAAAAAAAAAAAAAAAAAAAAAAAAAAAAAAAAAAAAAAAAAAAAAAAAAAAAAAAAAAAAAAAAAAAAAAAAAAAAAAAAAAAAAAAAAAAAAAAAAAAAAAAAAAAAAAAAAAAAAAAAAAAAAAAAAAAAAAAAAAAAAAAAAAAAAAAAAAAAAAAAAAAAAAAAAAAAAAAAAAAAAAAAAAAAAAAAAAAAAAAAAAAAAAAAAAAAAAAAAAAAAAAAAAAAAAAAAAAAAAAAAAAAAAAAAAAAAAAAAAAAAAAAAAAAAAAAAAAAAAAAAAAAAAAAAAAAAAAAAAAAAAAAAAAAAAAAAAAAAAAAAAAAAAAAAAAAAAAAAAAAAAAAAAAAAAAAAAAAAAAAAAAAAAAAAAAAAAAAAAAAAAAAAAAAAAAAAAAAAAAAAAAAAAAAAAAAAAAAAAAAAAAAAAAAAAAAAAAAAAAAAAAAAAAAAAAAAAAAAAAAAAAAAAAAAAAAAAAAAAAAAAAAAAAAAAAAAAAAAAAAAAAAAAAAAAAAAAAAAAAAAAAAAAAAAAAAAAAAAAAAAAAAAAAAAAAAAAAAAAAAAAAAAAAAAAAAAAAAAAAAAAAAAAAAAAAAAAAAAAAAAAAAAAAAAAAAAAAAAAAAAAAAAAAAAAAAAAAAAAAAAAAAAAAAAAAAAAAAAAAAAAAAAAAAAAAAAAAAAAAAAAAAAAAAAAAAAAAAAAAAAAAAAAAAAAAAAAAAAAAAAAAAAAAAAAAAAAAAAAAAAAAAAAAAAAAAAAAAAAAAAAAAAAAAAAAAAAAAAAAAAAAAAAAAAAAAAAAAAAAAAAAAAAAAAAAAAAAAAAAAAAAAAAAAAAAAAAAAAAAAAAAAAAAAAAAAAAAAAAAAAAAAAAAAAAAAAAAAAAAAAAAAAAAAAAAAAAAAAAAAAAAAAAAAAAAAAAAAAAAAAAAAAAAAAAAAAAAAAAAAAAAAAAAAAAAAAAAAAAAAAAAAAAAAAAAAAAAAAAAAAAAAAAAAAAAAAAAAAAAAAAAAAAAAAAAAAAAAAAAAAAAAAAAAAAAAAAAAAAAAAAAAAAAAAAAAAAAAAAAAAAAAAAAAAAAAAAAAAAAAAAAAAAAAAAAAAAAAAAAAAAAAAAAAAAAAAAAAAAAAAAAAAAAAAAAAAAAAAAAAAAAAAAAAAAAAAAAAAAAAAAAAAAAAAAAAAAAAAAAAAAAAAAAAAAAAAAAAAAAAAAAAAAAAAAAAAAAAAAAAAAAAAAAAAAAAAAAAAAAAAAAAAAAAAAAAAAAAAAAAAAAAAAAAAAAAAAAAAAAAAAAAAAAAAAAAAAAAAAAAAAAAAAAAAAAAAAAAAAAAAAAAAAAAAAAAAAAAAAAAAAAAAAAAAAAAAAAAAAAAAAAAAAAAAAAAAAAAAAAAAAAAAAAAAAAAAAAAAAAAAAAAAAAAAAAAAAAAAAAAAAAAAAAAAAAAAAAAAAAAAAAAAAAAAAAAAAAAAAAAAAAAAAAAAAAAAAAAAAAAAAAAAAAAAAAAAAAAAAAAAAAAAAAAAAAAAAAAAAAAAAAAAAAAAAAAAAAAAAAAAAAAAAAAAAAAAAAAAAAAAAAAAAAAAAAAAAAAAAAAAAAAAAAAAAAAAAAAAAAAAAAAAAAAAAAAAAAAAAAAAAAAAAAAAAAAAAAAAAAAAAAAAAAAAAAAAAAAAAAAAAAAAAAAAAAAAAAAAAAAAAAAAAAAAAAAAAAAAAAAAAAAAAAAAAAAAAAAAAAAAAAAAAAAAAAAAAAAAAAAAAAAAAAAAAAAAAAAAAAAAAAAAAAAAAAAAAAAAAAAAAAAAAAAAAAAAAAAAAAAAAAAAAAAAAAAAAAAAAAAAAAAAAAAAAAAAAAAAAAAAAAAAAAAAAAAAAAAAAAAAAAAAAAAAAAAAAAAAAAAAAAAAAAAAAAAAAAAAAAAAAAAAAAAAAAAAAAAAAAAAAAAAAAAAAAAAAAAAAAAAAAAAAAAAAAAAAAAAAAAAAAAAAAAAAAAAAAAAAAAAAAAAAAAAAAAAAAAAAAAAAAAAAAAAAAAAAAAAAAAAAAAAAAAAAAAAAAAAAAAAAAAAAAAAAAAAAAAAAAAAAAAAAAAAAAAAAAAAAAAAAAAAAAAAAAAAAAAAAAAAAAAAAAAAAAAAAAAAAAAAAAAAAAAAAAAAAAAAAAAAAAAAAAAAAAAAAAAAAAAAAAAAAAAAAAAAAAAAAAAAAAAAAAAAAAAAAAAAAAAAAAAAAAAAAAAAAAAAAAAAAAAAAAAAAAAAAAAAAAAAAAAAAAAAAAAAAAAAAAAAAAAAAAAAAAAAAAAAAAAAAAAAAAAAAAAAAAAAAAAAAAAAAAAAAAAAAAAAAAAAAAAAAAAAAAAAAAAAAAAAAAAAAAAAAAAAAAAAAAAAAAAAAAAAAAAAAAAAAAAAAAAAAAAAAAAAAAAAAAAAAAAAAAAAAAAAAAAAAAAAAAAAAAAAAAAAAAAAAAAAAAAAAAAAAAAAAAAAAAAAAAAAAAAAAAAAAAAAAAAAAAAAAAAAAAAAAAAAAAAAAAAAAAAAAAAAAAAAAAAAAAAAAAAAAAAAAAAAAAAAAAAAAAAAAAAAAAAAAAAAAAAAAAAAAAAAAAAAAAAAAAAAAAAAAAAAAAAAAAAAAAAAAAAAAAAAAAAAAAAAAAAAAAAAAAAAAAAAAAAAAAAAAAAAAAAAAAAAAAAAAAAAAAAAAAAAAAAAAAAAAAAAAAAAAAAAAAAAAAAAAAAAAAAAAAAAAAAAAAAAAAAAAAAAAAAAAAAAAAAAAAAAAAAAAAAAAAAAAAAAAAAAAAAAAAAAAAAAAAAAAAAAAAAAAAAAAAAAAAAAAAAAAAAAAAAAAAAAAAAAAAAAAAAAAAAAAAAAAAAAAAAAAAAAAAAAAAAAAAAAAAAAAAAAAAAAAAAAAAAAAAAAAAAAAAAAAAAAAAAAAAAAAAAAAAAAAAAAAAAAAAAAAAAAAAAAAAAAAAAAAAAAAAAAAAAAAAAAAAAAAAAAAAAAAAAAAAAAAAAAAAAAAAAAAAAAAAAAAAAAAAAAAAAAAAAAAAAAAAAAAAAAAAAAAAAAAAAAAAAAAAAAAAAAAAAAAAAAAAAAAAAAAAAAAAAAAAAAAAAAAAAAAAAAAAAAAAAAAAAAAAAAAAAAAAAAAAAAAAAAAAAAAAAAAAAAAAAAAAAAAAAAAAAAAAAAAAAAAAAAAAAAAAAAAAAAAAAAAAAAAAAAAAAAAAAAAAAAAAAAAAAAAAAAAAAAAAAAAAAAAAAAAAAAAAAAAAAAAAAAAAAAAAAAAAAAAAAAAAAAAAAAAAAAAAAAAAAAAAAAAAAAAAAAAAAAAAAAAAAAAAAAAAAAAAAAAAAAAAAAAAAAAAAAAAAAAAAAAAAAAAAAAAAAAAAAAAAAAAAAAAAAAAAAAAAAAAAAAAAAAAAAAAAAAAAAAAAAAAAAAAAAAAAAAAAAAAAAAAAAAAAAAAAAAAAAAAAAAAAAAAAAAAAAAAAAAAAAAAAAAAAAAAAAAAAAAAAAAAAAAAAAAAAAAAAAAAAAAAAAAAAAAAAAAAAAAAAAAAAAAAAAAAAAAAAAAAAAAAAAAAAAAAAAAAAAAAAAAAAAAAAAAAAAAAAAAAAAAAAAAAAAAAAAAAAAAAAAAAAAAAAAAAAAAAAAAAAAAAAAAAAAAAAAAAAAAAAAAAAAAAAAAAAAAAAAAAAAAAAAAAAAAAAAAAAAAAAAAAAAAAAAAAAAAAAAAAAAAAAAAAAAAAAAAAAAAAAAAAAAAAAAAAAAAAAAAAAAAAAAAAAAAAAAAAAAAAAAAAAAAAAAAAAAAAAAAAAAAAAAAAAAAAAAAAAAAAAAAAAAAAAAAAAAAAAAAAAAAAAAAAAAAAAAAAAAAAAAAAAAAAAAAAAAAAAAAAAAAAAAAAAAAAAAAAAAAAAAAAAAAAAAAAAAAAAAAAAAAAAAAAAAAAAAAAAAAAAAAAAAAAAAAAAAAAAAAAAAAAAAAAAAAAAAAAAAAAAAAAAAAAAAAAAAAAAAAAAAAAAAAAAAAAAAAAAAAAAAAAAAAAAAAAAAAAAAAAAAAAAAAAAAAAAAAAAAAAAAAAAAAAAAAAAAAAAAAAAAAAAAAAAAAAAAAAAAAAAAAAAAAAAAAAAAAAAAAAAAAAAAAAAAAAAAAAAAAAAAAAAAAAAAAAAAAAAAAAAAAAAAAAAAAAAAAAAAAAAAAAAAAAAAAAAAAAAAAAAAAAAAAAAAAAAAAAAAAAAAAAAAAAAAAAAAAAAAAAAAAAAAAAAAAAAAAAAAAAAAAAAAAAAAAAAAAAAAAAAAAAAAAAAAAAAAAAAAAAAAAAAAAAAAAAAAAAAAAAAAAAAAAAAAAAAAAAAAAAAAAAAAAAAAAAAAAAAAAAAAAAAAAAAAAAAAAAAAAAAAAAAAAAAAAAAAAAAAAAAAAAAAAAAAAAAAAAAAAAAAAAAAAAAAAAAAAAAAAAAAAAAAAAAAAAAAAAAAAAAAAAAAAAAAAAAAAAAAAAAAAAAAAAAAAAAAAAAAAAAAAAAAAAAAAAAAAAAAAAAAAAAAAAAAAAAAAAAAAAAAAAAAAAAAAAAAAAAAAAAAAAAAAAAAAAAAAAAAAAAAAAAAAAAAAAAAAAAAAAAAAAAAAAAAAAAAAAAAAAAAAAAAAAAAAAAAAAAAAAAAAAAAAAAAAAAAAAAAAAAAAAAAAAAAAAAAAAAAAAAAAAAAAAAAAAAAAAAAAAAAAAAAAAAAAAAAAAAAAAAAAAAAAAAAAAAAAAAAAAAAAAAAAAAAAAAAAAAAAAAAAAAAAAAAAAAAAAAAAAAAAAAAAAAAAAAAAAAAAAAAAAAAAAAAAAAAAAAAAAAAAAAAAAAAAAAAAAAAAAAAAAAAAAAAAAAAAAAAAAAAAAAAAAAAAAAAAAAAAAAAAAAAAAAAAAAAAAAAAAAAAAAAAAAAAAAAAAAAAAAAAAAAAAAAAAAAAAAAAAAAAAAAAAAAAAAAAAAAAAAAAAAAAAAAAAAAAAAAAAAAAAAAAAAAAAAAAAAAAAAAAAAAAAAAAAAAAAAAAAAAAAAAAAAAAAAAAAAAAAAAAAAAAAAAAAAAAAAAAAAAAAAAAAAAAAAAAAAAAAAAAAAAAAAAAAAAAAAAAAAAAAAAAAAAAAAAAAAAAAAAAAAAAAAAAAAAAAAAAAAAAAAAAAAAAAAAAAAAAAAAAAAAAAAAAAAAAAAAAAAAAAAAAAAAAAAAAAAAAAAAAAAAAAAAAAAAAAAAAAAAAAAAAAAAAAAAAAAAAAAAAAAAAAAAAAAAAAAAAAAAAAAAAAAAAAAAAAAAAAAAAAAAAAAAAAAAAAAAAAAAAAAAAAAAAAAAAAAAAAAAAAAAAAAAAAAAAAAAAAAAAAAAAAAAAAAAAAAAAAAAAAAAAAAAAAAAAAAAAAAAAAAAAAAAAAAAAAAAAAAAAAAAAAAAAAAAAAAAAAAAAAAAAAAAAAAAAAAAAAAAAAAAAAAAAAAAAAAAAAAAAAAAAAAAAAAAAAAAAAAAAAAAAAAAAAAAAAAAAAAAAAAAAAAAAAAAAAAAAAAAAAAAAAAAAAAAAAAAAAAAAAAAAAAAAAAAAAAAAAAAAAAAAAAAAAAAAAAAAAAAAAAAAAAAAAAAAAAAAAAAAAAAAAAAAAAAAAAAAAAAAAAAAAAAAAAAAAAAAAAAAAAAAAAAAAAAAAAAAAAAAAAAAAAAAAAAAAAAAAAAAAAAAAAAAAAAAAAAAAAAAAAAAAAAAAAAAAAAAAAAAAAAAAAAAAAAAAAAAAAAAAAAAAAAAAAAAAAAAAAAAAAAAAAAAAAAAAAAAAAAAAAAAAAAAAAAAAAAAAAAAAAAAAAAAAAAAAAAAAAAAAAAAAAAAAAAAAAAAAAAAAAAAAAAAAAAAAAAAAAAAAAAAAAAAAAAAAAAAAAAAAAAAAAAAAAAAAAAAAAAAAAAAAAAAAAAAAAAAAAAAAAAAAAAAAAAAAAAAAAAAAAAAAAAAAAAAAAAAAAAAAAAAAAAAAAAAAAAAAAAAAAAAAAAAAAAAAAAAAAAAAAAAAAAAAAAAAAAAAAAAAAAAAAAAAAAAAAAAAAAAAAAAAAAAAAAAAAAAAAAAAAAAAAAAAAAAAAAAAAAAAAAAAAAAAAAAAAAAAAAAAAAAAAAAAAAAAAAAAAAAAAAAAAAAAAAAAAAAAAAAAAAAAAAAAAAAAAAAAAAAAAAAAAAAAAAAAAAAAAAAAAAAAAAAAAAAAAAAAAAAAAAAAAAAAAAAAAAAAAAAAAAAAAAAAAAAAAAAAAAAAAAAAAAAAAAAAAAAAAAAAAAAAAAAAAAAAAAAAAAAAAAAAAAAAAAAAAAAAAAAAAAAAAAAAAAAAAAAAAAAAAAAAAAAAAAAAAAAAAAAAAAAAAAAAAAAAAAAAAAAAAAAAAAAAAAAAAAAAAAAAAAAAAAAAAAAAAAAAAAAAAAAAAAAAAAAAAAAAAAAAAAAAAAAAAAAAAAAAAAAAAAAAAAAAAAAAAAAAAAAAAAAAAAAAAAAAAAAAAAAAAAAAAAAAAAAAAAAAAAAAAAAAAAAAAAAAAAAAAAAAAAAAAAAAAAAAAAAAAAAAAAAAAAAAAAAAAAAAAAAAAAAAAAAAAAAAAAAAAAAAAAAAAAAAAAAAAAAAAAAAAAAAAAAAAAAAAAAAAAAAAAAAAAAAAAAAAAAAAAAAAAAAAAAAAAAAAAAAAAAAAAAAAAAAAAAAAAAAAAAAAAAAAAAAAAAAAAAAAAAAAAAAAAAAAAAAAAAAAAAAAAAAAAAAAAAAAAAAAAAAAAAAAAAAAAAAAAAAAAAAAAAAAAAAAAAAAAAAAAAAAAAAAAAAAAAAAAAAAAAAAAAAAAAAAAAAAAAAAAAAAAAAAAAAAAAAAAAAAAAAAAAAAAAAAAAAAAAAAAAAAAAAAAAAAAAAAAAAAAAAAAAAAAAAAAAAAAAAAAAAAAAAAAAAAAAAAAAAAAAAAAAAAAAAAAAAAAAAAAAAAAAAAAAAAAAAAAAAAAAAAAAAAAAAAAAAAAAAAAAAAAAAAAAAAAAAAAAAAAAAAAAAAAAAAAAAAAAAAAAAAAAAAAAAAAAAAAAAAAAAAAAAAAAAAAAAAAAAAAAAAAAAAAAAAAAAAAAAAAAAAAAAAAAAAAAAAAAAAAAAAAAAAAAAAAAAAAAAAAAAAAAAAAAAAAAAAAAAAAAAAAAAAAAAAAAAAAAAAAAAAAAAAAAAAAAAAAAAAAAAAAAAAAAAAAAAAAAAAAAAAAAAAAAAAAAAAAAAAAAAAAAAAAAAAAAAAAAAAAAAAAAAAAAAAAAAAAAAAAAAAAAAAAAAAAAAAAAAAAAAAAAAAAAAAAAAAAAAAAAAAAAAAAAAAAAAAAAAAAAAAAAAAAAAAAAAAAAAAAAAAAAAAAAAAAAAAAAAAAAAAAAAAAAAAAAAAAAAAAAAAAAAAAAAAAAAAAAAAAAAAAAAAAAAAAAAAAAAAAAAAAAAAAAAAAAAAAAAAAAAAAAAAAAAAAAAAAAAAAAAAAAAAAAAAAAAAAAAAAAAAAAAAAAAAAAAAAAAAAAAAAAAAAAAAAAAAAAAAAAAAAAAAAAAAAAAAAAAAAAAAAAAAAAAAAAAAAAAAAAAAAAAAAAAAAAAAAAAAAAAAAAAAAAAAAAAAAAAAAAAAAAAAAAAAAAAAAAAAAAAAAAAAAAAAAAAAAAAAAAAAAAAAAAAAAAAAAAAAAAAAAAAAAAAAAAAAAAAAAAAAAAAAAAAAAAAAAAAAAAAAAAAAAAAAAAAAAAAAAAAAAAAAAAAAAAAAAAAAAAAAAAAAAAAAAAAAAAAAAAAAAAAAAAAAAAAAAAAAAAAAAAAAAAAAAAAAAAAAAAAAAAAAAAAAAAAAAAAAAAAAAAAAAAAAAAAAAAAAAAAAAAAAAAAAAAAAAAAAAAAAAAAAAAAAAAAAAAAAAAAAAAAAAAAAAAAAAAAAAAAAAAAAAAAAAAAAAAAAAAAAAAAAAAAAAAAAAAAAAAAAAAAAAAAAAAAAAAAAAAAAAAAAAAAAAAAAAAAAAAAAAAAAAAAAAAAAAAAAAAAAAAAAAAAAAAAAAAAAAAAAAAAAAAAAAAAAAAAAAAAAAAAAAAAAAAAAAAAAAAAAAAAAAAAAAAAAAAAAAAAAAAAAAAAAAAAAAAAAAAAAAAAAAAAAAAAAAAAAAAAAAAAAAAAAAAAAAAAAAAAAAAAAAAAAAAAAAAAAAAAAAAAAAAAAAAAAAAAAAAAAAAAAAAAAAAAAAAAAAAAAAAAAAAAAAAAAAAAAAAAAAAAAAAAAAAAAAAAAAAAAAAAAAAAAAAAAAAAAAAAAAAAAAAAAAAAAAAAAAAAAAAAAAAAAAAAAAAAAAAAAAAAAAAAAAAAAAAAAAAAAAAAAAAAAAAAAAAAAAAAAAAAAAAAAAAAAAAAAAAAAAAAAAAAAAAAAAAAAAAAAAAAAAAAAAAAAAAAAAAAAAAAAAAAAAAAAAAAAAAAAAAAAAAAAAAAAAAAAAAAAAAAAAAAAAAAAAAAAAAAAAAAAAAAAAAAAAAAAAAAAAAAAAAAAAAAAAAAAAAAAAAAAAAAAAAAAAAAAAAAAAAAAAAAAAAAAAAAAAAAAAAAAAAAAAAAAAAAAAAAAAAAAAAAAAAAAAAAAAAAAAAAAAAAAAAAAAAAAAAAAAAAAAAAAAAAAAAAAAAAAAAAAAAAAAAAAAAAAAAAAAAAAAAAAAAAAAAAAAAAAAAAAAAAAAAAAAAAAAAAAAAAAAAAAAAAAAAAAAAAAAAAAAAAAAAAAAAAAAAAAAAAAAAAAAAAAAAAAAAAAAAAAAAAAAAAAAAAAAAAAAAAAAAAAAAAAAAAAAAAAAAAAAAAAAAAAAAAAAAAAAAAAAAAAAAAAAAAAAAAAAAAAAAAAAAAAAAAAAAAAAAAAAAAAAAAAAAAAAAAAAAAAAAAAAAAAAAAAAAAAAAAAAAAAAAAAAAAAAAAAAAAAAAAAAAAAAAAAAAAAAAAAAAAAAAAAAAAAAAAAAAAAAAAAAAAAAAAAAAAAAAAAAAAAAAAAAAAAAAAAAAAAAAAAAAAAAAAAAAAAAAAAAAAAAAAAAAAAAAAAAAAAAAAAAAAAAAAAAAAAAAAAAAAAAAAAAAAAAAAAAAAAAAAAAAAAAAAAAAAAAAAAAAAAAAAAAAAAAAAAAAAAAAAAAAAAAAAAAAAAAAAAAAAAAAAAAAAAAAAAAAAAAAAAAAAAAAAAAAAAAAAAAAAAAAAAAAAAAAAAAAAAAAAAAAAAAAAAAAAAAAAAAAAAAAAAAAAAAAAAAAAAAAAAAAAAAAAAAAAAAAAAAAAAAAAAAAAAAAAAAAAAAAAAAAAAAAAAAAAAAAAAAAAAAAAAAAAAAAAAAAAAAAAAAAAAAAAAAAAAAAAAAAAAAAAAAAAAAAAAAAAAAAAAAAAAAAAAAAAAAAAAAAAAAAAAAAAAAAAAAAAAAAAAAAAAAAAAAAAAAAAAAAAAAAAAAAAAAAAAAAAAAAAAAAAAAAAAAAAAAAAAAAAAAAAAAAAAAAAAAAAAAAAAAAAAAAAAAAAAAAAAAAAAAAAAAAAAAAAAAAAAAAAAAAAAAAAAAAAAAAAAAAAAAAAAAAAAAAAAAAAAAAAAAAAAAAAAAAAAAAAAAAAAAAAAAAAAAAAAAAAAAAAAAAAAAAAAAAAAAAAAAAAAAAAAAAAAAAAAAAAAAAAAAAAAAAAAAAAAAAAAAAAAAAAAAAAAAAAAAAAAAAAAAAAAAAAAAAAAAAAAAAAAAAAAAAAAAAAAAAAAAAAAAAAAAAAAAAAAAAAAAAAAAAAAAAAAAAAAAAAAAAAAAAAAAAAAAAAAAAAAAAAAAAAAAAAAAAAAAAAAAAAAAAAAAAAAAAAAAAAAAAAAAAAAAAAAAAAAAAAAAAAAAAAAAAAAAAAAAAAAAAAAAAAAAAAAAAAAAAAAAAAAAAAAAAAAAAAAAAAAAAAAAAAAAAAAAAAAAAAAAAAAAAAAAAAAAAAAAAAAAAAAAAAAAAAAAAAAAAAAAAAAAAAAAAAAAAAAAAAAAAAAAAAAAAAAAAAAAAAAAAAAAAAAAAAAAAAAAAAAAAAAAAAAAAAAAAAAAAAAAAAAAAAAAAAAAAAAAAAAAAAAAAAAAAAAAAAAAAAAAAAAAAAAAAAAAAAAAAAAAAAAAAAAAAAAAAAAAAAAAAAAAAAAAAAAAAAAAAAAAAAAAAAAAAAAAAAAAAAAAAAAAAAAAAAAAAAAAAAAAAAAAAAAAAAAAAAAAAAAAAAAAAAAAAAAAAAAAAAAAAAAAAAAAAAAAAAAAAAAAAAAAAAAAAAAAAAAAAAAAAAAAAAAAAAAAAAAAAAAAAAAAAAAAAAAAAAAAAAAAAAAAAAAAAAAAAAAAAAAAAAAAAAAAAAAAAAAAAAAAAAAAAAAAAAAAAAAAAAAAAAAAAAAAAAAAAAAAAAAAAAAAAAAAAAAAAAAAAAAAAAAAAAAAAAAAAAAAAAAAAAAAAAAAAAAAAAAAAAAAAAAAAAAAAAAAAAAAAAAAAAAAAAAAAAAAAAAAAAAAAAAAAAAAAAAAAAAAAAAAAAAAAAAAAAAAAAAAAAAAAAAAAAAAAAAAAAAAAAAAAAAAAAAAAAAAAAAAAAAAAAAAAAAAAAAAAAAAAAAAAAAAAAAAAAAAAAAAAAAAAAAAAAAAAAAAAAAAAAAAAAAAAAAAAAAAAAAAAAAAAAAAAAAAAAAAAAAAAAAAAAAAAAAAAAAAAAAAAAAAAAAAAAAAAAAAAAAAAAAAAAAAAAAAAAAAAAAAAAAAAAAAAAAAAAAAAAAAAAAAAAAAAAAAAAAAAAAAAAAAAAAAAAAAAAAAAAAAAAAAAAAAAAAAAAAAAAAAAAAAAAAAAAAAAAAAAAAAAAAAAAAAAAAAAAAAAAAAAAAAAAAAAAAAAAAAAAAAAAAAAAAAAAAAAAAAAAAAAAAAAAAAAAAAAAAAAAAAAAAAAAAAAAAAAAAAAAAAAAAAAAAAAAAAAAAAAAAAAAAAAAAAAAAAAAAAAAAAAAAAAAAAAAAAAAAAAAAAAAAAAAAAAAAAAAAAAAAAAAAAAAAAAAAAAAAAAAAAAAAAAAAAAAAAAAAAAAAAAAAAAAAAAAAAAAAAAAAAAAAAAAAAAAAAAAAAAAAAAAAAAAAAAAAAAAAAAAAAAAAAAAAAAAAAAAAAAAAAAAAAAAAAAAAAAAAAAAAAAAAAAAAAAAAAAAAAAAAAAAAAAAAAAAAAAAAAAAAAAAAAAAAAAAAAAAAAAAAAAAAAAAAAAAAAAAAAAAAAAAAAAAAAAAAAAAAAAAAAAAAAAAAAAAAAAAAAAAAAAAAAAAAAAAAAAAAAAAAAAAAAAAAAAAAAAAAAAAAAAAAAAAAAAAAAAAAAAAAAAAAAAAAAAAAAAAAAAAAAAAAAAAAAAAAAAAAAAAAAAAAAAAAAAAAAAAAAAAAAAAAAAAAAAAAAAAAAAAAAAAAAAAAAAAAAAAAAAAAAAAAAAAAAAAAAAAAAAAAAAAAAAAAAAAAAAAAAAAAAAAAAAAAAAAAAAAAAAAAAAAAAAAAAAAAAAAAAAAAAAAAAAAAAAAAAAAAAAAAAAAAAAAAAAAAAAAAAAAAAAAAAAAAAAAAAAAAAAAAAAAAAAAAAAAAAAAAAAAAAAAAAAAAAAAAAAAAAAAAAAAAAAAAAAAAAAAAAAAAAAAAAAAAAAAAAAAAAAAAAAAAAAAAAAAAAAAAAAAAAAAAAAAAAAAAAAAAAAAAAAAAAAAAAAAAAAAAAAAAAAAAAAAAAAAAAAAAAAAAAAAAAAAAAAAAAAAAAAAAAAAAAAAAAAAAAAAAAAAAAAAAAAAAAAAAAAAAAAAAAAAAAAAAAAAAAAAAAAAAAAAAAAAAAAAAAAAAAAAAAAAAAAAAAAAAAAAAAAAAAAAAAAAAAAAAAAAAAAAAAAAAAAAAAAAAAAAAAAAAAAAAAAAAAAAAAAAAAAAAAAAAAAAAAAAAAAAAAAAAAAAAAAAAAAAAAAAAAAAAAAAAAAAAAAAAAAAAAAAAAAAAAAAAAAAAAAAAAAAAAAAAAAAAAAAAAAAAAAAAAAAAAAAAAAAAAAAAAAAAAAAAAAAAAAAAAAAAAAAAAAAAAAAAAAAAAAAAAAAAAAAAAAAAAAAAAAAAAAAAAAAAAAAAAAAAAAAAAAAAAAAAAAAAAAAAAAAAAAAAAAAAAAAAAAAAAAAAAAAAAAAAAAAAAAAAAAAAAAAAAAAAAAAAAAAAAAAAAAAAAAAAAAAAAAAAAAAAAAAAAAAAAAAAAAAAAAAAAAAAAAAAAAAAAAAAAAAAAAAAAAAAAAAAAAAAAAAAAAAAAAAAAAAAAAAAAAAAAAAAAAAAAAAAAAAAAAAAAAAAAAAAAAAAAAAAAAAAAAAAAAAAAAAAAAAAAAAAAAAAAAAAAAAAAAAAAAAAAAAAAAAAAAAAAAAAAAAAAAAAAAAAAAAAAAAAAAAAAAAAAAAAAAAAAAAAAAAAAAAAAAAAAAAAAAAAAAAAAAAAAAAAAAAAAAAAAAAAAAAAAAAAAAAAAAAAAAAAAAAAAAAAAAAAAAAAAAAAAAAAAAAAAAAAAAAAAAAAAAAAAAAAAAAAAAAAAAAAAAAAAAAAAAAAAAAAAAAAAAAAAAAAAAAAAAAAAAAAAAAAAAAAAAAAAAAAAAAAAAAAAAAAAAAAAAAAAAAAAAAAAAAAAAAAAAAAAAAAAAAAAAAAAAAAAAAAAAAAAAAAAAAAAAAAAAAAAAAAAAAAAAAAAAAAAAAAAAAAAAAAAAAAAAAAAAAAAAAAAAAAAAAAAAAAAAAAAAAAAAAAAAAAAAAAAAAAAAAAAAAAAAAAAAAAAAAAAAAAAAAAAAAAAAAAAAAAAAAAAAAAAAAAAAAAAAAAAAAAAAAAAAAAAAAAAAAAAAAAAAAAAAAAAAAAAAAAAAAAAAAAAAAAAAAAAAAAAAAAAAAAAAAAAAAAAAAAAAAAAAAAAAAAAAAAAAAAAAAAAAAAAAAAAAAAAAAAAAAAAAAAAAAAAAAAAAAAAAAAAAAAAAAAAAAAAAAAAAAAAAAAAAAAAAAAAAAAAAAAAAAAAAAAAAAAAAAAAAAAAAAAAAAAAAAAAAAAAAAAAAAAAAAAAAAAAAAAAAAAAAAAAAAAAAAAAAAAAAAAAAAAAAAAAAAAAAAAAAAAAAAAAAAAAAAAAAAAAAAAAAAAAAAAAAAAAAAAAAAAAAAAAAAAAAAAAAAAAAAAAAAAAAAAAAAAAAAAAAAAAAAAAAAAAAAAAAAAAAAAAAAAAAAAAAAAAAAAAAAAAAAAAAAAAAAAAAAAAAAAAAAAAAAAAAAAAAAAAAAAAAAAAAAAAAAAAAAAAAAAAAAAAAAAAAAAAAAAAAAAAAAAAAAAAAAAAAAAAAAAAAAAAAAAAAAAAAAAAAAAAAAAAAAAAAAAAAAAAAAAAAAAAAAAAAAAAAAAAAAAAAAAAAAAAAAAAAAAAAAAAAAAAAAAAAAAAAAAAAAAAAAAAAAAAAAAAAAAAAAAAAAAAAAAAAAAAAAAAAAAAAAAAAAAAAAAAAAAAAAAAAAAAAAAAAAAAAAAAAAAAAAAAAAAAAAAAAAAAAAAAAAAAAAAAAAAAAAAAAAAAAAAAAAAAAAAAAAAAAAAAAAAAAAAAAAAAAAAAAAAAAAAAAAAAAAAAAAAAAAAAAAAAAAAAAAAAAAAAAAAAAAAAAAAAAAAAAAAAAAAAAAAAAAAAAAAAAAAAAAAAAAAAAAAAAAAAAAAAAAAAAAAAAAAAAAAAAAAAAAAAAAAAAAAAAAAAAAAAAAAAAAAAAAAAAAAAAAAAAAAAAAAAAAAAAAAAAAAAAAAAAAAAAAAAAAAAAAAAAAAAAAAAAAAAAAAAAAAAAAAAAAAAAAAAAAAAAAAAAAAAAAAAAAAAAAAAAAAAAAAAAAAAAAAAAAAAAAAAAAAAAAAAAAAAAAAAAAAAAAAAAAAAAAAAAAAAAAAAAAAAAAAAAAAAAAAAAAAAAAAAAAAAAAAAAAAAAAAAAAAAAAAAAAAAAAAAAAAAAAAAAAAAAAAAAAAAAAAAAAAAAAAAAAAAAAAAAAAAAAAAAAAAAAAAAAAAAAAAAAAAAAAAAAAAAAAAAAAAAAAAAAAAAAAAAAAAAAAAAAAAAAAAAAAAAAAAAAAAAAAAAAAAAAAAAAAAAAAAAAAAAAAAAAAAAAAAAAAAAAAAAAAAAAAAAAAAAAAAAAAAAAAAAAAAAAAAAAAAAAAAAAAAAAAAAAAAAAAAAAAAAAAAAAAAAAAAAAAAAAAAAAAAAAAAAAAAAAAAAAAAAAAAAAAAAAAAAAAAAAAAAAAAAAAAAAAAAAAAAAAAAAAAAAAAAAAAAAAAAAAAAAAAAAAAAAAAAAAAAAAAAAAAAAAAAAAAAAAAAAAAAAAAAAAAAAAAAAAAAAAAAAAAAAAAAAAAAAAAAAAAAAAAAAAAAAAAAAAAAAAAAAAAAAAAAAAAAAAAAAAAAAAAAAAAAAAAAAAAAAAAAAAAAAAAAAAAAAAAAAAAAAAAAAAAAAAAAAAAAAAAAAAAAAAAAAAAAAAAAAAAAAAAAAAAAAAAAAAAAAAAAAAAAAAAAAAAAAAAAAAAAAAAAAAAAAAAAAAAAAAAAAAAAAAAAAAAAAAAAAAAAAAAAAAAAAAAAAAAAAAAAAAAAAAAAAAAAAAAAAAAAAAAAAAAAAAAAAAAAAAAAAAAAAAAAAAAAAAAAAAAAAAAAAAAAAAAAAAAAAAAAAAAAAAAAAAAAAAAAAAAAAAAAAAAAAAAAAAAAAAAAAAAAAAAAAAAAAAAAAAAAAAAAAAAAAAAAAAAAAAAAAAAAAAAAAAAAAAAAAAAAAAAAAAAAAAAAAAAAAAAAAAAAAAAAAAAAAAAAAAAAAAAAAAAAAAAAAAAAAAAAAAAAAAAAAAAAAAAAAAAAAAAAAAAAAAAAAAAAAAAAAAAAAAAAAAAAAAAAAAAAAAAAAAAAAAAAAAAAAAAAAAAAAAAAAAAAAAAAAAAAAAAAAAAAAAAAAAAAAAAAAAAAAAAAAAAAAAAAAAAAAAAAAAAAAAAAAAAAAAAAAAAAAAAAAAAAAAAAAAAAAAAAAAAAAAAAAAAAAAAAAAAAAAAAAAAAAAAAAAAAAAAAAAAAAAAAAAAAAAAAAAAAAAAAAAAAAAAAAAAAAAAAAAAAAAAAAAAAAAAAAAAAAAAAAAAAAAAAAAAAAAAAAAAAAAAAAAAAAAAAAAAAAAAAAAAAAAAAAAAAAAAAAAAAAAAAAAAAAAAAAAAAAAAAAAAAAAAAAAAAAAAAAAAAAAAAAAAAAAAAAAAAAAAAAAAAAAAAAAAAAAAAAAAAAAAAAAAAAAAAAAAAAAAAAAAAAAAAAAAAAAAAAAAAAAAAAAAAAAAAAAAAAAAAAAAAAAAAAAAAAAAAAAAAAAAAAAAAAAAAAAAAAAAAAAAAAAAAAAAAAAAAAAAAAAAAAAAAAAAAAAAAAAAAAAAAAAAAAAAAAAAAAAAAAAAAAAAAAAAAAAAAAAAAAAAAAAAAAAAAAAAAAAAAAAAAAAAAAAAAAAAAAAAAAAAAAAAAAAAAAAAAAAAAAAAAAAAAAAAAAAAAAAAAAAAAAAAAAAAAAAAAAAAAAAAAAAAAAAAAAAAAAAAAAAAAAAAAAAAAAAAAAAAAAAAAAAAAAAAAAAAAAAAAAAAAAAAAAAAAAAAAAAAAAAAAAAAAAAAAAAAAAAAAAAAAAAAAAAAAAAAAAAAAAAAAAAAAAAAAAAAAAAAAAAAAAAAAAAAAAAAAAAAAAAAAAAAAAAAAAAAAAAAAAAAAAAAAAAAAAAAAAAAAAAAAAAAAAAAAAAAAAAAAAAAAAAAAAAAAAAAAAAAAAAAAAAAAAAAAAAAAAAAAAAAAAAAAAAAAAAAAAAAAAAAAAAAAAAAAAAAAAAAAAAAAAAAAAAAAAAAAAAAAAAAAAAAAAAAAAAAAAAAAAAAAAAAAAAAAAAAAAAAAAAAAAAAAAAAAAAAAAAAAAAAAAAAAAAAAAAAAAAAAAAAAAAAAAAAAAAAAAAAAAAAAAAAAAAAAAAAAAAAAAAAAAAAAAAAAAAAAAAAAAAAAAAAAAAAAAAAAAAAAAAAAAAAAAAAAAAAAAAAAAAAAAAAAAAAAAAAAAAAAAAAAAAAAAAAAAAAAAAAAAAAAAAAAAAAAAAAAAAAAAAAAAAAAAAAAAAAAAAAAAAAAAAAAAAAAAAAAAAAAAAAAAAAAAAAAAAAAAAAAAAAAAAAAAAAAAAAAAAAAAAAAAAAAAAAAAAAAAAAAAAAAAAAAAAAAAAAAAAAAAAAAAAAAAAAAAAAAAAAAAAAAAAAAAAAAAAAAAAAAAAAAAAAAAAAAAAAAAAAAAAAAAAAAAAAAAAAAAAAAAAAAAAAAAAAAAAAAAAAAAAAAAAAAAAAAAAAAAAAAAAAAAAAAAAAAAAAAAAAAAAAAAAAAAAAAAAAAAAAAAAAAAAAAAAAAAAAAAAAAAAAAAAAAAAAAAAAAAAAAAAAAAAAAAAAAAAAAAAAAAAAAAAAAAAAAAAAAAAAAAAAAAAAAAAAAAAAAAAAAAAAAAAAAAAAAAAAAAAAAAAAAAAAAAAAAAAAAAAAAAAAAAAAAAAAAAAAAAAAAAAAAAAAAAAAAAAAAAAAAAAAAAAAAAAAAAAAAAAAAAAAAAAAAAAAAAAAAAAAAAAAAAAAAAAAAAAAAAAAAAAAAAAAAAAAAAAAAAAAAAAAAAAAAAAAAAAAAAAAAAAAAAAAAAAAAAAAAAAAAAAAAAAAAAAAAAAAAAAAAAAAAAAAAAAAAAAAAAAAAAAAAAAAAAAAAAAAAAAAAAAAAAAAAAAAAAAAAAAAAAAAAAAAAAAAAAAAAAAAAAAAAAAAAAAAAAAAAAAAAAAAAAAAAAAAAAAAAAAAAAAAAAAAAAAAAAAAAAAAAAAAAAAAAAAAAAAAAAAAAAAAAAAAAAAAAAAAAAAAAAAAAAAAAAAAAAAAAAAAAAAAAAAAAAAAAAAAAAAAAAAAAAAAAAAAAAAAAAAAAAAAAAAAAAAAAAAAAAAAAAAAAAAAAAAAAAAAAAAAAAAAAAAAAAAAAAAAAAAAAAAAAAAAAAAAAAAAAAAAAAAAAAAAAAAAAAAAAAAAAAAAAAAAAAAAAAAAAAAAAAAAAAAAAAAAAAAAAAAAAAAAAAAAAAAAAAAAAAAAAAAAAAAAAAAAAAAAAAAAAAAAAAAAAAAAAAAAAAAAAAAAAAAAAAAAAAAAAAAAAAAAAAAAAAAAAAAAAAAAAAAAAAAAAAAAAAAAAAAAAAAAAAAAAAAAAAAAAAAAAAAAAAAAAAAAAAAAAAAAAAAAAAAAAAAAAAAAAAAAAAAAAAAAAAAAAAAAAAAAAAAAAAAAAAAAAAAAAAAAAAAAAAAAAAAAAAAAAAAAAAAAAAAAAAAAAAAAAAAAAAAAAAAAAAAAAAAAAAAAAAAAAAAAAAAAAAAAAAAAAAAAAAAAAAAAAAAAAAAAAAAAAAAAAAAAAAAAAAAAAAAAAAAAAAAAAAAAAAAAAAAAAAAAAAAAAAAAAAAAAAAAAAAAAAAAAAAAAAAAAAAAAAAAAAAAAAAAAAAAAAAAAAAAAAAAAAAAAAAAAAAAAAAAAAAAAAAAAAAAAAAAAAAAAAAAAAAAAAAAAAAAAAAAAAAAAAAAAAAAAAAAAAAAAAAAAAAAAAAAAAAAAAAAAAAAAAAAAAAAAAAAAAAAAAAAAAAAAAAAAAAAAAAAAAAAAAAAAAAAAAAAAAAAAAAAAAAAAAAAAAAAAAAAAAAAAAAAAAAAAAAAAAAAAAAAAAAAAAAAAAAAAAAAAAAAAAAAAAAAAAAAAAAAAAAAAAAAAAAAAAAAAAAAAAAAAAAAAAAAAAAAAAAAAAAAAAAAAAAAAAAAAAAAAAAAAAAAAAAAAAAAAAAAAAAAAAAAAAAAAAAAAAAAAAAAAAAAAAAAAAAAAAAAAAAAAAAAAAAAAAAAAAAAAAAAAAAAAAAAAAAAAAAAAAAAAAAAAAAAAAAAAAAAAAAAAAAAAAAAAAAAAAAAAAAAAAAAAAAAAAAAAAAAAAAAAAAAAAAAAAAAAAAAAAAAAAAAAAAAAAAAAAAAAAAAAAAAAAAAAAAAAAAAAAAAAAAAAAAAAAAAAAAAAAAAAAAAAAAAAAAAAAAAAAAAAAAAAAAAAAAAAAAAAAAAAAAAAAAAAAAAAAAAAAAAAAAAAAAAAAAAAAAAAAAA PLEASE I JUST WANT IT TO STOP\n",
      "Statement 9: FUUUUUUUUCCCCCCKKKK! AAHHHHHHHHHHHHHHHHHHHHHHHHHH!!!!\n",
      "Statement 10: IM SO TIRED OF EVERYTHING CAN I DIE\n",
      "Statement 11: GIVE ME A REASON PLS SOMEONE CONVINCE ME TO STAY\n",
      "Statement 12: LOLOLOLOLOL I HATE HOW I TRUST PEOPLE WITH UGLY PICTURES OF MYSELF AND THEN THEY BREAK THAT TRUST LIKE LOL DAMN OK IT BE LIKE THAT SOMETIMES\n",
      "Statement 13: CUT MY WRIST AND BLACK MY EYES\n",
      "Statement 14: ALWAYS FUCKING STRESSING AND ITS NOT GOOD. DAY BY DAY I JUST FEEL LIKE IM GOING TO FUCKING LOSE IT AND DO IT. YOU WOULDNT CARE THO BECAUSE IM WORTHLESS TO YOU\n",
      "Statement 15: I HATE YOU I HATE INTRUSIVE THOUGHTS I HATE YOU I HATE YOU SO MUCH OCD\n",
      "Statement 16: FUCKING END MY LIFE\n",
      "Statement 17: #NAME?\n",
      "Statement 18: JUST FUCKIN KILL ME\n",
      "Statement 19: JUST FUCK ALL EUROPEANS FUCK EUROPEANS\n",
      "Statement 20: HOW DID I JUST GIVE UP ON SLEEPING IM NOT EVEN TRYING ANYMORE I HATE MYSELF DAMN\n"
     ]
    }
   ],
   "source": [
    "# Print statements for 'Depression'\n",
    "print_statements_by_status(filtered_df, 'Suicidal')"
   ]
  },
  {
   "cell_type": "code",
   "execution_count": 29,
   "id": "4be8cdca-2fdd-4515-94c2-1f2fb5df75ce",
   "metadata": {},
   "outputs": [
    {
     "name": "stdout",
     "output_type": "stream",
     "text": [
      "\n",
      "Top 20 Statements for Anxiety:\n",
      "Statement 1: #NAME?\n",
      "Statement 2: UNDERSTANDING FEEL FEELING«\n",
      "Statement 3: BY GOD I'M STILL WORRY.\n",
      "Statement 4: WHY ARE YOU VERY EASY??? WHY HAVE YOU ARRIVED ANXIETY LIKE THIS\n",
      "Statement 5: FEAR, GIVE UP, WORRY, YES HOW YES???\n",
      "Statement 6: STOP I'M GAMAU ANXIETY, GUNDAH GULANA AGAIN\n",
      "Statement 7: ORIGINAL ORIGINAL AT THE END OF THIS END IS ANGRY EVERY HOURS 22.00 FEAR THE MIXTAPE COMES OUT\n",
      "Statement 8: #NAME?\n",
      "Statement 9: HEALTHVICES  \n",
      "\n",
      "HEALTHVICES\n",
      "\n",
      "IF YOU ARE REALLY CONCERNED ABOUT YOUR HEALTH THEN DON’T EVEN THINK OF IGNORING IT AS IT CAN BE THE MAJOR REASON FOR THE MASSIVE RUSH FOR YOUR HEALTH PROBLEMS OVER IT.\n",
      "\n",
      "&amp;#x200B;\n",
      "\n",
      "TAKE THE ADVICE ABOUT YOUR HEALTH FROM THE USA TRUSTED DOCTORS.\n",
      "\n",
      "&amp;#x200B;\n",
      "\n",
      "CHECK THE LINK BELOW AND FIND THE ONE WAY BEST SOLUTION ON ALL THE VARIOUS HEALTH PROBLEMS.\n",
      "\n",
      "&amp;#x200B;\n",
      "\n",
      "STOP SHAKING YOUR LEGS\n",
      "\n",
      "BECAUSE ALL THE WAYS ARE NATURAL WAYS. \n",
      "\n",
      "AND IT’S BETTER TO TAKE ACTION NOW\n",
      "\n",
      "INSTEAD OF REGRETING LATER.\n",
      "\n",
      "&amp;#x200B;\n",
      "\n",
      "IT INCLUDES VARIOUS HEALTH PROBLEMS REGARDING: \n",
      "\n",
      "WEIGHT LOSS DIETIERY FOODS\n",
      "\n",
      "EYE HEALTH \n",
      "\n",
      "MALE ENHANCEMENT\n",
      "\n",
      "FAT BURN\n",
      "\n",
      "MUSCLE GAIN\n",
      "\n",
      "ANXIETY\n",
      "\n",
      "KETOSIS AND \n",
      "\n",
      "TONNES OF DIFFERENT PROBLEMS\n",
      "\n",
      "COMMENT TO ME WITH YOUR DETAILS IF YOUR HEALTH PROBLEM IS NOT MENTIONED IN THE LIST.\n",
      "\n",
      "HERE IS THE LINK TO IT:\n",
      "\n",
      "[https://b24-hsjavm.bitrix24.com/sites/site/6/view/58/](https://b24-hsjavm.bitrix24.com/sites/site/6/view/58/)\n",
      "Statement 10: the habit of chatting for a day, gadicchat immediately restless ™ƒ YES TP IS THE TIME I CHAT FIRST THE FACE W WANT TO TARO WHERE\n",
      "Statement 11: AAAAAAAAAAAAAAAAAA aaAAAAAAAAAA FIDBWJSKLA oaak$]*÷akkaaAAAAAAAAA DO¥●EOODSNAPOW●¥•》OEKFPA8489492DNKS×[;\n",
      "Statement 12: Reiki I, II, III ART &amp; III Teacher Qualification SPECIAL Offer [Reiki I, II, III ART &amp; III Teacher Qualification](https://twitter.com/backe_f/status/1098190134594306050) 95% off\n",
      "\n",
      "&amp;#x200B;\n",
      "Statement 13: Reiki I, II, III ART &amp; III Teacher Qualification SPECIAL Offer [Reiki I, II, III ART &amp; III Teacher Qualification](https://twitter.com/backe_f/status/1098190134594306050) 95% off\n",
      "\n",
      "&amp;#x200B;\n",
      "Statement 14: DO NOT BLAME HIM. PEOPLE WHO ABUSE ARE SOME OF THE MOST MANIPULATIVE AND BELIEVABLE LIARS. That being said; Parent's if you have a child, who is going to EXTREMES to say show their disapproval for a person, LISTEN TO THEM. CHILDREN FUCKING KNOW. And it is YOUR responsibility to ensure THEIR safety and happiness, not satisfy your own at their cost.\n",
      "Statement 15: Since I knew him I haven't had active suicidal thoughts. Even now. I hate how I am and I wish I could die right now, but I don't have the drive to do it myself anymore. How do I leave him if I know that life without him has been and will be a worse circle of hell? FUCK MY FUCKING LIFE IF I HAD THE MONEY I'D HIRE A HITMAN TO DO ME IN\n",
      "Statement 16: Exam on Saturday. Saturday's Starting Presentation..On Going: CT.Place CSE Dept. .Assignments….AND UNTIL NOW CLEAR CATIA TRAINING 2 PRODUCTS HAHAHAHA.. awesome, still in sleep mode, but I'm nervous, haha\n",
      "Statement 17: #stopbullying There is a small business owner in the northern ky areas-( Covington, ft. Wright, Florence, and other locations owned by this person). A BULLY: one of the causes of a person to hurt themselves. There's physical proof and we are trying to figure out how to hold this person accountable.  BELITTLED, DISCRIMINATES , OVERPOWERED , PSYCHOLOGICAL HARASSMENT,  GASLIGHTING, MENTALLY BREAKS DOWN A PERSON. EVIL AND SELFISH. CAUSED A PERSON MENTALLY BREAKING POINT!!!\n",
      "#awareness #stopbullying2022\n",
      "Statement 18: Once gassi like each other, it's okay. ANJEEEEEEEER EASY DAY.\n",
      "Statement 19: I’ve had enough of anxiety Hope you are all okay. Idk what is wrong with me had a panic attack in the city for no apparent reason three months ago and I’m still struggling now. It’s manifested into everytime I go into a shop I feel a bit off balance and dizzy and my head feels funny. I’m overthinking EVERY SYMPTOM. I DONT KNOW WHAT TO DONIVE HAD ENOUGH !! I just want to be okay again. I want to Litterally just get married but to get married I need a job and a job makes me anxious for no reason other than my anxiety. I avoid working in places because if I feel dizzy or have a panic attack it will be more likely to happen in that setting. How do I even help myself. I’ve been in WAY WORSE SITUATIONS than this but having the feeling if impending doom most days has come out of nowhere. I just want it to go. I’m scared of the doctors but want to go to the doctor for reassurance but realistically reassurance makes everything worse. I DONT HAVE A BRAIN TUMOUR OR EPILEPSY OR HIGH BLOOD PRESSURE OR STUPID STUFF LIEK THIS BUT I NEED TO BELIEVE IT BUT MY SYMPTOMS MAKE ME FEEL LIKE I HAVE THEM!\n",
      "Statement 20: Why am I nervous\n"
     ]
    }
   ],
   "source": [
    "# Print statements for 'Depression'\n",
    "print_statements_by_status(filtered_df, 'Anxiety')"
   ]
  },
  {
   "cell_type": "code",
   "execution_count": null,
   "id": "7d30886d-8487-45c5-b561-d67cfafce300",
   "metadata": {},
   "outputs": [],
   "source": [
    "import pandas as pd\n",
    "import plotly.express as px\n",
    "import plotly.io as pio\n",
    "\n",
    "# Calculate value counts of 'status'\n",
    "status_counts = data['status'].value_counts().reset_index()\n",
    "status_counts.columns = ['status', 'count']\n",
    "\n",
    "# Custom colors\n",
    "colors = ['#8dd8d3', '#ed8975', '#69c6ef', '#d7e6a3', '#4a4ae7', '#df6fba', '#e4a959']\n",
    "\n",
    "# Status Distribution Pie Chart\n",
    "fig = px.pie(status_counts, names='status', values='count', title='Proportion of Each Status Category', \n",
    "             color_discrete_sequence=colors)\n",
    "\n",
    "# Update layout for transparent background and white text\n",
    "fig.update_layout(\n",
    "    plot_bgcolor='rgba(0,0,0,0)',  # Transparent background\n",
    "    paper_bgcolor='rgba(0,0,0,0)',\n",
    "    font_color=\"white\",            # White text\n",
    "    showlegend=True,               # Show legend\n",
    "    legend=dict(\n",
    "    title_font=dict(size=20),  # Title font size\n",
    "    font=dict(size=16)         # Legend item font size\n",
    "    )\n",
    ")\n",
    "\n",
    "\n",
    "# Update pie chart text and format\n",
    "fig.update_traces(\n",
    "    textposition='inside',          # Show percentages inside pie chart\n",
    "    textinfo='percent',       # Show percentages and labels\n",
    "    insidetextfont=dict(color='white')   # Set inside text color to white\n",
    ")\n",
    "\n",
    "# Save the chart as an image with Kaleido engine\n",
    "pio.write_image(fig, 'status_distribution.png', engine='kaleido', width=1200, height=800)\n",
    "\n",
    "# Display the chart\n",
    "fig.show()"
   ]
  },
  {
   "cell_type": "code",
   "execution_count": 4,
   "id": "1c881315-94fe-4906-83bc-dbafebe94e0e",
   "metadata": {},
   "outputs": [
    {
     "data": {
      "application/vnd.plotly.v1+json": {
       "config": {
        "plotlyServerURL": "https://plot.ly"
       },
       "data": [
        {
         "domain": {
          "x": [
           0,
           1
          ],
          "y": [
           0,
           1
          ]
         },
         "hovertemplate": "status=%{label}<br>count=%{value}<extra></extra>",
         "insidetextfont": {
          "color": "white"
         },
         "labels": [
          "Normal",
          "Depression",
          "Suicidal",
          "Anxiety",
          "Bipolar",
          "Stress",
          "Personality disorder"
         ],
         "legendgroup": "",
         "name": "",
         "showlegend": true,
         "textinfo": "percent",
         "textposition": "inside",
         "type": "pie",
         "values": [
          16351,
          15404,
          10653,
          3888,
          2877,
          2669,
          1201
         ]
        }
       ],
       "layout": {
        "autosize": true,
        "font": {
         "color": "black"
        },
        "legend": {
         "font": {
          "color": "black",
          "size": 16
         },
         "title": {
          "font": {
           "color": "black",
           "size": 20
          }
         },
         "tracegroupgap": 0
        },
        "paper_bgcolor": "rgba(0, 0, 0, 0)",
        "piecolorway": [
         "#8dd8d3",
         "#ed8975",
         "#69c6ef",
         "#d7e6a3",
         "#4a4ae7",
         "#df6fba",
         "#e4a959"
        ],
        "plot_bgcolor": "rgba(0, 0, 0, 0)",
        "showlegend": true,
        "template": {
         "data": {
          "bar": [
           {
            "error_x": {
             "color": "#2a3f5f"
            },
            "error_y": {
             "color": "#2a3f5f"
            },
            "marker": {
             "line": {
              "color": "#E5ECF6",
              "width": 0.5
             },
             "pattern": {
              "fillmode": "overlay",
              "size": 10,
              "solidity": 0.2
             }
            },
            "type": "bar"
           }
          ],
          "barpolar": [
           {
            "marker": {
             "line": {
              "color": "#E5ECF6",
              "width": 0.5
             },
             "pattern": {
              "fillmode": "overlay",
              "size": 10,
              "solidity": 0.2
             }
            },
            "type": "barpolar"
           }
          ],
          "carpet": [
           {
            "aaxis": {
             "endlinecolor": "#2a3f5f",
             "gridcolor": "white",
             "linecolor": "white",
             "minorgridcolor": "white",
             "startlinecolor": "#2a3f5f"
            },
            "baxis": {
             "endlinecolor": "#2a3f5f",
             "gridcolor": "white",
             "linecolor": "white",
             "minorgridcolor": "white",
             "startlinecolor": "#2a3f5f"
            },
            "type": "carpet"
           }
          ],
          "choropleth": [
           {
            "colorbar": {
             "outlinewidth": 0,
             "ticks": ""
            },
            "type": "choropleth"
           }
          ],
          "contour": [
           {
            "colorbar": {
             "outlinewidth": 0,
             "ticks": ""
            },
            "colorscale": [
             [
              0,
              "#0d0887"
             ],
             [
              0.1111111111111111,
              "#46039f"
             ],
             [
              0.2222222222222222,
              "#7201a8"
             ],
             [
              0.3333333333333333,
              "#9c179e"
             ],
             [
              0.4444444444444444,
              "#bd3786"
             ],
             [
              0.5555555555555556,
              "#d8576b"
             ],
             [
              0.6666666666666666,
              "#ed7953"
             ],
             [
              0.7777777777777778,
              "#fb9f3a"
             ],
             [
              0.8888888888888888,
              "#fdca26"
             ],
             [
              1,
              "#f0f921"
             ]
            ],
            "type": "contour"
           }
          ],
          "contourcarpet": [
           {
            "colorbar": {
             "outlinewidth": 0,
             "ticks": ""
            },
            "type": "contourcarpet"
           }
          ],
          "heatmap": [
           {
            "colorbar": {
             "outlinewidth": 0,
             "ticks": ""
            },
            "colorscale": [
             [
              0,
              "#0d0887"
             ],
             [
              0.1111111111111111,
              "#46039f"
             ],
             [
              0.2222222222222222,
              "#7201a8"
             ],
             [
              0.3333333333333333,
              "#9c179e"
             ],
             [
              0.4444444444444444,
              "#bd3786"
             ],
             [
              0.5555555555555556,
              "#d8576b"
             ],
             [
              0.6666666666666666,
              "#ed7953"
             ],
             [
              0.7777777777777778,
              "#fb9f3a"
             ],
             [
              0.8888888888888888,
              "#fdca26"
             ],
             [
              1,
              "#f0f921"
             ]
            ],
            "type": "heatmap"
           }
          ],
          "heatmapgl": [
           {
            "colorbar": {
             "outlinewidth": 0,
             "ticks": ""
            },
            "colorscale": [
             [
              0,
              "#0d0887"
             ],
             [
              0.1111111111111111,
              "#46039f"
             ],
             [
              0.2222222222222222,
              "#7201a8"
             ],
             [
              0.3333333333333333,
              "#9c179e"
             ],
             [
              0.4444444444444444,
              "#bd3786"
             ],
             [
              0.5555555555555556,
              "#d8576b"
             ],
             [
              0.6666666666666666,
              "#ed7953"
             ],
             [
              0.7777777777777778,
              "#fb9f3a"
             ],
             [
              0.8888888888888888,
              "#fdca26"
             ],
             [
              1,
              "#f0f921"
             ]
            ],
            "type": "heatmapgl"
           }
          ],
          "histogram": [
           {
            "marker": {
             "pattern": {
              "fillmode": "overlay",
              "size": 10,
              "solidity": 0.2
             }
            },
            "type": "histogram"
           }
          ],
          "histogram2d": [
           {
            "colorbar": {
             "outlinewidth": 0,
             "ticks": ""
            },
            "colorscale": [
             [
              0,
              "#0d0887"
             ],
             [
              0.1111111111111111,
              "#46039f"
             ],
             [
              0.2222222222222222,
              "#7201a8"
             ],
             [
              0.3333333333333333,
              "#9c179e"
             ],
             [
              0.4444444444444444,
              "#bd3786"
             ],
             [
              0.5555555555555556,
              "#d8576b"
             ],
             [
              0.6666666666666666,
              "#ed7953"
             ],
             [
              0.7777777777777778,
              "#fb9f3a"
             ],
             [
              0.8888888888888888,
              "#fdca26"
             ],
             [
              1,
              "#f0f921"
             ]
            ],
            "type": "histogram2d"
           }
          ],
          "histogram2dcontour": [
           {
            "colorbar": {
             "outlinewidth": 0,
             "ticks": ""
            },
            "colorscale": [
             [
              0,
              "#0d0887"
             ],
             [
              0.1111111111111111,
              "#46039f"
             ],
             [
              0.2222222222222222,
              "#7201a8"
             ],
             [
              0.3333333333333333,
              "#9c179e"
             ],
             [
              0.4444444444444444,
              "#bd3786"
             ],
             [
              0.5555555555555556,
              "#d8576b"
             ],
             [
              0.6666666666666666,
              "#ed7953"
             ],
             [
              0.7777777777777778,
              "#fb9f3a"
             ],
             [
              0.8888888888888888,
              "#fdca26"
             ],
             [
              1,
              "#f0f921"
             ]
            ],
            "type": "histogram2dcontour"
           }
          ],
          "mesh3d": [
           {
            "colorbar": {
             "outlinewidth": 0,
             "ticks": ""
            },
            "type": "mesh3d"
           }
          ],
          "parcoords": [
           {
            "line": {
             "colorbar": {
              "outlinewidth": 0,
              "ticks": ""
             }
            },
            "type": "parcoords"
           }
          ],
          "pie": [
           {
            "automargin": true,
            "type": "pie"
           }
          ],
          "scatter": [
           {
            "fillpattern": {
             "fillmode": "overlay",
             "size": 10,
             "solidity": 0.2
            },
            "type": "scatter"
           }
          ],
          "scatter3d": [
           {
            "line": {
             "colorbar": {
              "outlinewidth": 0,
              "ticks": ""
             }
            },
            "marker": {
             "colorbar": {
              "outlinewidth": 0,
              "ticks": ""
             }
            },
            "type": "scatter3d"
           }
          ],
          "scattercarpet": [
           {
            "marker": {
             "colorbar": {
              "outlinewidth": 0,
              "ticks": ""
             }
            },
            "type": "scattercarpet"
           }
          ],
          "scattergeo": [
           {
            "marker": {
             "colorbar": {
              "outlinewidth": 0,
              "ticks": ""
             }
            },
            "type": "scattergeo"
           }
          ],
          "scattergl": [
           {
            "marker": {
             "colorbar": {
              "outlinewidth": 0,
              "ticks": ""
             }
            },
            "type": "scattergl"
           }
          ],
          "scattermapbox": [
           {
            "marker": {
             "colorbar": {
              "outlinewidth": 0,
              "ticks": ""
             }
            },
            "type": "scattermapbox"
           }
          ],
          "scatterpolar": [
           {
            "marker": {
             "colorbar": {
              "outlinewidth": 0,
              "ticks": ""
             }
            },
            "type": "scatterpolar"
           }
          ],
          "scatterpolargl": [
           {
            "marker": {
             "colorbar": {
              "outlinewidth": 0,
              "ticks": ""
             }
            },
            "type": "scatterpolargl"
           }
          ],
          "scatterternary": [
           {
            "marker": {
             "colorbar": {
              "outlinewidth": 0,
              "ticks": ""
             }
            },
            "type": "scatterternary"
           }
          ],
          "surface": [
           {
            "colorbar": {
             "outlinewidth": 0,
             "ticks": ""
            },
            "colorscale": [
             [
              0,
              "#0d0887"
             ],
             [
              0.1111111111111111,
              "#46039f"
             ],
             [
              0.2222222222222222,
              "#7201a8"
             ],
             [
              0.3333333333333333,
              "#9c179e"
             ],
             [
              0.4444444444444444,
              "#bd3786"
             ],
             [
              0.5555555555555556,
              "#d8576b"
             ],
             [
              0.6666666666666666,
              "#ed7953"
             ],
             [
              0.7777777777777778,
              "#fb9f3a"
             ],
             [
              0.8888888888888888,
              "#fdca26"
             ],
             [
              1,
              "#f0f921"
             ]
            ],
            "type": "surface"
           }
          ],
          "table": [
           {
            "cells": {
             "fill": {
              "color": "#EBF0F8"
             },
             "line": {
              "color": "white"
             }
            },
            "header": {
             "fill": {
              "color": "#C8D4E3"
             },
             "line": {
              "color": "white"
             }
            },
            "type": "table"
           }
          ]
         },
         "layout": {
          "annotationdefaults": {
           "arrowcolor": "#2a3f5f",
           "arrowhead": 0,
           "arrowwidth": 1
          },
          "autotypenumbers": "strict",
          "coloraxis": {
           "colorbar": {
            "outlinewidth": 0,
            "ticks": ""
           }
          },
          "colorscale": {
           "diverging": [
            [
             0,
             "#8e0152"
            ],
            [
             0.1,
             "#c51b7d"
            ],
            [
             0.2,
             "#de77ae"
            ],
            [
             0.3,
             "#f1b6da"
            ],
            [
             0.4,
             "#fde0ef"
            ],
            [
             0.5,
             "#f7f7f7"
            ],
            [
             0.6,
             "#e6f5d0"
            ],
            [
             0.7,
             "#b8e186"
            ],
            [
             0.8,
             "#7fbc41"
            ],
            [
             0.9,
             "#4d9221"
            ],
            [
             1,
             "#276419"
            ]
           ],
           "sequential": [
            [
             0,
             "#0d0887"
            ],
            [
             0.1111111111111111,
             "#46039f"
            ],
            [
             0.2222222222222222,
             "#7201a8"
            ],
            [
             0.3333333333333333,
             "#9c179e"
            ],
            [
             0.4444444444444444,
             "#bd3786"
            ],
            [
             0.5555555555555556,
             "#d8576b"
            ],
            [
             0.6666666666666666,
             "#ed7953"
            ],
            [
             0.7777777777777778,
             "#fb9f3a"
            ],
            [
             0.8888888888888888,
             "#fdca26"
            ],
            [
             1,
             "#f0f921"
            ]
           ],
           "sequentialminus": [
            [
             0,
             "#0d0887"
            ],
            [
             0.1111111111111111,
             "#46039f"
            ],
            [
             0.2222222222222222,
             "#7201a8"
            ],
            [
             0.3333333333333333,
             "#9c179e"
            ],
            [
             0.4444444444444444,
             "#bd3786"
            ],
            [
             0.5555555555555556,
             "#d8576b"
            ],
            [
             0.6666666666666666,
             "#ed7953"
            ],
            [
             0.7777777777777778,
             "#fb9f3a"
            ],
            [
             0.8888888888888888,
             "#fdca26"
            ],
            [
             1,
             "#f0f921"
            ]
           ]
          },
          "colorway": [
           "#636efa",
           "#EF553B",
           "#00cc96",
           "#ab63fa",
           "#FFA15A",
           "#19d3f3",
           "#FF6692",
           "#B6E880",
           "#FF97FF",
           "#FECB52"
          ],
          "font": {
           "color": "#2a3f5f"
          },
          "geo": {
           "bgcolor": "white",
           "lakecolor": "white",
           "landcolor": "#E5ECF6",
           "showlakes": true,
           "showland": true,
           "subunitcolor": "white"
          },
          "hoverlabel": {
           "align": "left"
          },
          "hovermode": "closest",
          "mapbox": {
           "style": "light"
          },
          "paper_bgcolor": "white",
          "plot_bgcolor": "#E5ECF6",
          "polar": {
           "angularaxis": {
            "gridcolor": "white",
            "linecolor": "white",
            "ticks": ""
           },
           "bgcolor": "#E5ECF6",
           "radialaxis": {
            "gridcolor": "white",
            "linecolor": "white",
            "ticks": ""
           }
          },
          "scene": {
           "xaxis": {
            "backgroundcolor": "#E5ECF6",
            "gridcolor": "white",
            "gridwidth": 2,
            "linecolor": "white",
            "showbackground": true,
            "ticks": "",
            "zerolinecolor": "white"
           },
           "yaxis": {
            "backgroundcolor": "#E5ECF6",
            "gridcolor": "white",
            "gridwidth": 2,
            "linecolor": "white",
            "showbackground": true,
            "ticks": "",
            "zerolinecolor": "white"
           },
           "zaxis": {
            "backgroundcolor": "#E5ECF6",
            "gridcolor": "white",
            "gridwidth": 2,
            "linecolor": "white",
            "showbackground": true,
            "ticks": "",
            "zerolinecolor": "white"
           }
          },
          "shapedefaults": {
           "line": {
            "color": "#2a3f5f"
           }
          },
          "ternary": {
           "aaxis": {
            "gridcolor": "white",
            "linecolor": "white",
            "ticks": ""
           },
           "baxis": {
            "gridcolor": "white",
            "linecolor": "white",
            "ticks": ""
           },
           "bgcolor": "#E5ECF6",
           "caxis": {
            "gridcolor": "white",
            "linecolor": "white",
            "ticks": ""
           }
          },
          "title": {
           "x": 0.05
          },
          "xaxis": {
           "automargin": true,
           "gridcolor": "white",
           "linecolor": "white",
           "ticks": "",
           "title": {
            "standoff": 15
           },
           "zerolinecolor": "white",
           "zerolinewidth": 2
          },
          "yaxis": {
           "automargin": true,
           "gridcolor": "white",
           "linecolor": "white",
           "ticks": "",
           "title": {
            "standoff": 15
           },
           "zerolinecolor": "white",
           "zerolinewidth": 2
          }
         }
        },
        "title": {
         "font": {
          "color": "black",
          "size": 20
         },
         "text": "Proportion of Each Status Category"
        }
       }
      },
      "image/png": "[encoded data removed]",
      "text/html": [
       "<div>                            <div id=\"f8e5a390-f26a-446f-9705-a9d5ba0884f9\" class=\"plotly-graph-div\" style=\"height:525px; width:100%;\"></div>            <script type=\"text/javascript\">                require([\"plotly\"], function(Plotly) {                    window.PLOTLYENV=window.PLOTLYENV || {};                                    if (document.getElementById(\"f8e5a390-f26a-446f-9705-a9d5ba0884f9\")) {                    Plotly.newPlot(                        \"f8e5a390-f26a-446f-9705-a9d5ba0884f9\",                        [{\"domain\":{\"x\":[0.0,1.0],\"y\":[0.0,1.0]},\"hovertemplate\":\"status=%{label}\\u003cbr\\u003ecount=%{value}\\u003cextra\\u003e\\u003c\\u002fextra\\u003e\",\"labels\":[\"Normal\",\"Depression\",\"Suicidal\",\"Anxiety\",\"Bipolar\",\"Stress\",\"Personality disorder\"],\"legendgroup\":\"\",\"name\":\"\",\"showlegend\":true,\"values\":[16351,15404,10653,3888,2877,2669,1201],\"type\":\"pie\",\"insidetextfont\":{\"color\":\"white\"},\"textinfo\":\"percent\",\"textposition\":\"inside\"}],                        {\"template\":{\"data\":{\"histogram2dcontour\":[{\"type\":\"histogram2dcontour\",\"colorbar\":{\"outlinewidth\":0,\"ticks\":\"\"},\"colorscale\":[[0.0,\"#0d0887\"],[0.1111111111111111,\"#46039f\"],[0.2222222222222222,\"#7201a8\"],[0.3333333333333333,\"#9c179e\"],[0.4444444444444444,\"#bd3786\"],[0.5555555555555556,\"#d8576b\"],[0.6666666666666666,\"#ed7953\"],[0.7777777777777778,\"#fb9f3a\"],[0.8888888888888888,\"#fdca26\"],[1.0,\"#f0f921\"]]}],\"choropleth\":[{\"type\":\"choropleth\",\"colorbar\":{\"outlinewidth\":0,\"ticks\":\"\"}}],\"histogram2d\":[{\"type\":\"histogram2d\",\"colorbar\":{\"outlinewidth\":0,\"ticks\":\"\"},\"colorscale\":[[0.0,\"#0d0887\"],[0.1111111111111111,\"#46039f\"],[0.2222222222222222,\"#7201a8\"],[0.3333333333333333,\"#9c179e\"],[0.4444444444444444,\"#bd3786\"],[0.5555555555555556,\"#d8576b\"],[0.6666666666666666,\"#ed7953\"],[0.7777777777777778,\"#fb9f3a\"],[0.8888888888888888,\"#fdca26\"],[1.0,\"#f0f921\"]]}],\"heatmap\":[{\"type\":\"heatmap\",\"colorbar\":{\"outlinewidth\":0,\"ticks\":\"\"},\"colorscale\":[[0.0,\"#0d0887\"],[0.1111111111111111,\"#46039f\"],[0.2222222222222222,\"#7201a8\"],[0.3333333333333333,\"#9c179e\"],[0.4444444444444444,\"#bd3786\"],[0.5555555555555556,\"#d8576b\"],[0.6666666666666666,\"#ed7953\"],[0.7777777777777778,\"#fb9f3a\"],[0.8888888888888888,\"#fdca26\"],[1.0,\"#f0f921\"]]}],\"heatmapgl\":[{\"type\":\"heatmapgl\",\"colorbar\":{\"outlinewidth\":0,\"ticks\":\"\"},\"colorscale\":[[0.0,\"#0d0887\"],[0.1111111111111111,\"#46039f\"],[0.2222222222222222,\"#7201a8\"],[0.3333333333333333,\"#9c179e\"],[0.4444444444444444,\"#bd3786\"],[0.5555555555555556,\"#d8576b\"],[0.6666666666666666,\"#ed7953\"],[0.7777777777777778,\"#fb9f3a\"],[0.8888888888888888,\"#fdca26\"],[1.0,\"#f0f921\"]]}],\"contourcarpet\":[{\"type\":\"contourcarpet\",\"colorbar\":{\"outlinewidth\":0,\"ticks\":\"\"}}],\"contour\":[{\"type\":\"contour\",\"colorbar\":{\"outlinewidth\":0,\"ticks\":\"\"},\"colorscale\":[[0.0,\"#0d0887\"],[0.1111111111111111,\"#46039f\"],[0.2222222222222222,\"#7201a8\"],[0.3333333333333333,\"#9c179e\"],[0.4444444444444444,\"#bd3786\"],[0.5555555555555556,\"#d8576b\"],[0.6666666666666666,\"#ed7953\"],[0.7777777777777778,\"#fb9f3a\"],[0.8888888888888888,\"#fdca26\"],[1.0,\"#f0f921\"]]}],\"surface\":[{\"type\":\"surface\",\"colorbar\":{\"outlinewidth\":0,\"ticks\":\"\"},\"colorscale\":[[0.0,\"#0d0887\"],[0.1111111111111111,\"#46039f\"],[0.2222222222222222,\"#7201a8\"],[0.3333333333333333,\"#9c179e\"],[0.4444444444444444,\"#bd3786\"],[0.5555555555555556,\"#d8576b\"],[0.6666666666666666,\"#ed7953\"],[0.7777777777777778,\"#fb9f3a\"],[0.8888888888888888,\"#fdca26\"],[1.0,\"#f0f921\"]]}],\"mesh3d\":[{\"type\":\"mesh3d\",\"colorbar\":{\"outlinewidth\":0,\"ticks\":\"\"}}],\"scatter\":[{\"fillpattern\":{\"fillmode\":\"overlay\",\"size\":10,\"solidity\":0.2},\"type\":\"scatter\"}],\"parcoords\":[{\"type\":\"parcoords\",\"line\":{\"colorbar\":{\"outlinewidth\":0,\"ticks\":\"\"}}}],\"scatterpolargl\":[{\"type\":\"scatterpolargl\",\"marker\":{\"colorbar\":{\"outlinewidth\":0,\"ticks\":\"\"}}}],\"bar\":[{\"error_x\":{\"color\":\"#2a3f5f\"},\"error_y\":{\"color\":\"#2a3f5f\"},\"marker\":{\"line\":{\"color\":\"#E5ECF6\",\"width\":0.5},\"pattern\":{\"fillmode\":\"overlay\",\"size\":10,\"solidity\":0.2}},\"type\":\"bar\"}],\"scattergeo\":[{\"type\":\"scattergeo\",\"marker\":{\"colorbar\":{\"outlinewidth\":0,\"ticks\":\"\"}}}],\"scatterpolar\":[{\"type\":\"scatterpolar\",\"marker\":{\"colorbar\":{\"outlinewidth\":0,\"ticks\":\"\"}}}],\"histogram\":[{\"marker\":{\"pattern\":{\"fillmode\":\"overlay\",\"size\":10,\"solidity\":0.2}},\"type\":\"histogram\"}],\"scattergl\":[{\"type\":\"scattergl\",\"marker\":{\"colorbar\":{\"outlinewidth\":0,\"ticks\":\"\"}}}],\"scatter3d\":[{\"type\":\"scatter3d\",\"line\":{\"colorbar\":{\"outlinewidth\":0,\"ticks\":\"\"}},\"marker\":{\"colorbar\":{\"outlinewidth\":0,\"ticks\":\"\"}}}],\"scattermapbox\":[{\"type\":\"scattermapbox\",\"marker\":{\"colorbar\":{\"outlinewidth\":0,\"ticks\":\"\"}}}],\"scatterternary\":[{\"type\":\"scatterternary\",\"marker\":{\"colorbar\":{\"outlinewidth\":0,\"ticks\":\"\"}}}],\"scattercarpet\":[{\"type\":\"scattercarpet\",\"marker\":{\"colorbar\":{\"outlinewidth\":0,\"ticks\":\"\"}}}],\"carpet\":[{\"aaxis\":{\"endlinecolor\":\"#2a3f5f\",\"gridcolor\":\"white\",\"linecolor\":\"white\",\"minorgridcolor\":\"white\",\"startlinecolor\":\"#2a3f5f\"},\"baxis\":{\"endlinecolor\":\"#2a3f5f\",\"gridcolor\":\"white\",\"linecolor\":\"white\",\"minorgridcolor\":\"white\",\"startlinecolor\":\"#2a3f5f\"},\"type\":\"carpet\"}],\"table\":[{\"cells\":{\"fill\":{\"color\":\"#EBF0F8\"},\"line\":{\"color\":\"white\"}},\"header\":{\"fill\":{\"color\":\"#C8D4E3\"},\"line\":{\"color\":\"white\"}},\"type\":\"table\"}],\"barpolar\":[{\"marker\":{\"line\":{\"color\":\"#E5ECF6\",\"width\":0.5},\"pattern\":{\"fillmode\":\"overlay\",\"size\":10,\"solidity\":0.2}},\"type\":\"barpolar\"}],\"pie\":[{\"automargin\":true,\"type\":\"pie\"}]},\"layout\":{\"autotypenumbers\":\"strict\",\"colorway\":[\"#636efa\",\"#EF553B\",\"#00cc96\",\"#ab63fa\",\"#FFA15A\",\"#19d3f3\",\"#FF6692\",\"#B6E880\",\"#FF97FF\",\"#FECB52\"],\"font\":{\"color\":\"#2a3f5f\"},\"hovermode\":\"closest\",\"hoverlabel\":{\"align\":\"left\"},\"paper_bgcolor\":\"white\",\"plot_bgcolor\":\"#E5ECF6\",\"polar\":{\"bgcolor\":\"#E5ECF6\",\"angularaxis\":{\"gridcolor\":\"white\",\"linecolor\":\"white\",\"ticks\":\"\"},\"radialaxis\":{\"gridcolor\":\"white\",\"linecolor\":\"white\",\"ticks\":\"\"}},\"ternary\":{\"bgcolor\":\"#E5ECF6\",\"aaxis\":{\"gridcolor\":\"white\",\"linecolor\":\"white\",\"ticks\":\"\"},\"baxis\":{\"gridcolor\":\"white\",\"linecolor\":\"white\",\"ticks\":\"\"},\"caxis\":{\"gridcolor\":\"white\",\"linecolor\":\"white\",\"ticks\":\"\"}},\"coloraxis\":{\"colorbar\":{\"outlinewidth\":0,\"ticks\":\"\"}},\"colorscale\":{\"sequential\":[[0.0,\"#0d0887\"],[0.1111111111111111,\"#46039f\"],[0.2222222222222222,\"#7201a8\"],[0.3333333333333333,\"#9c179e\"],[0.4444444444444444,\"#bd3786\"],[0.5555555555555556,\"#d8576b\"],[0.6666666666666666,\"#ed7953\"],[0.7777777777777778,\"#fb9f3a\"],[0.8888888888888888,\"#fdca26\"],[1.0,\"#f0f921\"]],\"sequentialminus\":[[0.0,\"#0d0887\"],[0.1111111111111111,\"#46039f\"],[0.2222222222222222,\"#7201a8\"],[0.3333333333333333,\"#9c179e\"],[0.4444444444444444,\"#bd3786\"],[0.5555555555555556,\"#d8576b\"],[0.6666666666666666,\"#ed7953\"],[0.7777777777777778,\"#fb9f3a\"],[0.8888888888888888,\"#fdca26\"],[1.0,\"#f0f921\"]],\"diverging\":[[0,\"#8e0152\"],[0.1,\"#c51b7d\"],[0.2,\"#de77ae\"],[0.3,\"#f1b6da\"],[0.4,\"#fde0ef\"],[0.5,\"#f7f7f7\"],[0.6,\"#e6f5d0\"],[0.7,\"#b8e186\"],[0.8,\"#7fbc41\"],[0.9,\"#4d9221\"],[1,\"#276419\"]]},\"xaxis\":{\"gridcolor\":\"white\",\"linecolor\":\"white\",\"ticks\":\"\",\"title\":{\"standoff\":15},\"zerolinecolor\":\"white\",\"automargin\":true,\"zerolinewidth\":2},\"yaxis\":{\"gridcolor\":\"white\",\"linecolor\":\"white\",\"ticks\":\"\",\"title\":{\"standoff\":15},\"zerolinecolor\":\"white\",\"automargin\":true,\"zerolinewidth\":2},\"scene\":{\"xaxis\":{\"backgroundcolor\":\"#E5ECF6\",\"gridcolor\":\"white\",\"linecolor\":\"white\",\"showbackground\":true,\"ticks\":\"\",\"zerolinecolor\":\"white\",\"gridwidth\":2},\"yaxis\":{\"backgroundcolor\":\"#E5ECF6\",\"gridcolor\":\"white\",\"linecolor\":\"white\",\"showbackground\":true,\"ticks\":\"\",\"zerolinecolor\":\"white\",\"gridwidth\":2},\"zaxis\":{\"backgroundcolor\":\"#E5ECF6\",\"gridcolor\":\"white\",\"linecolor\":\"white\",\"showbackground\":true,\"ticks\":\"\",\"zerolinecolor\":\"white\",\"gridwidth\":2}},\"shapedefaults\":{\"line\":{\"color\":\"#2a3f5f\"}},\"annotationdefaults\":{\"arrowcolor\":\"#2a3f5f\",\"arrowhead\":0,\"arrowwidth\":1},\"geo\":{\"bgcolor\":\"white\",\"landcolor\":\"#E5ECF6\",\"subunitcolor\":\"white\",\"showland\":true,\"showlakes\":true,\"lakecolor\":\"white\"},\"title\":{\"x\":0.05},\"mapbox\":{\"style\":\"light\"}}},\"legend\":{\"tracegroupgap\":0,\"title\":{\"font\":{\"size\":20,\"color\":\"black\"}},\"font\":{\"size\":16,\"color\":\"black\"}},\"title\":{\"text\":\"Proportion of Each Status Category\",\"font\":{\"color\":\"black\",\"size\":20}},\"piecolorway\":[\"#8dd8d3\",\"#ed8975\",\"#69c6ef\",\"#d7e6a3\",\"#4a4ae7\",\"#df6fba\",\"#e4a959\"],\"font\":{\"color\":\"black\"},\"plot_bgcolor\":\"rgba(0,0,0,0)\",\"paper_bgcolor\":\"rgba(0,0,0,0)\",\"showlegend\":true},                        {\"responsive\": true}                    ).then(function(){\n",
       "                            \n",
       "var gd = document.getElementById('f8e5a390-f26a-446f-9705-a9d5ba0884f9');\n",
       "var x = new MutationObserver(function (mutations, observer) {{\n",
       "        var display = window.getComputedStyle(gd).display;\n",
       "        if (!display || display === 'none') {{\n",
       "            console.log([gd, 'removed!']);\n",
       "            Plotly.purge(gd);\n",
       "            observer.disconnect();\n",
       "        }}\n",
       "}});\n",
       "\n",
       "// Listen for the removal of the full notebook cells\n",
       "var notebookContainer = gd.closest('#notebook-container');\n",
       "if (notebookContainer) {{\n",
       "    x.observe(notebookContainer, {childList: true});\n",
       "}}\n",
       "\n",
       "// Listen for the clearing of the current output cell\n",
       "var outputEl = gd.closest('.output');\n",
       "if (outputEl) {{\n",
       "    x.observe(outputEl, {childList: true});\n",
       "}}\n",
       "\n",
       "                        })                };                });            </script>        </div>"
      ]
     },
     "metadata": {},
     "output_type": "display_data"
    }
   ],
   "source": [
    "import pandas as pd\n",
    "import plotly.express as px\n",
    "import plotly.io as pio\n",
    "\n",
    "# Calculate value counts of 'status'\n",
    "status_counts = data['status'].value_counts().reset_index()\n",
    "status_counts.columns = ['status', 'count']\n",
    "\n",
    "# Custom colors\n",
    "colors = ['#8dd8d3', '#ed8975', '#69c6ef', '#d7e6a3', '#4a4ae7', '#df6fba', '#e4a959']\n",
    "\n",
    "# Status Distribution Pie Chart\n",
    "fig = px.pie(status_counts, names='status', values='count', title='Proportion of Each Status Category', \n",
    "             color_discrete_sequence=colors)\n",
    "\n",
    "# Update layout for transparent background and black text\n",
    "fig.update_layout(\n",
    "    plot_bgcolor='rgba(0,0,0,0)',  # Transparent background\n",
    "    paper_bgcolor='rgba(0,0,0,0)',\n",
    "    font_color=\"black\",            # Black text for the entire figure\n",
    "    title_font=dict(color='black', size=20),  # Black color and size for the title\n",
    "    showlegend=True,               # Show legend\n",
    "    legend=dict(\n",
    "        title_font=dict(size=20, color='black'),  # Black color and size for legend title\n",
    "        font=dict(size=16, color='black')         # Black color and size for legend items\n",
    "    )\n",
    ")\n",
    "\n",
    "# Update pie chart text and format\n",
    "fig.update_traces(\n",
    "    textposition='inside',          # Show percentages inside pie chart\n",
    "    textinfo='percent',       # Show percentages and labels\n",
    "    insidetextfont=dict(color='white')   # Set inside text color to white\n",
    ")\n",
    "\n",
    "# Save the chart as an image with Kaleido engine\n",
    "pio.write_image(fig, 'README_status_distribution.png', engine='kaleido', width=1200, height=800)\n",
    "\n",
    "# Display the chart\n",
    "fig.show()"
   ]
  },
  {
   "cell_type": "code",
   "execution_count": 19,
   "id": "d2a39dfe-4ff1-4a2a-aec7-2498aac08737",
   "metadata": {},
   "outputs": [
    {
     "name": "stdout",
     "output_type": "stream",
     "text": [
      "Statement 1: oh my gosh\n",
      "Statement 2: trouble sleeping, confused mind, restless heart. All out of tune\n",
      "Statement 3: All wrong, back off dear, forward doubt. Stay in a restless and restless place\n",
      "Statement 4: I've shifted my focus to something else but I'm still worried\n",
      "Statement 5: I'm restless and restless, it's been a month now, boy. What do you mean?\n",
      "Statement 6: every break, you must be nervous, like something is wrong, but what the heck\n",
      "Statement 7: I feel scared, anxious, what can I do? And may my family or us be protected :)\n",
      "Statement 8: Have you ever felt nervous but didn't know why?\n",
      "Statement 9: I haven't slept well for 2 days, it's like I'm restless. why huh :([].\n",
      "Statement 10: I'm really worried, I want to cry.\n",
      "Statement 11: always restless every night, even though I don't know why, what's wrong. strange.\n",
      "Statement 12: I'm confused, I'm not feeling good lately. Every time I want to sleep, I always feel restless\n",
      "Statement 13: sometimes what is needed when there is a problem is to laugh until you forget that there is a problem, when you remember it, you feel restless like that well, it turns out that I still have a sad burden blah blah blah\n",
      "Statement 14: Because this worry is you.\n",
      "Statement 15: Sometimes it's your own thoughts that make you anxious and afraid to close your eyes until you don't sleep\n",
      "Statement 16: Every time I wake up, I'm definitely nervous and excited, until when are you going to try ™‚\n",
      "Statement 17: I can only hope, even though I'm worried if it starts like this....\n",
      "Statement 18: restive = restless, restless\n",
      "Statement 19: \"No regrets or grudges/angry at things that have passed, and not worrying too much about the future, that's true serenity.\"\n",
      "Statement 20: If the guy is sick, the girl actually feels sick indirectly. He must be feeling restless and restless. :')\n",
      "Statement 21: I've been the most anxious person before I became the most sincere person, I've also been the most worried person before it all ended\n",
      "Statement 22: Successfully online at 9am. Even sleeping in a state of restlessness what is wrong with me\n",
      "Statement 23: Can't sleep. Just restless by nature\n",
      "Statement 24: Already worried about picking up the phone\n",
      "Statement 25: a little restless. a little restless. always feel guilty. sorry if i can't be the best as i've been :'\n",
      "Statement 26: I've been so restless since this morning\n",
      "Statement 27: it makes you feel restless\n",
      "Statement 28: Sleepy but restless when you sleep\n",
      "Statement 29: Why is this cave... I'm already in a bad mood and then my heart seems to be beating really fast... I'm really nervous. Is there something wrong???\n",
      "Statement 30: He is very busy, He is restless, geez, what's going on?\n",
      "Statement 31: I'm broken and fragile, I'm hurt, I can't stand the anxiety anymore, I can't stand the love. Until now I was ignored, not seen, even left far away. I'm not like what he wants, so I'll just step back.\n",
      "Statement 32: # Suggest a song that makes you calm, don't know why suddenly this feeling of anger / restlessness appears. Thanks!\n",
      "Statement 33: Terooosss nervous huuuu\n",
      "Statement 34: why today's heart doesn't feel good..jealous?.anxious?.disappointed?.feeling failed?\n",
      "Statement 35: It's a habit from elementary school if I think about something I'll get worried I can't sleep\n",
      "Statement 36: Since yesterday yesterday, I have not been in the mood, very sensitive, feeling restless, always surprised and many surprises every day that almost make my brain explode, everyone is the target of ups and downs in mood. But today I feel very grateful that this lecture drama is over.\n",
      "Statement 37: Tonight he continues to chatter about money, I'm so confused what to do. Once he said don't worry about money, but he kept blabbering about money.\n",
      "Statement 38: Feeling so restless lately.\n",
      "Statement 39: Oh god I'm restless\n",
      "Statement 40: but my heart is still restless even though my mouth is talking\n",
      "Statement 41: waiting for uncertainty, please be anxious\n",
      "Statement 42: been the most anxious person, before becoming the most sincere person\n",
      "Statement 43: Did you ever read it when you read it to RL, I mean the atmosphere, the taste. It's because I'm like this. when I read au, the topic was about mental illness ™ my days became restless....and now I'm scared.\n",
      "Statement 44: Hi, I want to tell you... Lately I've been feeling restless, have trouble sleeping, I searched on google it says it's a mild symptom of depression, I used to tell my mom a psychologist friend \"don't think too much, it's not important you get depressed easily\" then I frequent irregular breathing.\n",
      "Statement 45: I've been feeling restless for the past few days, now I'm nauseous, like someone...\n",
      "Statement 46: Oh no I'm restless. The time will come. I walk with Jesus. Then my heart is calm.. Every time I sing a song I don't know, tomorrow in this section I always want to cry . Because I sing it but I don't do it . Sorry God I worry too much ️\n",
      "Statement 47: Controlling anxiety is not as easy as it sounds.\n",
      "Statement 48: Since the pandemic, I haven't opened my laptop for a day, I feel restless, I have a very heavy life load\n",
      "Statement 49: People who are restless and afraid can be seen from the frequent touching of the face and ringing the fingers.\n",
      "Statement 50: I don't know if my mind breaks down, but I don't want to think about it :( , why do I feel restless?\n"
     ]
    }
   ],
   "source": [
    "# Filter rows where 'status' is 'Anxiety' and get the 'statement' values\n",
    "anxiety_statements = data.loc[data['status'] == 'Anxiety', 'statement'].head(50)\n",
    "\n",
    "# Print the first 50 statements\n",
    "for idx, statement in enumerate(anxiety_statements):\n",
    "    print(f\"Statement {idx + 1}: {statement}\")"
   ]
  },
  {
   "cell_type": "code",
   "execution_count": 20,
   "id": "5d400c7d-4558-4745-b50f-214a80b1717f",
   "metadata": {},
   "outputs": [
    {
     "name": "stdout",
     "output_type": "stream",
     "text": [
      "Statement 1: He said he had not felt that way before, suggeted I go rest and so ..TRIGGER AHEAD IF YOUI'RE A HYPOCONDRIAC LIKE ME: i decide to look up \"feelings of doom\" in hopes of maybe getting sucked into some rabbit hole of ludicrous conspiracy, a stupid \"are you psychic\" test or new age b.s., something I could even laugh at down the road. No, I ended up reading that this sense of doom can be indicative of various health ailments; one of which I am prone to.. So on top of my \"doom\" to my gloom..I am now f'n worried about my heart. I do happen to have a physical in 48 hours.\n",
      "Statement 2: My mom then hit me with the newspaper and it shocked me that she would do this, she knows I don't like play hitting, smacking, striking, hitting or violence of any sort on my person. Do I send out this vibe asking for it from the universe? Then yesterday I decided to take my friend to go help another \"friend\" move to a new place. While we were driving the friend we are moving strikes me on my shoulder. And I address it immediately because this is the 4th time I have told him not to do these things, then my other friend who is driving nearly gets into an collision with another car i think because he was high on marijuana and the friend we are moving in the backseat is like \"you have to understand I was just trying to get your attention\" you know the thing 5 year olds do to get peoples attention by smacking them, this guy is in his 60's.\n",
      "Statement 3: until i met my new boyfriend, he is amazing, he is kind, he is sweet, he is a good student, he likes the same things as me, my family likes him, and so on... but i dont feel that passion that rush i felt with my ex, the truth is that when i started going out with my boyfriend i secretly saw my ex a few times to see if i really didnt feel nothing for him, but it was disgusting, i didnt even want him to touch me, i feel bad with myself i didnt want him, but still, i was there. then i kinda realized i felt nothing love related for him and it was ok, HE was HURT when he knew i was dating this boy and he even begged me to stay but of course not. but now the problem is that when im with my boyfriend i dont feel like i love him, like that thing you kinda have to feel with a new love, i just feel \"ok\" with him, and i catch myself thinking about my ex from time to time, remembering all the good things we had and it drives me crazy because i know that if i see him again i wont feel that way, that \"love\" that my mind makes me think stills there. and recently i found out that he has a girl and he is actually enjoying the experience and i got so mad and so hurt (i know i dont have any right to feel that way) i felt betrayed and I STILL feel that way, i gross myself out.\n",
      "Statement 4: October is Domestic Violence Awareness Month and I am a domestic violence survivor who is still struggling, even after over four years. Lately I have been feeling very angry. Angry that my abusive ex received no real consequences for his actions. This man abused me in all manners: physically, sexually, emotionally, verbally, financially, etc. I was granted a restraining order against him (and it was renewed a year later) but I was unable to press criminal charges against him because I didn’t have enough evidence to have a case.\n",
      "Statement 5: I think he doesn't want to put in the effort for the relationship to work (and we're both so difficult that we have to work on our relationships, doesn't matter with whom) but he can't be without me either. What should I do? I'm afraid this is gonna happen over and over again, because I'm always forgiving him at some point. Am I being strung along? TL;DR: Boyfriend [28,M] broke up with me [23,F] after on-off for 1.5 years, I thought we just got it together and am devastated...don't know what to do, want to keep fighting but should I?\n",
      "Statement 6:   It cleared up and I was okay but. On Monday I was thinking about humans and how the brain works and it tripped me out I got worried that because I was thinking about how the brain works that I would lose sleep and I did. That night was bad just like last time.   Also yesterday my sleep was bad I woke up like every hour of the night just like last time. I got kind of scared like I did last time but this time I think that this is fake life which is absurd but I just think about it then get really scared then I think rationally then calm down.\n",
      "Statement 7: I actually give an assistant half my emergency fee to come help me sometimes. I feel unsafe driving to \"house calls\" in the middle of the night by myself. I frequently bring my husband along as a makeshift “tech” or when I feel unsafe, which is obviously unfair to him. Unhappy Husband: My husband is miserable both with his 60 minute commute and with our isolation out here in the country. We feel like we have no social life out here.\n",
      "Statement 8: I just feel like the street life has fucked my head up. There's so much I don't even know how to talk about anymore, I just hold that shit. Only person I can really chat with is a pal I know at the bar. He has PTSD and shit from the military bad, hard up alcoholic nowadays after killing people.. We talk once every few weeks and we are open and it's cool. But normal people?\n",
      "Statement 9: Next week I’ll be flying for our family vacation. The flights won’t be very long (just MSY to LAS then LAX to MSY on the way home), but flying really triggers my anxiety. Mostly I just like having control over myself and my surroundings, so the idea of being in a metal tube 30,000 feet in the air is not ideal for me. I also have a lot of fears about terrorist attacks/mass shootings (movie theaters and other crowded public places are also a problem for me). I was wondering if anyone has any tips for flying anxiety/fear.\n",
      "Statement 10: Everything sets me off and I'm almost having a panic attack. I'm going to my dads soon and that also makes me anxious because I'm afraid that I'm not in the mental state to go there and I want to stay at my moms but he really isn't happy when I do that. Anyway when she complains or is feeling bad I comfort her and I've never raised my voice at her even when frustrated. When she thinks I disagree with her she raises her voice, I have to talk about what she wants to in general right now because she gets impatient easily. I feel like vomiting because she also has so many redeeming factors but I don't want to lose her as a friend.\n",
      "Statement 11: I’ve been taking 12.5 mgs zoloft for about 6 months (yeah, super small dose .. but it was taking the edge off, i think). I decided to stop taking it for a few days to see if it was really helping. Now, about 40 hours since my last dose, I’m suddenly kind of shaky and also flushed (my cheeks are burning for no reason. And THOSE side effects are about to freak me out - do you think it is from my missed dose? Is it possible to have such a fast reaction?\n",
      "Statement 12: No place in my city has shelter space for us, and I won't put my baby on the literal street. (I've been there before. Fine for new, but I don't want to have to go through that with a baby). What cities have good shelter programs for homeless mothers and children? I'd love to be able to make some calls and get on a greyhound between the 7th and 16th (when I'll likely be able to get the money to go).\n",
      "Statement 13: These past couple of months have been the worst. My anxiety has gotten so bad it’s effecting my sleep and relationship. I’ve become so paranoid about my health as well. I don’t feel like me anymore and I just feel scared all the time now over every little thing. I don’t have money to see a therapist either...\n",
      "Statement 14: I asked him three time what happened. And after the third time I cried and went home. Month later he still don't talk to me and he and my mother started fighting for the first time in the relationship. Me and my mother honestly don't know what to do, he just ignores me. I even told him that I don't date that guy(even though I date him) and he didn't even react to it.\n",
      "Statement 15: The sensation lasted hours. It seemed like a circulation problem, and I panicked and of course ended up in the ER again. This time a doctor came to see me immediately. He wanted to talk about my anxiety. He said he could run some more tests, but he didn't think it would help.\n",
      "Statement 16: It did hurt but didn’t leave any marks. When I lied down I kept coughing and today it feels kinda constricted like there’s a lump in my throat. I’ve googled and realised how serious it can be and now I’m terrified but scared to go doctor. What do I do I’m not calling police and I am not going to any hospital. I will go to doctor if they are sensitive about it\n",
      "Statement 17: he still holds me back in life. he still finds ways to get to me. YET I STILL TALK TO HIM. and i always feel worse after i do. i've tried blocking him on social media, but he still finds ways to get to me.\n",
      "Statement 18: Through work I have been in some dodgy situations abroad. A number of times my life has been at risk, and I've had to defend myself a few times. I'm a civilian and have only had basic weapon training. &#x200B; We've always had an ex-military security contractor with us, but still had to perform aggressive roles when approached.\n",
      "Statement 19: If anything goes wrong, sexually, I want to cease to exist, and a lot of the time, I'm not able to do it out of sheer anxiety. I used to be a very soft person, and I hope I'm still kind, but now I'm quicker to anger, and I don't want to become an abuser. Basically... was I abused? Does that sound like something an abused person would say? I feel like I have the symptoms of PTSD.\n",
      "Statement 20: I really don’t know what to do about this, and I’m wondering if I’m even able to get over this fear. A traumatic experience compounded it in me as a kid, and I’ve been experiencing it for so long that it feels like second nature. It’s lkkely so ingrained with me that therapy won’t do much good. I need some help. If anyone can offer some, feel free.\n",
      "Statement 21: November has been one of the worst months in a long time. My mom was in a car accident and has no idea how she's getting to work. A few days later my grandmother died and I didn't even have enough money to attend the funeral. I drove home to be with my family, and to drive my mom 5 hours to the airport. I spent a ton on gas and now money is tight.\n",
      "Statement 22: Also the headaches. LOADS of headaches all the time. I’m so done. I hate this almost as bad as my brain constantly telling me I’m a POS. Anxiety is fun :)\n",
      "Statement 23: I am really feeling like there are no good men. They are all just horrible to women. I think I would rather be alone than deal with any man again. Has anyone else felt like this? Did your feelings ever change?\n",
      "Statement 24: You can see the detail on my [update 2 right <url> and here's a link to the [project github <url> So I'm begging you here, literally begging you. If there's anyone out there who would be kind enough to give me a second chance to fix my fuck up and finish my degree, would you please consider giving me some financial aid via [my goFundMe <url> I'm literally in dire need of help right here and I don't know where else to turn other than the people of the internet :( ***Kind regards,\n",
      "Statement 25: Did I mention my parents are religious? I don't know if this is normal for religious people to treat. Whenever I tell them I'm terrified of being homeless they tell me I'm a \"acting like a baby\" and \"get over it\" my parents parents did not treat them this way. They're basically mad because they(I guess 30 or 40 years ago were different when they were my age? Because they said they both lived on their own at 17 and that they find it creepy I'm 16+ and they find it creepy being around me).\n",
      "Statement 26: But it's been 2 monthsalready this time. We didn't speak for Christmas or new year. I'm lonely, sad, angry at the situation (not angry at him!) and the worst part is not being able to talk or even know what's going on. We didn't fight before this so he's not angry at me.\n",
      "Statement 27: Sorry this going to be super long, I have a lot to say... Tl;dr... see title. It was constant up and down; one minute we were happy and he was being more affectionate than he has in years, the next he's screaming at me and calling me a whore. I get it, I broke him. I feel so disgusted and ashamed with myself but I truly want to spend my life with no one else.\n",
      "Statement 28: And it makes me more anxious which causes me to slip up *more*. It's getting WORSE though. I thought I could hold it down, this has been an ongoing issue for about a year or so and it has never been this bad but lately it's getting to the point where I can't even talk to my own MOTHER without freaking out over this shit. She came back in town from a very long half year vacation recently and I had to go to dinner with her because that's what you're obligated to do and I had to sit there and try and make small talk with my brother the whole damn night looking anxious as fuck... I know they noticed.\n",
      "Statement 29: Our dog Jett has been diagnosed with diabetes and is now in the hospital to stabilize his blood sugar. Luckily, he seems to be doing well and he will be home with us soon. Unfortunately, his bill is large enough that we just can't cover it on our own (especially with our poor financial situation). We're being evicted from our home soon and trying to find a place with this bill is just too much for us by ourselves. [To help us with the bill, we set up a GoFundMe <url>\n",
      "Statement 30: I didn't do anything during spring break, except maybe go to work. And even then, I missed a day because I just couldn't deal with the stress. Most adults get excited to tell you they did absolutely nothing during their break. And there was a time when I enjoyed taking a break too. But now it seems like every time I have a break or a day off from work, it makes the stress worse.\n",
      "Statement 31: I feel like I will never trust my own judgement again. 3) I fucking HATE being this person. I hate being a victim. I would never judge anyone else in my situation, but I can’t stand having to see myself as someone who was abused. My grandfather abused my grandmother her whole marriage and I always felt like, because of that, I would always be on the lookout.\n",
      "Statement 32: Hey everyone. I need a place to vent and place my feelings because I don't know what to do anymore. This evening while playing a boardgame with my BF and some friends, I found out my BF lied big time. Short: last year we decided that I would join him this year on his skiing trip with his friends (his idea). This wasn't possible in the end (or so he told me) because his friends didn't want to rent a cabin but go on a cheap student skiing trip.\n",
      "Statement 33: I’ve been leaving lights on at night both in the main rooms and my bedroom. The fear is both physical and emotional. I’m so jumpy at work and at home. I feel like I’m seeing things everywhere and little waves of panic wash through me all day. I’m really just finding this incredibly difficult right now and needed to write it out I guess.\n",
      "Statement 34: Why would you say that to me\" and gets extremely offended. He continues on by giving me the silent treatment for 50 minutes and then comes in the room and tells me \"You don't understand me. No one understands me. I give up. On everything.\"\n",
      "Statement 35: She was already against smoking weed after college at first but now she seems to have moved to a stance where she's okay with me smoking weed as long as she's there when it happens, as in I could smoke with just her or when we're both hanging out with the same friends. I've tried asking her about it and genuinely understanding why she feels this way about it but she can't seem to describe it rationally, saying that it's a gut feeling that she gets that legitimately bothers her and gives her anxiety. She seemed very distressed talking about it and was almost at the poiint of tears saying that she wishes she knew why it bothers her so much but it does and she can't help it no matter how much she thinks about it or how much I try to explain it to her. I don't know how to explain this to her. I don't want to give up the option of smoking weed with friends but I don't want to break up with her over something like this because I love her.\n",
      "Statement 36: I'm worried I have a blood clot or something that gets aggravated when I wear them. I just want to be okay and to have a good time on this trip, but I've been so out of it, and I'm at my wit's end. Right now I'm lying down and I feel blood rushing all through my head, and bulging of blood vessels around my nose. I'm extremely sleep deprived and woozy but I'm scared to go to sleep and am in pain. I'm so scared.\n",
      "Statement 37: I have PTSD from my sexual abuse, and this week has been really hard. Really, since Dr. Ford came out against kavanaugh and the fallout of it. Today, though, was really hard. I come home to see my father watching fox news and agreeing that Dr. Ford is a lying whore. His words.\n",
      "Statement 38: And I don't ask for the nightmares to drain me of all energy and make me feel worse throughout the day the harder I try to be normal. I was planning on seeking counselling without my parent's knowledge for this condition once I get to university and get settled, but now I'm wondering if I'm going to be told the same thing by a therapist there. I'm not looking for a diagnosis, just people who share my experience or know what I'm talking about. I'm sorry if this seems kind of ranty or rambling, my thoughts are a bit of a mess and I'm not sure what to think. Thank you for reading all this, anyhow.\n",
      "Statement 39: i knew gay was humiliation. i tried bringing up to my dad, and he said he wouldn't care if his son was a fudge packer, nor would he care bout that son anymore. i then had to speak to the bishop of my church and tell him about me possibly being gay. my dad was in the back of the room and another man i had never met wa sitting next to him. He asked me if i had ever had any gay encounters.\n",
      "Statement 40: I know every time I have panic attacks to remind myself it's just in my head, but it sucks when little things just make you feel like shit! Does anyone else get triggered by stupid things like this? ? I'm even just pissed at myself for now feeling mad at my mom, like don't you know not to tell someone with health anxiety that \"they don't look right\"?? Ugh!\n",
      "Statement 41: In class, im always on edge, i cant focus on one thing for too long and i constantly scan my environment and I think they think im looking at them which im not. this also made it more awkward to talk to them. I been there for a month but im still very nervous around my peers and teachers. I know my teacher and the tutor there get nervous/uncomfortable around me, lately they haven't been talking to me much or coming up to me especially the tutor to ask if I need help  which they did before, my anxiety has gotten worse and I probably look more visibly uncomfortable than ever so that why they have barely asked if I needed help or said much to me ha! yet  seem more at ease with other people.\n",
      "Statement 42: I know this may seem like a small thing, but to someone with these problems, it's a huge deal and to be at a store where you do not feel \"safe\" around your managers and you can't talk with them and grow as an employee, what's the point of continuing to work there? So I luckily got them to put me on 3rd shift. Minimal contact and I still get to work for the company. As I did mention, I have been struggling lately with some things: being slow with completing tasks on the work list is the biggest issue I believe. I'm not sure why I'm slow, in the past a supervisor has said \"Yes you're slow, but you're thorough.\"\n",
      "Statement 43: I was consuming quite a lot of caffeine (up to 500mg per day) during the summer and I'm medicated with 18mg methylphenidate for ADHD. (I was rarely taking caffeine with methylphenidate together as there are a lot of side effects after doing that, one of them is anxiety and increased heart rate). I don't take methylphenidate now because of the high bp and my chest pains. I have an appointment to the cardiologyst but until then I'll have all my trial exams. I'm only 18 years old, is it really possible to have a chest angina at this age?\n",
      "Statement 44: But she says she can't stand hearing it because she's got enough on her plate as she actually suffers with depression herself. I do read other people's posts and think maybe I've actually had it easy. Maybe I'm just over exaggerating thing, but i feel like I need to get it off my chest. Anyway thanks for reading. ( sorry the post is so long ).\n",
      "Statement 45: I'm 24 and have massive amounts of stress going on with job hunting. I live with parents who are constantly on my back and getting angry with me for not having a job. They keep trying to help me by saying \"oh this place is hiring and that place is hiring again.\" I have tried all places where I live and every time I don't get an interview let alone hired. Even if they have a sign up that they are hiring, they tell me \"sorry we're not hiring right now.\"\n",
      "Statement 46: When I was a kid, I suffered a kind of unlikely injury that basically ruined me mentally, and it seems like I just CAN NOT get away from it, because it's such cheap gory shock value that everyone uses it when they need cheap gory shock value. And if I'm not mentally prepared to see it I have a panic attack or just start crying. A fucking jokey homebrew cursed item on r/DND did that to me today, and I hate that my trauma is so bad that I have to stay guarded even when I'm just reading a funny thread about my favorite hobby. I'm still thinking about that fucking item. I'm so tired.\n",
      "Statement 47: I don’t know. Was this okay? Should I hate him? Or was it just something new? I really don’t know what to make of the situation.\n",
      "Statement 48: Any tips for making more friends? Tl;dr: I've had very few friends throughout my life. Recently I've tried reaching out to a lot of people but almost all of them will decline my offer to hang out at some point. I guess maybe this has to do with how I am socially awkward in the past but I've also been told that I am trying too hard. Any tips for making more friends?\n",
      "Statement 49: Hello guys. This is my first post here. Ever since I can't fall asleep on a random night (few months ago) , I started getting anxiety at night and before heading to bed but everyday is different. Usually, when I get on bed n off the lights, my body started to heat up and i would sweat a little which makes me really uncomfortable. My heart would pound fast to which makes me anxious.\n",
      "Statement 50: I'm completely devastated. My cat was just hit and killed by a car. I don't think I'm allowed to bury him in the garden (we rent) and I don't know what to do. I've searched online and found loads of pet cremation services but they all cost a fortune. I don't have a penny to my name as I'm unemployed.\n"
     ]
    }
   ],
   "source": [
    "# Filter rows where 'status' is 'Anxiety' and get the 'statement' values\n",
    "anxiety_statements = data.loc[data['status'] == 'Stress', 'statement'].head(50)\n",
    "\n",
    "# Print the first 50 statements\n",
    "for idx, statement in enumerate(anxiety_statements):\n",
    "    print(f\"Statement {idx + 1}: {statement}\")"
   ]
  },
  {
   "cell_type": "code",
   "execution_count": 40,
   "id": "0cf7c5ed-dcfc-4b87-91fe-945fd4535527",
   "metadata": {},
   "outputs": [],
   "source": [
    "statement_13_stress = \"\"\"These past couple of months have been the worst. \n",
    "My anxiety has gotten so bad it’s effecting my sleep and relationship. \n",
    "I’ve become so paranoid about my health as well. \n",
    "I don’t feel like me anymore and I just feel scared all the time now over every little thing. \n",
    "I don’t have money to see a therapist either…\"\"\""
   ]
  },
  {
   "cell_type": "code",
   "execution_count": 41,
   "id": "75d3e708-8221-4b49-8b01-cd1a2b852350",
   "metadata": {},
   "outputs": [],
   "source": [
    "# Define function to remove emojis\n",
    "def remove_emojis(text):\n",
    "    # Regex pattern to match emojis (covers a wide range of emojis)\n",
    "    emoji_pattern = re.compile(\n",
    "        '['\n",
    "        '\\U0001F600-\\U0001F64F'  # emoticons\n",
    "        '\\U0001F300-\\U0001F5FF'  # symbols & pictographs\n",
    "        '\\U0001F680-\\U0001F6FF'  # transport & map symbols\n",
    "        '\\U0001F700-\\U0001F77F'  # alchemical symbols\n",
    "        '\\U0001F780-\\U0001F7FF'  # Geometric Shapes Extended\n",
    "        '\\U0001F800-\\U0001F8FF'  # Supplemental Arrows-C\n",
    "        '\\U0001F900-\\U0001F9FF'  # Supplemental Symbols and Pictographs\n",
    "        '\\U0001FA00-\\U0001FA6F'  # Chess Symbols\n",
    "        '\\U0001FA70-\\U0001FAFF'  # Symbols and Pictographs Extended-A\n",
    "        '\\U00002700-\\U000027BF'  # Dingbats\n",
    "        '\\U000024C2-\\U0001F251' \n",
    "        ']+', \n",
    "        flags=re.UNICODE\n",
    "    )\n",
    "    return emoji_pattern.sub(r'', text)\n",
    "\n",
    "# Define function to preprocess text\n",
    "def clean_text(text):\n",
    "    if not isinstance(text, str):\n",
    "        return\"\"\n",
    "    text = text.lower()\n",
    "    text = re.sub(r'https?://\\S+|www\\.\\S+', '', text)  # Remove links\n",
    "    text = re.sub(r'[^\\w\\s]', '', text) # Remove special char's & punct\n",
    "    text = re.sub(r'\\[|\\]', '', text)  # Remove square brackets\n",
    "    text = re.sub(r'\\d+', '', text) # Remove numbers\n",
    "    text = re.sub(r'<.*?>', '', text)  # Remove HTML tags\n",
    "    text = re.sub(r'\\n', '', text)  # Remove newlines\n",
    "    text = remove_emojis(text) # Apply emoji function from above\n",
    "    return text\n",
    "\n",
    "data['cleaned_statement'] = data['statement'].apply(lambda x: clean_text(x))\n",
    "\n",
    "# Creating list of stop words\n",
    "stopwords_list = stopwords.words('english')\n",
    "\n",
    "# Define function to tokenize, remove stopwords, and lemmatize\n",
    "def tokenize_stopwords(text):\n",
    "    tokens = word_tokenize(text)\n",
    "    cleaned_tokens = [w for w in tokens if w not in stopwords_list]\n",
    "    return cleaned_tokens\n",
    "\n",
    "# Tokenize\n",
    "data['tokens'] = data['cleaned_statement'].apply(tokenize_stopwords)"
   ]
  },
  {
   "cell_type": "code",
   "execution_count": 42,
   "id": "e3c1ec19-6814-4342-af64-7115ef87d4b1",
   "metadata": {},
   "outputs": [
    {
     "name": "stderr",
     "output_type": "stream",
     "text": [
      "[nltk_data] Downloading package stopwords to\n",
      "[nltk_data]     /Users/emmascotson/nltk_data...\n",
      "[nltk_data]   Package stopwords is already up-to-date!\n"
     ]
    }
   ],
   "source": [
    "# Import necessary libraries\n",
    "import nltk\n",
    "from nltk.corpus import stopwords\n",
    "from nltk.tokenize import word_tokenize\n",
    "from nltk.stem import WordNetLemmatizer\n",
    "import re\n",
    "\n",
    "# Download stopwords from NLTK (run this line once)\n",
    "nltk.download('stopwords')\n",
    "\n",
    "# Creating list of stop words\n",
    "stopwords_list = stopwords.words('english')\n",
    "\n",
    "# Define function to preprocess text\n",
    "def clean_text(text):\n",
    "    if not isinstance(text, str):\n",
    "        return\"\"\n",
    "    text = text.lower()\n",
    "    text = re.sub(r'https?://\\S+|www\\.\\S+', '', text)  # Remove links\n",
    "    text = re.sub(r'[^\\w\\s]', '', text) # Remove special char's & punct\n",
    "    text = re.sub(r'\\[|\\]', '', text)  # Remove square brackets\n",
    "    text = re.sub(r'\\d+', '', text) # Remove numbers\n",
    "    text = re.sub(r'<.*?>', '', text)  # Remove HTML tags\n",
    "    text = re.sub(r'\\n', '', text)  # Remove newlines\n",
    "    return text\n",
    "\n",
    "statement_13_stress = clean_text(statement_13_stress)\n",
    "\n",
    "# Define function to tokenize, remove stopwords, and lemmatize\n",
    "def tokenize_stopwords(text):\n",
    "    tokens = word_tokenize(text)\n",
    "    cleaned_tokens = [w for w in tokens if w not in stopwords_list]\n",
    "    return cleaned_tokens\n",
    "\n",
    "statement_13_stress = tokenize_stopwords(statement_13_stress)"
   ]
  },
  {
   "cell_type": "code",
   "execution_count": 43,
   "id": "e20698d4-173e-4ef3-818c-55d6979d3725",
   "metadata": {},
   "outputs": [
    {
     "data": {
      "text/plain": [
       "['past',\n",
       " 'couple',\n",
       " 'months',\n",
       " 'worst',\n",
       " 'anxiety',\n",
       " 'gotten',\n",
       " 'bad',\n",
       " 'effecting',\n",
       " 'sleep',\n",
       " 'relationship',\n",
       " 'ive',\n",
       " 'become',\n",
       " 'paranoid',\n",
       " 'health',\n",
       " 'well',\n",
       " 'dont',\n",
       " 'feel',\n",
       " 'like',\n",
       " 'anymore',\n",
       " 'feel',\n",
       " 'scared',\n",
       " 'time',\n",
       " 'every',\n",
       " 'little',\n",
       " 'thing',\n",
       " 'dont',\n",
       " 'money',\n",
       " 'see',\n",
       " 'therapist',\n",
       " 'either']"
      ]
     },
     "execution_count": 43,
     "metadata": {},
     "output_type": "execute_result"
    }
   ],
   "source": [
    "statement_13_stress"
   ]
  },
  {
   "cell_type": "code",
   "execution_count": null,
   "id": "9ef8bd80-1568-4c8b-93b0-15ca889949fb",
   "metadata": {},
   "outputs": [
    {
     "name": "stderr",
     "output_type": "stream",
     "text": [
      "/var/folders/1k/x4fbmx7x5jq2rlv4qntp985r0000gn/T/ipykernel_78115/1482409974.py:48: UserWarning:\n",
      "\n",
      "Tight layout not applied. The left and right margins cannot be made large enough to accommodate all Axes decorations.\n",
      "\n"
     ]
    },
    {
     "ename": "KeyboardInterrupt",
     "evalue": "",
     "output_type": "error",
     "traceback": [
      "\u001b[0;31m---------------------------------------------------------------------------\u001b[0m",
      "\u001b[0;31mKeyboardInterrupt\u001b[0m                         Traceback (most recent call last)",
      "Cell \u001b[0;32mIn[46], line 51\u001b[0m\n\u001b[1;32m     48\u001b[0m plt\u001b[38;5;241m.\u001b[39mtight_layout()\n\u001b[1;32m     50\u001b[0m \u001b[38;5;66;03m# Save plot with transparent background\u001b[39;00m\n\u001b[0;32m---> 51\u001b[0m \u001b[43mplt\u001b[49m\u001b[38;5;241;43m.\u001b[39;49m\u001b[43msavefig\u001b[49m\u001b[43m(\u001b[49m\u001b[38;5;124;43m'\u001b[39;49m\u001b[38;5;124;43mtfidf_plot.png\u001b[39;49m\u001b[38;5;124;43m'\u001b[39;49m\u001b[43m,\u001b[49m\u001b[43m \u001b[49m\u001b[43mbbox_inches\u001b[49m\u001b[38;5;241;43m=\u001b[39;49m\u001b[38;5;124;43m'\u001b[39;49m\u001b[38;5;124;43mtight\u001b[39;49m\u001b[38;5;124;43m'\u001b[39;49m\u001b[43m,\u001b[49m\u001b[43m \u001b[49m\u001b[43mtransparent\u001b[49m\u001b[38;5;241;43m=\u001b[39;49m\u001b[38;5;28;43;01mTrue\u001b[39;49;00m\u001b[43m)\u001b[49m\n\u001b[1;32m     52\u001b[0m plt\u001b[38;5;241m.\u001b[39mshow()\n",
      "File \u001b[0;32m/opt/anaconda3/envs/learn-env-3.9/lib/python3.10/site-packages/matplotlib/pyplot.py:1223\u001b[0m, in \u001b[0;36msavefig\u001b[0;34m(*args, **kwargs)\u001b[0m\n\u001b[1;32m   1220\u001b[0m fig \u001b[38;5;241m=\u001b[39m gcf()\n\u001b[1;32m   1221\u001b[0m \u001b[38;5;66;03m# savefig default implementation has no return, so mypy is unhappy\u001b[39;00m\n\u001b[1;32m   1222\u001b[0m \u001b[38;5;66;03m# presumably this is here because subclasses can return?\u001b[39;00m\n\u001b[0;32m-> 1223\u001b[0m res \u001b[38;5;241m=\u001b[39m \u001b[43mfig\u001b[49m\u001b[38;5;241;43m.\u001b[39;49m\u001b[43msavefig\u001b[49m\u001b[43m(\u001b[49m\u001b[38;5;241;43m*\u001b[39;49m\u001b[43margs\u001b[49m\u001b[43m,\u001b[49m\u001b[43m \u001b[49m\u001b[38;5;241;43m*\u001b[39;49m\u001b[38;5;241;43m*\u001b[39;49m\u001b[43mkwargs\u001b[49m\u001b[43m)\u001b[49m  \u001b[38;5;66;03m# type: ignore[func-returns-value]\u001b[39;00m\n\u001b[1;32m   1224\u001b[0m fig\u001b[38;5;241m.\u001b[39mcanvas\u001b[38;5;241m.\u001b[39mdraw_idle()  \u001b[38;5;66;03m# Need this if 'transparent=True', to reset colors.\u001b[39;00m\n\u001b[1;32m   1225\u001b[0m \u001b[38;5;28;01mreturn\u001b[39;00m res\n",
      "File \u001b[0;32m/opt/anaconda3/envs/learn-env-3.9/lib/python3.10/site-packages/matplotlib/figure.py:3388\u001b[0m, in \u001b[0;36mFigure.savefig\u001b[0;34m(self, fname, transparent, **kwargs)\u001b[0m\n\u001b[1;32m   3386\u001b[0m     \u001b[38;5;28;01mfor\u001b[39;00m ax \u001b[38;5;129;01min\u001b[39;00m \u001b[38;5;28mself\u001b[39m\u001b[38;5;241m.\u001b[39maxes:\n\u001b[1;32m   3387\u001b[0m         _recursively_make_axes_transparent(stack, ax)\n\u001b[0;32m-> 3388\u001b[0m \u001b[38;5;28;43mself\u001b[39;49m\u001b[38;5;241;43m.\u001b[39;49m\u001b[43mcanvas\u001b[49m\u001b[38;5;241;43m.\u001b[39;49m\u001b[43mprint_figure\u001b[49m\u001b[43m(\u001b[49m\u001b[43mfname\u001b[49m\u001b[43m,\u001b[49m\u001b[43m \u001b[49m\u001b[38;5;241;43m*\u001b[39;49m\u001b[38;5;241;43m*\u001b[39;49m\u001b[43mkwargs\u001b[49m\u001b[43m)\u001b[49m\n",
      "File \u001b[0;32m/opt/anaconda3/envs/learn-env-3.9/lib/python3.10/site-packages/matplotlib/backend_bases.py:2189\u001b[0m, in \u001b[0;36mFigureCanvasBase.print_figure\u001b[0;34m(self, filename, dpi, facecolor, edgecolor, orientation, format, bbox_inches, pad_inches, bbox_extra_artists, backend, **kwargs)\u001b[0m\n\u001b[1;32m   2186\u001b[0m     \u001b[38;5;66;03m# we do this instead of `self.figure.draw_without_rendering`\u001b[39;00m\n\u001b[1;32m   2187\u001b[0m     \u001b[38;5;66;03m# so that we can inject the orientation\u001b[39;00m\n\u001b[1;32m   2188\u001b[0m     \u001b[38;5;28;01mwith\u001b[39;00m \u001b[38;5;28mgetattr\u001b[39m(renderer, \u001b[38;5;124m\"\u001b[39m\u001b[38;5;124m_draw_disabled\u001b[39m\u001b[38;5;124m\"\u001b[39m, nullcontext)():\n\u001b[0;32m-> 2189\u001b[0m         \u001b[38;5;28;43mself\u001b[39;49m\u001b[38;5;241;43m.\u001b[39;49m\u001b[43mfigure\u001b[49m\u001b[38;5;241;43m.\u001b[39;49m\u001b[43mdraw\u001b[49m\u001b[43m(\u001b[49m\u001b[43mrenderer\u001b[49m\u001b[43m)\u001b[49m\n\u001b[1;32m   2190\u001b[0m \u001b[38;5;28;01mif\u001b[39;00m bbox_inches:\n\u001b[1;32m   2191\u001b[0m     \u001b[38;5;28;01mif\u001b[39;00m bbox_inches \u001b[38;5;241m==\u001b[39m \u001b[38;5;124m\"\u001b[39m\u001b[38;5;124mtight\u001b[39m\u001b[38;5;124m\"\u001b[39m:\n",
      "File \u001b[0;32m/opt/anaconda3/envs/learn-env-3.9/lib/python3.10/site-packages/matplotlib/artist.py:95\u001b[0m, in \u001b[0;36m_finalize_rasterization.<locals>.draw_wrapper\u001b[0;34m(artist, renderer, *args, **kwargs)\u001b[0m\n\u001b[1;32m     93\u001b[0m \u001b[38;5;129m@wraps\u001b[39m(draw)\n\u001b[1;32m     94\u001b[0m \u001b[38;5;28;01mdef\u001b[39;00m \u001b[38;5;21mdraw_wrapper\u001b[39m(artist, renderer, \u001b[38;5;241m*\u001b[39margs, \u001b[38;5;241m*\u001b[39m\u001b[38;5;241m*\u001b[39mkwargs):\n\u001b[0;32m---> 95\u001b[0m     result \u001b[38;5;241m=\u001b[39m \u001b[43mdraw\u001b[49m\u001b[43m(\u001b[49m\u001b[43martist\u001b[49m\u001b[43m,\u001b[49m\u001b[43m \u001b[49m\u001b[43mrenderer\u001b[49m\u001b[43m,\u001b[49m\u001b[43m \u001b[49m\u001b[38;5;241;43m*\u001b[39;49m\u001b[43margs\u001b[49m\u001b[43m,\u001b[49m\u001b[43m \u001b[49m\u001b[38;5;241;43m*\u001b[39;49m\u001b[38;5;241;43m*\u001b[39;49m\u001b[43mkwargs\u001b[49m\u001b[43m)\u001b[49m\n\u001b[1;32m     96\u001b[0m     \u001b[38;5;28;01mif\u001b[39;00m renderer\u001b[38;5;241m.\u001b[39m_rasterizing:\n\u001b[1;32m     97\u001b[0m         renderer\u001b[38;5;241m.\u001b[39mstop_rasterizing()\n",
      "File \u001b[0;32m/opt/anaconda3/envs/learn-env-3.9/lib/python3.10/site-packages/matplotlib/artist.py:72\u001b[0m, in \u001b[0;36mallow_rasterization.<locals>.draw_wrapper\u001b[0;34m(artist, renderer)\u001b[0m\n\u001b[1;32m     69\u001b[0m     \u001b[38;5;28;01mif\u001b[39;00m artist\u001b[38;5;241m.\u001b[39mget_agg_filter() \u001b[38;5;129;01mis\u001b[39;00m \u001b[38;5;129;01mnot\u001b[39;00m \u001b[38;5;28;01mNone\u001b[39;00m:\n\u001b[1;32m     70\u001b[0m         renderer\u001b[38;5;241m.\u001b[39mstart_filter()\n\u001b[0;32m---> 72\u001b[0m     \u001b[38;5;28;01mreturn\u001b[39;00m \u001b[43mdraw\u001b[49m\u001b[43m(\u001b[49m\u001b[43martist\u001b[49m\u001b[43m,\u001b[49m\u001b[43m \u001b[49m\u001b[43mrenderer\u001b[49m\u001b[43m)\u001b[49m\n\u001b[1;32m     73\u001b[0m \u001b[38;5;28;01mfinally\u001b[39;00m:\n\u001b[1;32m     74\u001b[0m     \u001b[38;5;28;01mif\u001b[39;00m artist\u001b[38;5;241m.\u001b[39mget_agg_filter() \u001b[38;5;129;01mis\u001b[39;00m \u001b[38;5;129;01mnot\u001b[39;00m \u001b[38;5;28;01mNone\u001b[39;00m:\n",
      "File \u001b[0;32m/opt/anaconda3/envs/learn-env-3.9/lib/python3.10/site-packages/matplotlib/figure.py:3155\u001b[0m, in \u001b[0;36mFigure.draw\u001b[0;34m(self, renderer)\u001b[0m\n\u001b[1;32m   3152\u001b[0m             \u001b[38;5;66;03m# ValueError can occur when resizing a window.\u001b[39;00m\n\u001b[1;32m   3154\u001b[0m     \u001b[38;5;28mself\u001b[39m\u001b[38;5;241m.\u001b[39mpatch\u001b[38;5;241m.\u001b[39mdraw(renderer)\n\u001b[0;32m-> 3155\u001b[0m     \u001b[43mmimage\u001b[49m\u001b[38;5;241;43m.\u001b[39;49m\u001b[43m_draw_list_compositing_images\u001b[49m\u001b[43m(\u001b[49m\n\u001b[1;32m   3156\u001b[0m \u001b[43m        \u001b[49m\u001b[43mrenderer\u001b[49m\u001b[43m,\u001b[49m\u001b[43m \u001b[49m\u001b[38;5;28;43mself\u001b[39;49m\u001b[43m,\u001b[49m\u001b[43m \u001b[49m\u001b[43martists\u001b[49m\u001b[43m,\u001b[49m\u001b[43m \u001b[49m\u001b[38;5;28;43mself\u001b[39;49m\u001b[38;5;241;43m.\u001b[39;49m\u001b[43msuppressComposite\u001b[49m\u001b[43m)\u001b[49m\n\u001b[1;32m   3158\u001b[0m     renderer\u001b[38;5;241m.\u001b[39mclose_group(\u001b[38;5;124m'\u001b[39m\u001b[38;5;124mfigure\u001b[39m\u001b[38;5;124m'\u001b[39m)\n\u001b[1;32m   3159\u001b[0m \u001b[38;5;28;01mfinally\u001b[39;00m:\n",
      "File \u001b[0;32m/opt/anaconda3/envs/learn-env-3.9/lib/python3.10/site-packages/matplotlib/image.py:132\u001b[0m, in \u001b[0;36m_draw_list_compositing_images\u001b[0;34m(renderer, parent, artists, suppress_composite)\u001b[0m\n\u001b[1;32m    130\u001b[0m \u001b[38;5;28;01mif\u001b[39;00m not_composite \u001b[38;5;129;01mor\u001b[39;00m \u001b[38;5;129;01mnot\u001b[39;00m has_images:\n\u001b[1;32m    131\u001b[0m     \u001b[38;5;28;01mfor\u001b[39;00m a \u001b[38;5;129;01min\u001b[39;00m artists:\n\u001b[0;32m--> 132\u001b[0m         \u001b[43ma\u001b[49m\u001b[38;5;241;43m.\u001b[39;49m\u001b[43mdraw\u001b[49m\u001b[43m(\u001b[49m\u001b[43mrenderer\u001b[49m\u001b[43m)\u001b[49m\n\u001b[1;32m    133\u001b[0m \u001b[38;5;28;01melse\u001b[39;00m:\n\u001b[1;32m    134\u001b[0m     \u001b[38;5;66;03m# Composite any adjacent images together\u001b[39;00m\n\u001b[1;32m    135\u001b[0m     image_group \u001b[38;5;241m=\u001b[39m []\n",
      "File \u001b[0;32m/opt/anaconda3/envs/learn-env-3.9/lib/python3.10/site-packages/matplotlib/artist.py:72\u001b[0m, in \u001b[0;36mallow_rasterization.<locals>.draw_wrapper\u001b[0;34m(artist, renderer)\u001b[0m\n\u001b[1;32m     69\u001b[0m     \u001b[38;5;28;01mif\u001b[39;00m artist\u001b[38;5;241m.\u001b[39mget_agg_filter() \u001b[38;5;129;01mis\u001b[39;00m \u001b[38;5;129;01mnot\u001b[39;00m \u001b[38;5;28;01mNone\u001b[39;00m:\n\u001b[1;32m     70\u001b[0m         renderer\u001b[38;5;241m.\u001b[39mstart_filter()\n\u001b[0;32m---> 72\u001b[0m     \u001b[38;5;28;01mreturn\u001b[39;00m \u001b[43mdraw\u001b[49m\u001b[43m(\u001b[49m\u001b[43martist\u001b[49m\u001b[43m,\u001b[49m\u001b[43m \u001b[49m\u001b[43mrenderer\u001b[49m\u001b[43m)\u001b[49m\n\u001b[1;32m     73\u001b[0m \u001b[38;5;28;01mfinally\u001b[39;00m:\n\u001b[1;32m     74\u001b[0m     \u001b[38;5;28;01mif\u001b[39;00m artist\u001b[38;5;241m.\u001b[39mget_agg_filter() \u001b[38;5;129;01mis\u001b[39;00m \u001b[38;5;129;01mnot\u001b[39;00m \u001b[38;5;28;01mNone\u001b[39;00m:\n",
      "File \u001b[0;32m/opt/anaconda3/envs/learn-env-3.9/lib/python3.10/site-packages/matplotlib/axes/_base.py:3109\u001b[0m, in \u001b[0;36m_AxesBase.draw\u001b[0;34m(self, renderer)\u001b[0m\n\u001b[1;32m   3106\u001b[0m \u001b[38;5;28;01mif\u001b[39;00m artists_rasterized:\n\u001b[1;32m   3107\u001b[0m     _draw_rasterized(\u001b[38;5;28mself\u001b[39m\u001b[38;5;241m.\u001b[39mfigure, artists_rasterized, renderer)\n\u001b[0;32m-> 3109\u001b[0m \u001b[43mmimage\u001b[49m\u001b[38;5;241;43m.\u001b[39;49m\u001b[43m_draw_list_compositing_images\u001b[49m\u001b[43m(\u001b[49m\n\u001b[1;32m   3110\u001b[0m \u001b[43m    \u001b[49m\u001b[43mrenderer\u001b[49m\u001b[43m,\u001b[49m\u001b[43m \u001b[49m\u001b[38;5;28;43mself\u001b[39;49m\u001b[43m,\u001b[49m\u001b[43m \u001b[49m\u001b[43martists\u001b[49m\u001b[43m,\u001b[49m\u001b[43m \u001b[49m\u001b[38;5;28;43mself\u001b[39;49m\u001b[38;5;241;43m.\u001b[39;49m\u001b[43mfigure\u001b[49m\u001b[38;5;241;43m.\u001b[39;49m\u001b[43msuppressComposite\u001b[49m\u001b[43m)\u001b[49m\n\u001b[1;32m   3112\u001b[0m renderer\u001b[38;5;241m.\u001b[39mclose_group(\u001b[38;5;124m'\u001b[39m\u001b[38;5;124maxes\u001b[39m\u001b[38;5;124m'\u001b[39m)\n\u001b[1;32m   3113\u001b[0m \u001b[38;5;28mself\u001b[39m\u001b[38;5;241m.\u001b[39mstale \u001b[38;5;241m=\u001b[39m \u001b[38;5;28;01mFalse\u001b[39;00m\n",
      "File \u001b[0;32m/opt/anaconda3/envs/learn-env-3.9/lib/python3.10/site-packages/matplotlib/image.py:132\u001b[0m, in \u001b[0;36m_draw_list_compositing_images\u001b[0;34m(renderer, parent, artists, suppress_composite)\u001b[0m\n\u001b[1;32m    130\u001b[0m \u001b[38;5;28;01mif\u001b[39;00m not_composite \u001b[38;5;129;01mor\u001b[39;00m \u001b[38;5;129;01mnot\u001b[39;00m has_images:\n\u001b[1;32m    131\u001b[0m     \u001b[38;5;28;01mfor\u001b[39;00m a \u001b[38;5;129;01min\u001b[39;00m artists:\n\u001b[0;32m--> 132\u001b[0m         \u001b[43ma\u001b[49m\u001b[38;5;241;43m.\u001b[39;49m\u001b[43mdraw\u001b[49m\u001b[43m(\u001b[49m\u001b[43mrenderer\u001b[49m\u001b[43m)\u001b[49m\n\u001b[1;32m    133\u001b[0m \u001b[38;5;28;01melse\u001b[39;00m:\n\u001b[1;32m    134\u001b[0m     \u001b[38;5;66;03m# Composite any adjacent images together\u001b[39;00m\n\u001b[1;32m    135\u001b[0m     image_group \u001b[38;5;241m=\u001b[39m []\n",
      "File \u001b[0;32m/opt/anaconda3/envs/learn-env-3.9/lib/python3.10/site-packages/matplotlib/artist.py:72\u001b[0m, in \u001b[0;36mallow_rasterization.<locals>.draw_wrapper\u001b[0;34m(artist, renderer)\u001b[0m\n\u001b[1;32m     69\u001b[0m     \u001b[38;5;28;01mif\u001b[39;00m artist\u001b[38;5;241m.\u001b[39mget_agg_filter() \u001b[38;5;129;01mis\u001b[39;00m \u001b[38;5;129;01mnot\u001b[39;00m \u001b[38;5;28;01mNone\u001b[39;00m:\n\u001b[1;32m     70\u001b[0m         renderer\u001b[38;5;241m.\u001b[39mstart_filter()\n\u001b[0;32m---> 72\u001b[0m     \u001b[38;5;28;01mreturn\u001b[39;00m \u001b[43mdraw\u001b[49m\u001b[43m(\u001b[49m\u001b[43martist\u001b[49m\u001b[43m,\u001b[49m\u001b[43m \u001b[49m\u001b[43mrenderer\u001b[49m\u001b[43m)\u001b[49m\n\u001b[1;32m     73\u001b[0m \u001b[38;5;28;01mfinally\u001b[39;00m:\n\u001b[1;32m     74\u001b[0m     \u001b[38;5;28;01mif\u001b[39;00m artist\u001b[38;5;241m.\u001b[39mget_agg_filter() \u001b[38;5;129;01mis\u001b[39;00m \u001b[38;5;129;01mnot\u001b[39;00m \u001b[38;5;28;01mNone\u001b[39;00m:\n",
      "File \u001b[0;32m/opt/anaconda3/envs/learn-env-3.9/lib/python3.10/site-packages/matplotlib/axis.py:1423\u001b[0m, in \u001b[0;36mAxis.draw\u001b[0;34m(self, renderer)\u001b[0m\n\u001b[1;32m   1420\u001b[0m renderer\u001b[38;5;241m.\u001b[39mopen_group(\u001b[38;5;18m__name__\u001b[39m, gid\u001b[38;5;241m=\u001b[39m\u001b[38;5;28mself\u001b[39m\u001b[38;5;241m.\u001b[39mget_gid())\n\u001b[1;32m   1422\u001b[0m ticks_to_draw \u001b[38;5;241m=\u001b[39m \u001b[38;5;28mself\u001b[39m\u001b[38;5;241m.\u001b[39m_update_ticks()\n\u001b[0;32m-> 1423\u001b[0m tlb1, tlb2 \u001b[38;5;241m=\u001b[39m \u001b[38;5;28;43mself\u001b[39;49m\u001b[38;5;241;43m.\u001b[39;49m\u001b[43m_get_ticklabel_bboxes\u001b[49m\u001b[43m(\u001b[49m\u001b[43mticks_to_draw\u001b[49m\u001b[43m,\u001b[49m\u001b[43m \u001b[49m\u001b[43mrenderer\u001b[49m\u001b[43m)\u001b[49m\n\u001b[1;32m   1425\u001b[0m \u001b[38;5;28;01mfor\u001b[39;00m tick \u001b[38;5;129;01min\u001b[39;00m ticks_to_draw:\n\u001b[1;32m   1426\u001b[0m     tick\u001b[38;5;241m.\u001b[39mdraw(renderer)\n",
      "File \u001b[0;32m/opt/anaconda3/envs/learn-env-3.9/lib/python3.10/site-packages/matplotlib/axis.py:1350\u001b[0m, in \u001b[0;36mAxis._get_ticklabel_bboxes\u001b[0;34m(self, ticks, renderer)\u001b[0m\n\u001b[1;32m   1348\u001b[0m \u001b[38;5;28;01mif\u001b[39;00m renderer \u001b[38;5;129;01mis\u001b[39;00m \u001b[38;5;28;01mNone\u001b[39;00m:\n\u001b[1;32m   1349\u001b[0m     renderer \u001b[38;5;241m=\u001b[39m \u001b[38;5;28mself\u001b[39m\u001b[38;5;241m.\u001b[39mfigure\u001b[38;5;241m.\u001b[39m_get_renderer()\n\u001b[0;32m-> 1350\u001b[0m \u001b[38;5;28;01mreturn\u001b[39;00m ([tick\u001b[38;5;241m.\u001b[39mlabel1\u001b[38;5;241m.\u001b[39mget_window_extent(renderer)\n\u001b[1;32m   1351\u001b[0m          \u001b[38;5;28;01mfor\u001b[39;00m tick \u001b[38;5;129;01min\u001b[39;00m ticks \u001b[38;5;28;01mif\u001b[39;00m tick\u001b[38;5;241m.\u001b[39mlabel1\u001b[38;5;241m.\u001b[39mget_visible()],\n\u001b[1;32m   1352\u001b[0m         [tick\u001b[38;5;241m.\u001b[39mlabel2\u001b[38;5;241m.\u001b[39mget_window_extent(renderer)\n\u001b[1;32m   1353\u001b[0m          \u001b[38;5;28;01mfor\u001b[39;00m tick \u001b[38;5;129;01min\u001b[39;00m ticks \u001b[38;5;28;01mif\u001b[39;00m tick\u001b[38;5;241m.\u001b[39mlabel2\u001b[38;5;241m.\u001b[39mget_visible()])\n",
      "File \u001b[0;32m/opt/anaconda3/envs/learn-env-3.9/lib/python3.10/site-packages/matplotlib/axis.py:1350\u001b[0m, in \u001b[0;36m<listcomp>\u001b[0;34m(.0)\u001b[0m\n\u001b[1;32m   1348\u001b[0m \u001b[38;5;28;01mif\u001b[39;00m renderer \u001b[38;5;129;01mis\u001b[39;00m \u001b[38;5;28;01mNone\u001b[39;00m:\n\u001b[1;32m   1349\u001b[0m     renderer \u001b[38;5;241m=\u001b[39m \u001b[38;5;28mself\u001b[39m\u001b[38;5;241m.\u001b[39mfigure\u001b[38;5;241m.\u001b[39m_get_renderer()\n\u001b[0;32m-> 1350\u001b[0m \u001b[38;5;28;01mreturn\u001b[39;00m ([\u001b[43mtick\u001b[49m\u001b[38;5;241;43m.\u001b[39;49m\u001b[43mlabel1\u001b[49m\u001b[38;5;241;43m.\u001b[39;49m\u001b[43mget_window_extent\u001b[49m\u001b[43m(\u001b[49m\u001b[43mrenderer\u001b[49m\u001b[43m)\u001b[49m\n\u001b[1;32m   1351\u001b[0m          \u001b[38;5;28;01mfor\u001b[39;00m tick \u001b[38;5;129;01min\u001b[39;00m ticks \u001b[38;5;28;01mif\u001b[39;00m tick\u001b[38;5;241m.\u001b[39mlabel1\u001b[38;5;241m.\u001b[39mget_visible()],\n\u001b[1;32m   1352\u001b[0m         [tick\u001b[38;5;241m.\u001b[39mlabel2\u001b[38;5;241m.\u001b[39mget_window_extent(renderer)\n\u001b[1;32m   1353\u001b[0m          \u001b[38;5;28;01mfor\u001b[39;00m tick \u001b[38;5;129;01min\u001b[39;00m ticks \u001b[38;5;28;01mif\u001b[39;00m tick\u001b[38;5;241m.\u001b[39mlabel2\u001b[38;5;241m.\u001b[39mget_visible()])\n",
      "File \u001b[0;32m/opt/anaconda3/envs/learn-env-3.9/lib/python3.10/site-packages/matplotlib/text.py:956\u001b[0m, in \u001b[0;36mText.get_window_extent\u001b[0;34m(self, renderer, dpi)\u001b[0m\n\u001b[1;32m    951\u001b[0m     \u001b[38;5;28;01mraise\u001b[39;00m \u001b[38;5;167;01mRuntimeError\u001b[39;00m(\n\u001b[1;32m    952\u001b[0m         \u001b[38;5;124m\"\u001b[39m\u001b[38;5;124mCannot get window extent of text w/o renderer. You likely \u001b[39m\u001b[38;5;124m\"\u001b[39m\n\u001b[1;32m    953\u001b[0m         \u001b[38;5;124m\"\u001b[39m\u001b[38;5;124mwant to call \u001b[39m\u001b[38;5;124m'\u001b[39m\u001b[38;5;124mfigure.draw_without_rendering()\u001b[39m\u001b[38;5;124m'\u001b[39m\u001b[38;5;124m first.\u001b[39m\u001b[38;5;124m\"\u001b[39m)\n\u001b[1;32m    955\u001b[0m \u001b[38;5;28;01mwith\u001b[39;00m cbook\u001b[38;5;241m.\u001b[39m_setattr_cm(\u001b[38;5;28mself\u001b[39m\u001b[38;5;241m.\u001b[39mfigure, dpi\u001b[38;5;241m=\u001b[39mdpi):\n\u001b[0;32m--> 956\u001b[0m     bbox, info, descent \u001b[38;5;241m=\u001b[39m \u001b[38;5;28;43mself\u001b[39;49m\u001b[38;5;241;43m.\u001b[39;49m\u001b[43m_get_layout\u001b[49m\u001b[43m(\u001b[49m\u001b[38;5;28;43mself\u001b[39;49m\u001b[38;5;241;43m.\u001b[39;49m\u001b[43m_renderer\u001b[49m\u001b[43m)\u001b[49m\n\u001b[1;32m    957\u001b[0m     x, y \u001b[38;5;241m=\u001b[39m \u001b[38;5;28mself\u001b[39m\u001b[38;5;241m.\u001b[39mget_unitless_position()\n\u001b[1;32m    958\u001b[0m     x, y \u001b[38;5;241m=\u001b[39m \u001b[38;5;28mself\u001b[39m\u001b[38;5;241m.\u001b[39mget_transform()\u001b[38;5;241m.\u001b[39mtransform((x, y))\n",
      "File \u001b[0;32m/opt/anaconda3/envs/learn-env-3.9/lib/python3.10/site-packages/matplotlib/text.py:381\u001b[0m, in \u001b[0;36mText._get_layout\u001b[0;34m(self, renderer)\u001b[0m\n\u001b[1;32m    379\u001b[0m clean_line, ismath \u001b[38;5;241m=\u001b[39m \u001b[38;5;28mself\u001b[39m\u001b[38;5;241m.\u001b[39m_preprocess_math(line)\n\u001b[1;32m    380\u001b[0m \u001b[38;5;28;01mif\u001b[39;00m clean_line:\n\u001b[0;32m--> 381\u001b[0m     w, h, d \u001b[38;5;241m=\u001b[39m \u001b[43m_get_text_metrics_with_cache\u001b[49m\u001b[43m(\u001b[49m\n\u001b[1;32m    382\u001b[0m \u001b[43m        \u001b[49m\u001b[43mrenderer\u001b[49m\u001b[43m,\u001b[49m\u001b[43m \u001b[49m\u001b[43mclean_line\u001b[49m\u001b[43m,\u001b[49m\u001b[43m \u001b[49m\u001b[38;5;28;43mself\u001b[39;49m\u001b[38;5;241;43m.\u001b[39;49m\u001b[43m_fontproperties\u001b[49m\u001b[43m,\u001b[49m\n\u001b[1;32m    383\u001b[0m \u001b[43m        \u001b[49m\u001b[43mismath\u001b[49m\u001b[38;5;241;43m=\u001b[39;49m\u001b[43mismath\u001b[49m\u001b[43m,\u001b[49m\u001b[43m \u001b[49m\u001b[43mdpi\u001b[49m\u001b[38;5;241;43m=\u001b[39;49m\u001b[38;5;28;43mself\u001b[39;49m\u001b[38;5;241;43m.\u001b[39;49m\u001b[43mfigure\u001b[49m\u001b[38;5;241;43m.\u001b[39;49m\u001b[43mdpi\u001b[49m\u001b[43m)\u001b[49m\n\u001b[1;32m    384\u001b[0m \u001b[38;5;28;01melse\u001b[39;00m:\n\u001b[1;32m    385\u001b[0m     w \u001b[38;5;241m=\u001b[39m h \u001b[38;5;241m=\u001b[39m d \u001b[38;5;241m=\u001b[39m \u001b[38;5;241m0\u001b[39m\n",
      "File \u001b[0;32m/opt/anaconda3/envs/learn-env-3.9/lib/python3.10/site-packages/matplotlib/text.py:69\u001b[0m, in \u001b[0;36m_get_text_metrics_with_cache\u001b[0;34m(renderer, text, fontprop, ismath, dpi)\u001b[0m\n\u001b[1;32m     66\u001b[0m \u001b[38;5;250m\u001b[39m\u001b[38;5;124;03m\"\"\"Call ``renderer.get_text_width_height_descent``, caching the results.\"\"\"\u001b[39;00m\n\u001b[1;32m     67\u001b[0m \u001b[38;5;66;03m# Cached based on a copy of fontprop so that later in-place mutations of\u001b[39;00m\n\u001b[1;32m     68\u001b[0m \u001b[38;5;66;03m# the passed-in argument do not mess up the cache.\u001b[39;00m\n\u001b[0;32m---> 69\u001b[0m \u001b[38;5;28;01mreturn\u001b[39;00m \u001b[43m_get_text_metrics_with_cache_impl\u001b[49m\u001b[43m(\u001b[49m\n\u001b[1;32m     70\u001b[0m \u001b[43m    \u001b[49m\u001b[43mweakref\u001b[49m\u001b[38;5;241;43m.\u001b[39;49m\u001b[43mref\u001b[49m\u001b[43m(\u001b[49m\u001b[43mrenderer\u001b[49m\u001b[43m)\u001b[49m\u001b[43m,\u001b[49m\u001b[43m \u001b[49m\u001b[43mtext\u001b[49m\u001b[43m,\u001b[49m\u001b[43m \u001b[49m\u001b[43mfontprop\u001b[49m\u001b[38;5;241;43m.\u001b[39;49m\u001b[43mcopy\u001b[49m\u001b[43m(\u001b[49m\u001b[43m)\u001b[49m\u001b[43m,\u001b[49m\u001b[43m \u001b[49m\u001b[43mismath\u001b[49m\u001b[43m,\u001b[49m\u001b[43m \u001b[49m\u001b[43mdpi\u001b[49m\u001b[43m)\u001b[49m\n",
      "File \u001b[0;32m/opt/anaconda3/envs/learn-env-3.9/lib/python3.10/site-packages/matplotlib/text.py:77\u001b[0m, in \u001b[0;36m_get_text_metrics_with_cache_impl\u001b[0;34m(renderer_ref, text, fontprop, ismath, dpi)\u001b[0m\n\u001b[1;32m     73\u001b[0m \u001b[38;5;129m@functools\u001b[39m\u001b[38;5;241m.\u001b[39mlru_cache(\u001b[38;5;241m4096\u001b[39m)\n\u001b[1;32m     74\u001b[0m \u001b[38;5;28;01mdef\u001b[39;00m \u001b[38;5;21m_get_text_metrics_with_cache_impl\u001b[39m(\n\u001b[1;32m     75\u001b[0m         renderer_ref, text, fontprop, ismath, dpi):\n\u001b[1;32m     76\u001b[0m     \u001b[38;5;66;03m# dpi is unused, but participates in cache invalidation (via the renderer).\u001b[39;00m\n\u001b[0;32m---> 77\u001b[0m     \u001b[38;5;28;01mreturn\u001b[39;00m \u001b[43mrenderer_ref\u001b[49m\u001b[43m(\u001b[49m\u001b[43m)\u001b[49m\u001b[38;5;241;43m.\u001b[39;49m\u001b[43mget_text_width_height_descent\u001b[49m\u001b[43m(\u001b[49m\u001b[43mtext\u001b[49m\u001b[43m,\u001b[49m\u001b[43m \u001b[49m\u001b[43mfontprop\u001b[49m\u001b[43m,\u001b[49m\u001b[43m \u001b[49m\u001b[43mismath\u001b[49m\u001b[43m)\u001b[49m\n",
      "File \u001b[0;32m/opt/anaconda3/envs/learn-env-3.9/lib/python3.10/site-packages/matplotlib/backends/backend_agg.py:220\u001b[0m, in \u001b[0;36mRendererAgg.get_text_width_height_descent\u001b[0;34m(self, s, prop, ismath)\u001b[0m\n\u001b[1;32m    217\u001b[0m     \u001b[38;5;28;01mreturn\u001b[39;00m width, height, descent\n\u001b[1;32m    219\u001b[0m font \u001b[38;5;241m=\u001b[39m \u001b[38;5;28mself\u001b[39m\u001b[38;5;241m.\u001b[39m_prepare_font(prop)\n\u001b[0;32m--> 220\u001b[0m \u001b[43mfont\u001b[49m\u001b[38;5;241;43m.\u001b[39;49m\u001b[43mset_text\u001b[49m\u001b[43m(\u001b[49m\u001b[43ms\u001b[49m\u001b[43m,\u001b[49m\u001b[43m \u001b[49m\u001b[38;5;241;43m0.0\u001b[39;49m\u001b[43m,\u001b[49m\u001b[43m \u001b[49m\u001b[43mflags\u001b[49m\u001b[38;5;241;43m=\u001b[39;49m\u001b[43mget_hinting_flag\u001b[49m\u001b[43m(\u001b[49m\u001b[43m)\u001b[49m\u001b[43m)\u001b[49m\n\u001b[1;32m    221\u001b[0m w, h \u001b[38;5;241m=\u001b[39m font\u001b[38;5;241m.\u001b[39mget_width_height()  \u001b[38;5;66;03m# width and height of unrotated string\u001b[39;00m\n\u001b[1;32m    222\u001b[0m d \u001b[38;5;241m=\u001b[39m font\u001b[38;5;241m.\u001b[39mget_descent()\n",
      "\u001b[0;31mKeyboardInterrupt\u001b[0m: "
     ]
    }
   ],
   "source": [
    "from sklearn.feature_extraction.text import TfidfVectorizer\n",
    "import matplotlib.pyplot as plt\n",
    "\n",
    "# Define the single statement as a list of words\n",
    "statement_13_stress = [\n",
    "    'past', 'couple', 'months', 'worst', 'anxiety', 'gotten', 'bad', 'effecting',\n",
    "    'sleep', 'relationship', 'ive', 'become', 'paranoid', 'health', 'well', 'dont',\n",
    "    'feel', 'like', 'anymore', 'feel', 'scared', 'time', 'every', 'little', 'thing',\n",
    "    'dont', 'money', 'see', 'therapist', 'either'\n",
    "]\n",
    "\n",
    "# Join tokens from statement_13_stress into a single string\n",
    "statement_13_stress_text = ' '.join(statement_13_stress)\n",
    "\n",
    "# Initialize TF-IDF vectorizer and fit on entire corpus\n",
    "tfidf_vectorizer = TfidfVectorizer()\n",
    "tfidf_matrix = tfidf_vectorizer.fit_transform(data['tokens'].apply(lambda x: ' '.join(x)))\n",
    "\n",
    "# Transform statement_13_stress tokens\n",
    "tfidf_statement = tfidf_vectorizer.transform([statement_13_stress_text])\n",
    "\n",
    "# Get feature names (words)\n",
    "feature_names = tfidf_vectorizer.get_feature_names_out()\n",
    "\n",
    "# Extract TF-IDF values for statement_13_stress tokens\n",
    "statement_13_stress_tfidf_values = tfidf_statement.toarray()[0]\n",
    "\n",
    "# Create a DataFrame for statement_13_stress tokens and their TF-IDF values\n",
    "df_statement_tfidf = pd.DataFrame({\n",
    "    'Token': feature_names,\n",
    "    'TF-IDF Value': statement_13_stress_tfidf_values\n",
    "})\n",
    "\n",
    "# Custom colors\n",
    "colors = ['#8dd8d3', '#ed8975', '#69c6ef', '#d7e6a3', '#4a4ae7', '#df6fba', '#e4a959']\n",
    "\n",
    "# Plot TF-IDF values for statement_13_stress tokens compared to the entire corpus\n",
    "plt.figure(figsize=(12, 8))  # Adjust figure size as needed\n",
    "bars = plt.barh(df_statement_tfidf['Token'], df_statement_tfidf['TF-IDF Value'], color=colors)\n",
    "plt.xlabel('TF-IDF Value', color='white')  # Set xlabel color to white\n",
    "plt.ylabel('Token', color='white')  # Set ylabel color to white\n",
    "plt.title('TF-IDF Values for Tokens in statement_13_stress', color='white')  # Set title color to white\n",
    "plt.gca().invert_yaxis()  # Invert y-axis to display tokens from top to bottom\n",
    "plt.gca().spines['top'].set_visible(False)  # Hide top spine\n",
    "plt.gca().spines['right'].set_visible(False)  # Hide right spine\n",
    "plt.gca().tick_params(axis='y', labelsize=12, colors='white')  # Adjust tick label size and color for y-axis\n",
    "plt.gca().set_facecolor('none')  # Set transparent background\n",
    "plt.tight_layout()\n",
    "\n",
    "# Save plot with transparent background\n",
    "plt.savefig('tfidf_plot.png', bbox_inches='tight', transparent=True)\n",
    "plt.show()"
   ]
  },
  {
   "cell_type": "code",
   "execution_count": 5,
   "id": "9e79ff7e-a78d-43a2-b2e2-d4725531a85d",
   "metadata": {},
   "outputs": [
    {
     "name": "stdout",
     "output_type": "stream",
     "text": [
      "Mean, Max, Min Word Count by Status:\n",
      "                            mean   max  min\n",
      "status                                     \n",
      "Anxiety               143.837022  1592    1\n",
      "Bipolar               176.200216  4804    4\n",
      "Depression            168.021488  4239    1\n",
      "Normal                 17.246283   255    1\n",
      "Personality disorder  179.346332  5419    5\n",
      "Stress                114.585234  1606    1\n",
      "Suicidal              146.440293  6300    1\n"
     ]
    }
   ],
   "source": [
    "# Drop rows with NaN values in 'statement' column\n",
    "data.dropna(subset=['statement'], inplace=True)\n",
    "\n",
    "# Function to calculate word count\n",
    "def count_words(text):\n",
    "    return len(text.split())\n",
    "\n",
    "# Apply word count function to 'statement' column\n",
    "data['word_count'] = data['statement'].apply(count_words)\n",
    "\n",
    "# Group by 'status' and calculate mean, max, min word count\n",
    "grouped_data = data.groupby('status')['word_count'].agg(['mean', 'max', 'min'])\n",
    "\n",
    "print(\"Mean, Max, Min Word Count by Status:\")\n",
    "print(grouped_data)"
   ]
  },
  {
   "cell_type": "code",
   "execution_count": null,
   "id": "d53e1cda-5cd5-4280-aadb-1d56b4ecf738",
   "metadata": {},
   "outputs": [],
   "source": []
  }
 ],
 "metadata": {
  "kernelspec": {
   "display_name": "Python 3 (ipykernel)",
   "language": "python",
   "name": "python3"
  },
  "language_info": {
   "codemirror_mode": {
    "name": "ipython",
    "version": 3
   },
   "file_extension": ".py",
   "mimetype": "text/x-python",
   "name": "python",
   "nbconvert_exporter": "python",
   "pygments_lexer": "ipython3",
   "version": "3.10.14"
  }
 },
 "nbformat": 4,
 "nbformat_minor": 5
}
