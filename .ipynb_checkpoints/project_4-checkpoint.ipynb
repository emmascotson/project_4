{
 "cells": [
  {
   "cell_type": "code",
   "execution_count": 4,
   "id": "3c185b3d-1a9c-4f51-b364-e49fcb48ab12",
   "metadata": {},
   "outputs": [
    {
     "name": "stderr",
     "output_type": "stream",
     "text": [
      "[nltk_data] Downloading package punkt to\n",
      "[nltk_data]     /Users/emmascotson/nltk_data...\n",
      "[nltk_data]   Package punkt is already up-to-date!\n",
      "[nltk_data] Downloading package stopwords to\n",
      "[nltk_data]     /Users/emmascotson/nltk_data...\n",
      "[nltk_data]   Package stopwords is already up-to-date!\n",
      "[nltk_data] Downloading package averaged_perceptron_tagger to\n",
      "[nltk_data]     /Users/emmascotson/nltk_data...\n",
      "[nltk_data]   Unzipping taggers/averaged_perceptron_tagger.zip.\n",
      "[nltk_data] Downloading package wordnet to\n",
      "[nltk_data]     /Users/emmascotson/nltk_data...\n",
      "[nltk_data] Downloading package omw-1.4 to\n",
      "[nltk_data]     /Users/emmascotson/nltk_data...\n"
     ]
    }
   ],
   "source": [
    "import pandas as pd\n",
    "import numpy as np\n",
    "\n",
    "import seaborn as sns\n",
    "import geopandas as gpd\n",
    "import matplotlib.pyplot as plt\n",
    "from matplotlib.colors import ListedColormap\n",
    "\n",
    "from statsmodels.stats.outliers_influence import variance_inflation_factor\n",
    "from statsmodels.tools.tools import add_constant\n",
    "\n",
    "from sklearn.preprocessing import OneHotEncoder, StandardScaler\n",
    "from sklearn.model_selection import train_test_split, GridSearchCV, cross_val_score\n",
    "from sklearn.linear_model import LogisticRegression, Lasso\n",
    "from sklearn.metrics import classification_report, silhouette_score, confusion_matrix, accuracy_score, recall_score, precision_score, f1_score, roc_auc_score, RocCurveDisplay, ConfusionMatrixDisplay\n",
    "from sklearn.tree import DecisionTreeClassifier, plot_tree\n",
    "from sklearn.ensemble import RandomForestClassifier\n",
    "from sklearn.compose import ColumnTransformer\n",
    "from sklearn.pipeline import Pipeline\n",
    "from sklearn.impute import SimpleImputer\n",
    "from sklearn.neighbors import KNeighborsClassifier\n",
    "from sklearn.feature_extraction.text import TfidfVectorizer, CountVectorizer\n",
    "from sklearn.naive_bayes import MultinomialNB, ComplementNB\n",
    "from sklearn.cluster import KMeans\n",
    "from sklearn.base import BaseEstimator, TransformerMixin\n",
    "\n",
    "from imblearn.pipeline import make_pipeline\n",
    "from imblearn.over_sampling import SMOTE\n",
    "\n",
    "from scipy.stats import chi2_contingency, multinomial\n",
    "\n",
    "import nltk\n",
    "import re\n",
    "nltk.download('punkt')\n",
    "from nltk.tokenize import word_tokenize, RegexpTokenizer, regexp_tokenize, sent_tokenize\n",
    "nltk.download('stopwords')\n",
    "from nltk.corpus import stopwords, wordnet\n",
    "from nltk.stem import SnowballStemmer, LancasterStemmer, PorterStemmer\n",
    "from nltk.probability import FreqDist\n",
    "from nltk import WordNetLemmatizer, pos_tag\n",
    "nltk.download('averaged_perceptron_tagger')\n",
    "nltk.download('wordnet')\n",
    "nltk.download('omw-1.4')\n",
    "#nltk.download('all')\n",
    "\n",
    "import itertools\n",
    "import string\n",
    "\n",
    "import os\n",
    "import sys\n",
    "module_path = os.path.abspath(os.path.join(os.pardir, os.pardir))\n",
    "if module_path not in sys.path:\n",
    "    sys.path.append(module_path)\n",
    "\n",
    "from copy import deepcopy"
   ]
  },
  {
   "cell_type": "markdown",
   "id": "537920c8-8909-4079-9ca8-8034eb10675e",
   "metadata": {},
   "source": [
    "# Loading the Data\n",
    "\n",
    "Let's load our dataset and take a look at it."
   ]
  },
  {
   "cell_type": "code",
   "execution_count": 46,
   "id": "f51c85ff-34c5-4052-bf1b-f21e9378eb5e",
   "metadata": {},
   "outputs": [],
   "source": [
    "data = pd.read_csv('data/Combined Data.csv')"
   ]
  },
  {
   "cell_type": "code",
   "execution_count": 47,
   "id": "fa4ea2d9-5143-4f91-9694-d4d894d48cae",
   "metadata": {},
   "outputs": [
    {
     "data": {
      "text/html": [
       "<div>\n",
       "<style scoped>\n",
       "    .dataframe tbody tr th:only-of-type {\n",
       "        vertical-align: middle;\n",
       "    }\n",
       "\n",
       "    .dataframe tbody tr th {\n",
       "        vertical-align: top;\n",
       "    }\n",
       "\n",
       "    .dataframe thead th {\n",
       "        text-align: right;\n",
       "    }\n",
       "</style>\n",
       "<table border=\"1\" class=\"dataframe\">\n",
       "  <thead>\n",
       "    <tr style=\"text-align: right;\">\n",
       "      <th></th>\n",
       "      <th>Unnamed: 0</th>\n",
       "      <th>statement</th>\n",
       "      <th>status</th>\n",
       "    </tr>\n",
       "  </thead>\n",
       "  <tbody>\n",
       "    <tr>\n",
       "      <th>0</th>\n",
       "      <td>0</td>\n",
       "      <td>oh my gosh</td>\n",
       "      <td>Anxiety</td>\n",
       "    </tr>\n",
       "    <tr>\n",
       "      <th>1</th>\n",
       "      <td>1</td>\n",
       "      <td>trouble sleeping, confused mind, restless hear...</td>\n",
       "      <td>Anxiety</td>\n",
       "    </tr>\n",
       "    <tr>\n",
       "      <th>2</th>\n",
       "      <td>2</td>\n",
       "      <td>All wrong, back off dear, forward doubt. Stay ...</td>\n",
       "      <td>Anxiety</td>\n",
       "    </tr>\n",
       "    <tr>\n",
       "      <th>3</th>\n",
       "      <td>3</td>\n",
       "      <td>I've shifted my focus to something else but I'...</td>\n",
       "      <td>Anxiety</td>\n",
       "    </tr>\n",
       "    <tr>\n",
       "      <th>4</th>\n",
       "      <td>4</td>\n",
       "      <td>I'm restless and restless, it's been a month n...</td>\n",
       "      <td>Anxiety</td>\n",
       "    </tr>\n",
       "  </tbody>\n",
       "</table>\n",
       "</div>"
      ],
      "text/plain": [
       "   Unnamed: 0                                          statement   status\n",
       "0           0                                         oh my gosh  Anxiety\n",
       "1           1  trouble sleeping, confused mind, restless hear...  Anxiety\n",
       "2           2  All wrong, back off dear, forward doubt. Stay ...  Anxiety\n",
       "3           3  I've shifted my focus to something else but I'...  Anxiety\n",
       "4           4  I'm restless and restless, it's been a month n...  Anxiety"
      ]
     },
     "execution_count": 47,
     "metadata": {},
     "output_type": "execute_result"
    }
   ],
   "source": [
    "data.head()"
   ]
  },
  {
   "cell_type": "code",
   "execution_count": 48,
   "id": "18f3dfbb-04a1-47ca-8518-fc02769e29cc",
   "metadata": {},
   "outputs": [
    {
     "name": "stdout",
     "output_type": "stream",
     "text": [
      "<class 'pandas.core.frame.DataFrame'>\n",
      "RangeIndex: 53043 entries, 0 to 53042\n",
      "Data columns (total 3 columns):\n",
      " #   Column      Non-Null Count  Dtype \n",
      "---  ------      --------------  ----- \n",
      " 0   Unnamed: 0  53043 non-null  int64 \n",
      " 1   statement   52681 non-null  object\n",
      " 2   status      53043 non-null  object\n",
      "dtypes: int64(1), object(2)\n",
      "memory usage: 1.2+ MB\n"
     ]
    }
   ],
   "source": [
    "data.info()"
   ]
  },
  {
   "cell_type": "markdown",
   "id": "154afd32-9475-4d8e-9340-0b61f42f46ab",
   "metadata": {},
   "source": [
    "Looks like we have some NaNs. Let's take a closer look."
   ]
  },
  {
   "cell_type": "code",
   "execution_count": 49,
   "id": "375f4934-3cfd-4e12-968a-c2beee9290b3",
   "metadata": {},
   "outputs": [
    {
     "data": {
      "text/html": [
       "<div>\n",
       "<style scoped>\n",
       "    .dataframe tbody tr th:only-of-type {\n",
       "        vertical-align: middle;\n",
       "    }\n",
       "\n",
       "    .dataframe tbody tr th {\n",
       "        vertical-align: top;\n",
       "    }\n",
       "\n",
       "    .dataframe thead th {\n",
       "        text-align: right;\n",
       "    }\n",
       "</style>\n",
       "<table border=\"1\" class=\"dataframe\">\n",
       "  <thead>\n",
       "    <tr style=\"text-align: right;\">\n",
       "      <th></th>\n",
       "      <th>Unnamed: 0</th>\n",
       "      <th>statement</th>\n",
       "      <th>status</th>\n",
       "    </tr>\n",
       "  </thead>\n",
       "  <tbody>\n",
       "    <tr>\n",
       "      <th>293</th>\n",
       "      <td>293</td>\n",
       "      <td>NaN</td>\n",
       "      <td>Anxiety</td>\n",
       "    </tr>\n",
       "    <tr>\n",
       "      <th>572</th>\n",
       "      <td>572</td>\n",
       "      <td>NaN</td>\n",
       "      <td>Anxiety</td>\n",
       "    </tr>\n",
       "    <tr>\n",
       "      <th>595</th>\n",
       "      <td>595</td>\n",
       "      <td>NaN</td>\n",
       "      <td>Anxiety</td>\n",
       "    </tr>\n",
       "    <tr>\n",
       "      <th>1539</th>\n",
       "      <td>1539</td>\n",
       "      <td>NaN</td>\n",
       "      <td>Normal</td>\n",
       "    </tr>\n",
       "    <tr>\n",
       "      <th>2448</th>\n",
       "      <td>2448</td>\n",
       "      <td>NaN</td>\n",
       "      <td>Normal</td>\n",
       "    </tr>\n",
       "    <tr>\n",
       "      <th>...</th>\n",
       "      <td>...</td>\n",
       "      <td>...</td>\n",
       "      <td>...</td>\n",
       "    </tr>\n",
       "    <tr>\n",
       "      <th>52838</th>\n",
       "      <td>52838</td>\n",
       "      <td>NaN</td>\n",
       "      <td>Anxiety</td>\n",
       "    </tr>\n",
       "    <tr>\n",
       "      <th>52870</th>\n",
       "      <td>52870</td>\n",
       "      <td>NaN</td>\n",
       "      <td>Anxiety</td>\n",
       "    </tr>\n",
       "    <tr>\n",
       "      <th>52936</th>\n",
       "      <td>52936</td>\n",
       "      <td>NaN</td>\n",
       "      <td>Anxiety</td>\n",
       "    </tr>\n",
       "    <tr>\n",
       "      <th>53010</th>\n",
       "      <td>53010</td>\n",
       "      <td>NaN</td>\n",
       "      <td>Anxiety</td>\n",
       "    </tr>\n",
       "    <tr>\n",
       "      <th>53031</th>\n",
       "      <td>53031</td>\n",
       "      <td>NaN</td>\n",
       "      <td>Anxiety</td>\n",
       "    </tr>\n",
       "  </tbody>\n",
       "</table>\n",
       "<p>362 rows × 3 columns</p>\n",
       "</div>"
      ],
      "text/plain": [
       "       Unnamed: 0 statement   status\n",
       "293           293       NaN  Anxiety\n",
       "572           572       NaN  Anxiety\n",
       "595           595       NaN  Anxiety\n",
       "1539         1539       NaN   Normal\n",
       "2448         2448       NaN   Normal\n",
       "...           ...       ...      ...\n",
       "52838       52838       NaN  Anxiety\n",
       "52870       52870       NaN  Anxiety\n",
       "52936       52936       NaN  Anxiety\n",
       "53010       53010       NaN  Anxiety\n",
       "53031       53031       NaN  Anxiety\n",
       "\n",
       "[362 rows x 3 columns]"
      ]
     },
     "execution_count": 49,
     "metadata": {},
     "output_type": "execute_result"
    }
   ],
   "source": [
    "data[pd.isna(data['statement'])]"
   ]
  },
  {
   "cell_type": "markdown",
   "id": "528b7941-4506-4eaa-a9f2-54f63ae71830",
   "metadata": {},
   "source": [
    "There are so few NaN's compared to the number of rows in our entire dataframe. Furthermore, rows with no 'statement' value are useless to us. Let's drop them."
   ]
  },
  {
   "cell_type": "code",
   "execution_count": 50,
   "id": "bd2e6f9f-a4bd-414c-a240-51743dee6f5c",
   "metadata": {},
   "outputs": [],
   "source": [
    "data = data.dropna(subset=['statement'])"
   ]
  },
  {
   "cell_type": "markdown",
   "id": "46eb74db-ea35-4023-bd9e-6c5e92cc541c",
   "metadata": {},
   "source": [
    "Now let's check if there are duplicate rows. "
   ]
  },
  {
   "cell_type": "code",
   "execution_count": 51,
   "id": "1f691929-f234-46e6-b10b-31cb0c12dcc0",
   "metadata": {},
   "outputs": [
    {
     "data": {
      "text/plain": [
       "51073"
      ]
     },
     "execution_count": 51,
     "metadata": {},
     "output_type": "execute_result"
    }
   ],
   "source": [
    "data['statement'].nunique()"
   ]
  },
  {
   "cell_type": "markdown",
   "id": "26078e20-7f40-407a-891e-fb1d8f2f093d",
   "metadata": {},
   "source": [
    "It looks like there are!"
   ]
  },
  {
   "cell_type": "code",
   "execution_count": 52,
   "id": "f729d8cc-a2fe-4a48-8d5b-141351d5f285",
   "metadata": {},
   "outputs": [
    {
     "data": {
      "text/html": [
       "<div>\n",
       "<style scoped>\n",
       "    .dataframe tbody tr th:only-of-type {\n",
       "        vertical-align: middle;\n",
       "    }\n",
       "\n",
       "    .dataframe tbody tr th {\n",
       "        vertical-align: top;\n",
       "    }\n",
       "\n",
       "    .dataframe thead th {\n",
       "        text-align: right;\n",
       "    }\n",
       "</style>\n",
       "<table border=\"1\" class=\"dataframe\">\n",
       "  <thead>\n",
       "    <tr style=\"text-align: right;\">\n",
       "      <th></th>\n",
       "      <th>Unnamed: 0</th>\n",
       "      <th>statement</th>\n",
       "      <th>status</th>\n",
       "    </tr>\n",
       "  </thead>\n",
       "  <tbody>\n",
       "    <tr>\n",
       "      <th>97</th>\n",
       "      <td>97</td>\n",
       "      <td>\"No regrets or grudges/angry at things that ha...</td>\n",
       "      <td>Anxiety</td>\n",
       "    </tr>\n",
       "    <tr>\n",
       "      <th>138</th>\n",
       "      <td>138</td>\n",
       "      <td>but my heart is still restless even though my ...</td>\n",
       "      <td>Anxiety</td>\n",
       "    </tr>\n",
       "    <tr>\n",
       "      <th>167</th>\n",
       "      <td>167</td>\n",
       "      <td>I want to exhale the restlessness in my chest ...</td>\n",
       "      <td>Anxiety</td>\n",
       "    </tr>\n",
       "    <tr>\n",
       "      <th>228</th>\n",
       "      <td>228</td>\n",
       "      <td>Do not compare yourself to others. Envy only m...</td>\n",
       "      <td>Anxiety</td>\n",
       "    </tr>\n",
       "    <tr>\n",
       "      <th>244</th>\n",
       "      <td>244</td>\n",
       "      <td>people seem calm, happy like there's no proble...</td>\n",
       "      <td>Anxiety</td>\n",
       "    </tr>\n",
       "    <tr>\n",
       "      <th>...</th>\n",
       "      <td>...</td>\n",
       "      <td>...</td>\n",
       "      <td>...</td>\n",
       "    </tr>\n",
       "    <tr>\n",
       "      <th>53038</th>\n",
       "      <td>53038</td>\n",
       "      <td>Nobody takes me seriously I’ve (24M) dealt wit...</td>\n",
       "      <td>Anxiety</td>\n",
       "    </tr>\n",
       "    <tr>\n",
       "      <th>53039</th>\n",
       "      <td>53039</td>\n",
       "      <td>selfishness  \"I don't feel very good, it's lik...</td>\n",
       "      <td>Anxiety</td>\n",
       "    </tr>\n",
       "    <tr>\n",
       "      <th>53040</th>\n",
       "      <td>53040</td>\n",
       "      <td>Is there any way to sleep better? I can't slee...</td>\n",
       "      <td>Anxiety</td>\n",
       "    </tr>\n",
       "    <tr>\n",
       "      <th>53041</th>\n",
       "      <td>53041</td>\n",
       "      <td>Public speaking tips? Hi, all. I have to give ...</td>\n",
       "      <td>Anxiety</td>\n",
       "    </tr>\n",
       "    <tr>\n",
       "      <th>53042</th>\n",
       "      <td>53042</td>\n",
       "      <td>I have really bad door anxiety! It's not about...</td>\n",
       "      <td>Anxiety</td>\n",
       "    </tr>\n",
       "  </tbody>\n",
       "</table>\n",
       "<p>1608 rows × 3 columns</p>\n",
       "</div>"
      ],
      "text/plain": [
       "       Unnamed: 0                                          statement   status\n",
       "97             97  \"No regrets or grudges/angry at things that ha...  Anxiety\n",
       "138           138  but my heart is still restless even though my ...  Anxiety\n",
       "167           167  I want to exhale the restlessness in my chest ...  Anxiety\n",
       "228           228  Do not compare yourself to others. Envy only m...  Anxiety\n",
       "244           244  people seem calm, happy like there's no proble...  Anxiety\n",
       "...           ...                                                ...      ...\n",
       "53038       53038  Nobody takes me seriously I’ve (24M) dealt wit...  Anxiety\n",
       "53039       53039  selfishness  \"I don't feel very good, it's lik...  Anxiety\n",
       "53040       53040  Is there any way to sleep better? I can't slee...  Anxiety\n",
       "53041       53041  Public speaking tips? Hi, all. I have to give ...  Anxiety\n",
       "53042       53042  I have really bad door anxiety! It's not about...  Anxiety\n",
       "\n",
       "[1608 rows x 3 columns]"
      ]
     },
     "execution_count": 52,
     "metadata": {},
     "output_type": "execute_result"
    }
   ],
   "source": [
    "data[data['statement'].duplicated()]"
   ]
  },
  {
   "cell_type": "markdown",
   "id": "2e508465-bd55-4811-ae62-605cec7aa8f2",
   "metadata": {},
   "source": [
    "These statements all look pretty specific and personalized. AKA it does seem like our duplicate values are true duplicates of the same social media statements made by the same singular user. Furthermore, we have over 50,000 rows in our dataset and can afford to lose these rows. \n",
    "\n",
    "Let's drop duplicates as well."
   ]
  },
  {
   "cell_type": "code",
   "execution_count": 53,
   "id": "cb56cb74-4133-41f3-bd6d-dbbf3070b24f",
   "metadata": {},
   "outputs": [],
   "source": [
    "# Removing 'statement' duplicates, keeping first instance\n",
    "data = data.drop_duplicates(subset=['statement'], keep='first')"
   ]
  },
  {
   "cell_type": "code",
   "execution_count": 54,
   "id": "f702d642-da17-491a-840a-014e58d72aa9",
   "metadata": {},
   "outputs": [
    {
     "data": {
      "text/html": [
       "<div>\n",
       "<style scoped>\n",
       "    .dataframe tbody tr th:only-of-type {\n",
       "        vertical-align: middle;\n",
       "    }\n",
       "\n",
       "    .dataframe tbody tr th {\n",
       "        vertical-align: top;\n",
       "    }\n",
       "\n",
       "    .dataframe thead th {\n",
       "        text-align: right;\n",
       "    }\n",
       "</style>\n",
       "<table border=\"1\" class=\"dataframe\">\n",
       "  <thead>\n",
       "    <tr style=\"text-align: right;\">\n",
       "      <th></th>\n",
       "      <th>Unnamed: 0</th>\n",
       "      <th>statement</th>\n",
       "      <th>status</th>\n",
       "    </tr>\n",
       "  </thead>\n",
       "  <tbody>\n",
       "  </tbody>\n",
       "</table>\n",
       "</div>"
      ],
      "text/plain": [
       "Empty DataFrame\n",
       "Columns: [Unnamed: 0, statement, status]\n",
       "Index: []"
      ]
     },
     "execution_count": 54,
     "metadata": {},
     "output_type": "execute_result"
    }
   ],
   "source": [
    "data[data['statement'].duplicated()]"
   ]
  },
  {
   "cell_type": "code",
   "execution_count": 55,
   "id": "fe3b0350-ba43-41ed-9a7c-35abfdf9b410",
   "metadata": {},
   "outputs": [
    {
     "name": "stdout",
     "output_type": "stream",
     "text": [
      "<class 'pandas.core.frame.DataFrame'>\n",
      "Index: 51073 entries, 0 to 52840\n",
      "Data columns (total 3 columns):\n",
      " #   Column      Non-Null Count  Dtype \n",
      "---  ------      --------------  ----- \n",
      " 0   Unnamed: 0  51073 non-null  int64 \n",
      " 1   statement   51073 non-null  object\n",
      " 2   status      51073 non-null  object\n",
      "dtypes: int64(1), object(2)\n",
      "memory usage: 1.6+ MB\n"
     ]
    }
   ],
   "source": [
    "data.info()"
   ]
  },
  {
   "cell_type": "markdown",
   "id": "e345cd56-4f66-46b9-9b1d-d808ddab995c",
   "metadata": {},
   "source": [
    "Furthermore, our 'Unnamed: 0' column appears to just be a duplicate of our index. Let's explore. "
   ]
  },
  {
   "cell_type": "code",
   "execution_count": 56,
   "id": "93329d1b-a62b-4866-9f1c-fff9c84d6ee7",
   "metadata": {},
   "outputs": [
    {
     "data": {
      "text/plain": [
       "51073"
      ]
     },
     "execution_count": 56,
     "metadata": {},
     "output_type": "execute_result"
    }
   ],
   "source": [
    "data['Unnamed: 0'].nunique()"
   ]
  },
  {
   "cell_type": "code",
   "execution_count": 57,
   "id": "949e863d-6ba4-4e99-8000-ddf9fe628dd5",
   "metadata": {},
   "outputs": [
    {
     "data": {
      "text/plain": [
       "False"
      ]
     },
     "execution_count": 57,
     "metadata": {},
     "output_type": "execute_result"
    }
   ],
   "source": [
    "# Checking if 'Unnamed: 0' equals our index\n",
    "is_identical = data['Unnamed: 0'].equals(data.index)\n",
    "is_identical"
   ]
  },
  {
   "cell_type": "markdown",
   "id": "7a471566-b569-4597-a1b1-78c6eef57fe1",
   "metadata": {},
   "source": [
    "Hm...We can safely assume this column doesn't provide information about multiple 'statement' values being generated by the same singular user...because our nunique() matches the total number of rows in our dataframe, which eliminates the possibility of duplicates. \n",
    "\n",
    "This column is most likely just an old index from previous datasets, which is no longer useful to use. We'll drop it for now. We can always go back and edit the code if we decide we need it later."
   ]
  },
  {
   "cell_type": "code",
   "execution_count": 58,
   "id": "c08e530c-fbd3-4a43-910b-6ee75bedd5cf",
   "metadata": {},
   "outputs": [],
   "source": [
    "data.drop(columns=['Unnamed: 0'], inplace=True)"
   ]
  },
  {
   "cell_type": "markdown",
   "id": "412fd6db-5718-418b-b1e5-eb4e8b4fe12c",
   "metadata": {},
   "source": [
    "Let's look at the value_counts() for our target variable 'status'."
   ]
  },
  {
   "cell_type": "code",
   "execution_count": 59,
   "id": "20ba884d-fbe9-4492-8845-3c304447b8cd",
   "metadata": {},
   "outputs": [
    {
     "data": {
      "text/plain": [
       "status\n",
       "Normal                  16039\n",
       "Depression              15087\n",
       "Suicidal                10641\n",
       "Anxiety                  3617\n",
       "Bipolar                  2501\n",
       "Stress                   2293\n",
       "Personality disorder      895\n",
       "Name: count, dtype: int64"
      ]
     },
     "execution_count": 59,
     "metadata": {},
     "output_type": "execute_result"
    }
   ],
   "source": [
    "data['status'].value_counts()"
   ]
  },
  {
   "cell_type": "markdown",
   "id": "5e49bd72-d483-4b66-a108-05eba079b805",
   "metadata": {},
   "source": [
    "#### 'Personality disorder'\n",
    "\n",
    "'Personality disorder' is an ambiguous label compared to the others. It might be a version of a 'placeholder' value for not 'Normal' users where further categorization of disorder (ex. 'Depression', 'Suicidal', 'Anxiety') was inconclusive. Alternatively, it could be indication of other, entirely different personality disorders not listed above. \n",
    "\n",
    "We'll keep this in mind and explore as we go. Depending on what we find, it might be helpful to drop these values when building a predictive model."
   ]
  },
  {
   "cell_type": "markdown",
   "id": "f5dbcea0-3ffe-4d21-acaf-6b2eff2148f5",
   "metadata": {},
   "source": [
    "# Preprocessing\n",
    "\n",
    "## Text Cleaning\n",
    "\n",
    "Let's clean our data by performing operations that remove punctuation and special characters, lowercase text, remove newline '\\n' characters, etc.\n",
    "\n",
    "#### Percentage Upper-Case\n",
    "\n",
    "Before we get to cleaning, let's think about whether or not any unique punctuation and/or text characteristics might be indicative of a personality disorder. \n",
    "\n",
    "*Upper-case* text might help identify whether or not a person is in some kind of distress. If user posts 'A MESSAGE ENTIRELY IN UPPER-CASE LIKE SO', that's an unusual behavior that we should try and quantify.\n",
    "\n",
    "Let's create a new column 'perc_upper' that calculates the percentage of upper-case letters to the total number of letters in each 'statement'."
   ]
  },
  {
   "cell_type": "code",
   "execution_count": 60,
   "id": "b57c3989-1507-4906-b743-f03cd7430821",
   "metadata": {},
   "outputs": [],
   "source": [
    "# Define function to calculate percentage of upper-case letters\n",
    "def perc_upper(text):\n",
    "    if not isinstance(text, str):\n",
    "        return 0\n",
    "    letters = re.findall(r'[a-zA-Z]', text) # Using regex to isolate letters\n",
    "    if not letters: \n",
    "        return 0\n",
    "    upper_count = len(re.findall(r'[A-Z]', text))\n",
    "    return (upper_count / len(letters)) * 100\n",
    "\n",
    "data['perc_upper'] = data['statement'].apply(perc_upper)"
   ]
  },
  {
   "cell_type": "code",
   "execution_count": 61,
   "id": "b8fc74ec-d805-4cec-9206-f6184e86c1a2",
   "metadata": {},
   "outputs": [
    {
     "data": {
      "text/html": [
       "<div>\n",
       "<style scoped>\n",
       "    .dataframe tbody tr th:only-of-type {\n",
       "        vertical-align: middle;\n",
       "    }\n",
       "\n",
       "    .dataframe tbody tr th {\n",
       "        vertical-align: top;\n",
       "    }\n",
       "\n",
       "    .dataframe thead th {\n",
       "        text-align: right;\n",
       "    }\n",
       "</style>\n",
       "<table border=\"1\" class=\"dataframe\">\n",
       "  <thead>\n",
       "    <tr style=\"text-align: right;\">\n",
       "      <th></th>\n",
       "      <th>statement</th>\n",
       "      <th>status</th>\n",
       "      <th>perc_upper</th>\n",
       "    </tr>\n",
       "  </thead>\n",
       "  <tbody>\n",
       "    <tr>\n",
       "      <th>3546</th>\n",
       "      <td>[HELP RT] WE FANBASE SHAKE RP! JOIN? FOLLOW FI...</td>\n",
       "      <td>Normal</td>\n",
       "      <td>100.0</td>\n",
       "    </tr>\n",
       "    <tr>\n",
       "      <th>2436</th>\n",
       "      <td>ONAKA GA SUITA</td>\n",
       "      <td>Normal</td>\n",
       "      <td>100.0</td>\n",
       "    </tr>\n",
       "    <tr>\n",
       "      <th>6787</th>\n",
       "      <td>TODAY NO CLASS YAAYYY</td>\n",
       "      <td>Normal</td>\n",
       "      <td>100.0</td>\n",
       "    </tr>\n",
       "    <tr>\n",
       "      <th>5303</th>\n",
       "      <td>6 HALF HOURS AGAINIII ULULU I ​​WANT TO SLEEP ...</td>\n",
       "      <td>Normal</td>\n",
       "      <td>100.0</td>\n",
       "    </tr>\n",
       "    <tr>\n",
       "      <th>2478</th>\n",
       "      <td>I DON'T HAVE A HOLIDAY AS WELL AS EVIL</td>\n",
       "      <td>Normal</td>\n",
       "      <td>100.0</td>\n",
       "    </tr>\n",
       "  </tbody>\n",
       "</table>\n",
       "</div>"
      ],
      "text/plain": [
       "                                              statement  status  perc_upper\n",
       "3546  [HELP RT] WE FANBASE SHAKE RP! JOIN? FOLLOW FI...  Normal       100.0\n",
       "2436                                     ONAKA GA SUITA  Normal       100.0\n",
       "6787                              TODAY NO CLASS YAAYYY  Normal       100.0\n",
       "5303  6 HALF HOURS AGAINIII ULULU I ​​WANT TO SLEEP ...  Normal       100.0\n",
       "2478             I DON'T HAVE A HOLIDAY AS WELL AS EVIL  Normal       100.0"
      ]
     },
     "execution_count": 61,
     "metadata": {},
     "output_type": "execute_result"
    }
   ],
   "source": [
    "upper_sorted = data.sort_values(by='perc_upper', ascending=False)\n",
    "upper_sorted.head()"
   ]
  },
  {
   "cell_type": "markdown",
   "id": "78aca806-5998-46af-b4b0-cfbd3dfa41fa",
   "metadata": {},
   "source": [
    "#### METRIC CHANGE - Percentage by Upper-Case Words\n",
    "\n",
    "On second thought, we should find a different way to quantify a notable amount of upper-case in a string of text. With our current 'perc_upper' value...a statement such as 'Hi' will have a 50% perc_upper. However this would be due to normal grammatical capitalization techniques that are of no note.\n",
    "\n",
    "Let's alter our metric slightly, to calculate the **percentage of upper-case words compared to the total number of words in a statement**.\n",
    "\n",
    "We'll stick with regex for now to tokenize our words and calculate this metric."
   ]
  },
  {
   "cell_type": "code",
   "execution_count": 62,
   "id": "eb0a1bc5-a2be-4951-b638-8db20b1fd054",
   "metadata": {},
   "outputs": [],
   "source": [
    "# Dropping perc_upper column before to reduce computation time\n",
    "data.drop(columns=['perc_upper'], inplace=True)\n",
    "\n",
    "# Updating perc_upper to calculate based on number of words\n",
    "def perc_upper_words(text): \n",
    "    if not isinstance(text, str):\n",
    "        return 0\n",
    "    words = re.findall(r'\\b[a-zA-Z\\'-]+\\b', text) # Including apostrophes and hyphens\n",
    "    words = [word for word in words if not re.search(r'\\d', word)] # Filter out numbers\n",
    "    if not words:\n",
    "        return 0\n",
    "    uppercase_words = [word for word in words if word.isupper()]\n",
    "    return len(uppercase_words) / len(words) * 100\n",
    "\n",
    "data['perc_upper_words'] = data['statement'].apply(perc_upper_words)"
   ]
  },
  {
   "cell_type": "code",
   "execution_count": 63,
   "id": "de3912ef-534f-4851-9613-1325482ff6d6",
   "metadata": {},
   "outputs": [
    {
     "data": {
      "text/html": [
       "<div>\n",
       "<style scoped>\n",
       "    .dataframe tbody tr th:only-of-type {\n",
       "        vertical-align: middle;\n",
       "    }\n",
       "\n",
       "    .dataframe tbody tr th {\n",
       "        vertical-align: top;\n",
       "    }\n",
       "\n",
       "    .dataframe thead th {\n",
       "        text-align: right;\n",
       "    }\n",
       "</style>\n",
       "<table border=\"1\" class=\"dataframe\">\n",
       "  <thead>\n",
       "    <tr style=\"text-align: right;\">\n",
       "      <th></th>\n",
       "      <th>statement</th>\n",
       "      <th>status</th>\n",
       "      <th>perc_upper_words</th>\n",
       "    </tr>\n",
       "  </thead>\n",
       "  <tbody>\n",
       "    <tr>\n",
       "      <th>11210</th>\n",
       "      <td>I KEEP MESSING THINGS UP ALL DAY EVERY DAY THE...</td>\n",
       "      <td>Suicidal</td>\n",
       "      <td>100.0</td>\n",
       "    </tr>\n",
       "    <tr>\n",
       "      <th>5917</th>\n",
       "      <td>#PECAT WHOSE NAME IS SI ALI MOCHTAR NYEBELIN #</td>\n",
       "      <td>Normal</td>\n",
       "      <td>100.0</td>\n",
       "    </tr>\n",
       "    <tr>\n",
       "      <th>4173</th>\n",
       "      <td>OH MY GOD FEAR CANCEL</td>\n",
       "      <td>Normal</td>\n",
       "      <td>100.0</td>\n",
       "    </tr>\n",
       "    <tr>\n",
       "      <th>1581</th>\n",
       "      <td>HIS BD CARD KANON IS CUTE HSHSHSHS SAD NO FREE...</td>\n",
       "      <td>Normal</td>\n",
       "      <td>100.0</td>\n",
       "    </tr>\n",
       "    <tr>\n",
       "      <th>2811</th>\n",
       "      <td>YAALLAH SO NATION OF SM DREAMIES</td>\n",
       "      <td>Normal</td>\n",
       "      <td>100.0</td>\n",
       "    </tr>\n",
       "  </tbody>\n",
       "</table>\n",
       "</div>"
      ],
      "text/plain": [
       "                                               statement    status  \\\n",
       "11210  I KEEP MESSING THINGS UP ALL DAY EVERY DAY THE...  Suicidal   \n",
       "5917      #PECAT WHOSE NAME IS SI ALI MOCHTAR NYEBELIN #    Normal   \n",
       "4173                               OH MY GOD FEAR CANCEL    Normal   \n",
       "1581   HIS BD CARD KANON IS CUTE HSHSHSHS SAD NO FREE...    Normal   \n",
       "2811                    YAALLAH SO NATION OF SM DREAMIES    Normal   \n",
       "\n",
       "       perc_upper_words  \n",
       "11210             100.0  \n",
       "5917              100.0  \n",
       "4173              100.0  \n",
       "1581              100.0  \n",
       "2811              100.0  "
      ]
     },
     "execution_count": 63,
     "metadata": {},
     "output_type": "execute_result"
    }
   ],
   "source": [
    "upper_sorted = data.sort_values(by='perc_upper_words', ascending=False)\n",
    "upper_sorted.head()"
   ]
  },
  {
   "cell_type": "code",
   "execution_count": 64,
   "id": "73ad3bf6-a86d-4058-8142-2ff7f7792bb2",
   "metadata": {},
   "outputs": [
    {
     "data": {
      "text/html": [
       "<div>\n",
       "<style scoped>\n",
       "    .dataframe tbody tr th:only-of-type {\n",
       "        vertical-align: middle;\n",
       "    }\n",
       "\n",
       "    .dataframe tbody tr th {\n",
       "        vertical-align: top;\n",
       "    }\n",
       "\n",
       "    .dataframe thead th {\n",
       "        text-align: right;\n",
       "    }\n",
       "</style>\n",
       "<table border=\"1\" class=\"dataframe\">\n",
       "  <thead>\n",
       "    <tr style=\"text-align: right;\">\n",
       "      <th></th>\n",
       "      <th>statement</th>\n",
       "      <th>status</th>\n",
       "      <th>perc_upper_words</th>\n",
       "    </tr>\n",
       "  </thead>\n",
       "  <tbody>\n",
       "    <tr>\n",
       "      <th>10953</th>\n",
       "      <td>NOBODY WANTS TO TALK TO ME Going to kill myself</td>\n",
       "      <td>Depression</td>\n",
       "      <td>60.000000</td>\n",
       "    </tr>\n",
       "    <tr>\n",
       "      <th>498</th>\n",
       "      <td>the habit of chatting for a day, gadicchat imm...</td>\n",
       "      <td>Anxiety</td>\n",
       "      <td>60.000000</td>\n",
       "    </tr>\n",
       "    <tr>\n",
       "      <th>17851</th>\n",
       "      <td>I feel like I cannot even explain myself becau...</td>\n",
       "      <td>Suicidal</td>\n",
       "      <td>60.000000</td>\n",
       "    </tr>\n",
       "    <tr>\n",
       "      <th>4525</th>\n",
       "      <td>NOT FUNNY MORNING â€ Runny nose</td>\n",
       "      <td>Normal</td>\n",
       "      <td>60.000000</td>\n",
       "    </tr>\n",
       "    <tr>\n",
       "      <th>24841</th>\n",
       "      <td>I try my best but I just want to die. I hate m...</td>\n",
       "      <td>Depression</td>\n",
       "      <td>59.420290</td>\n",
       "    </tr>\n",
       "    <tr>\n",
       "      <th>6357</th>\n",
       "      <td>HAHAAAA GET THE ASSIGNMENT OF MAKING A SCIENTI...</td>\n",
       "      <td>Normal</td>\n",
       "      <td>57.894737</td>\n",
       "    </tr>\n",
       "    <tr>\n",
       "      <th>1113</th>\n",
       "      <td>WANT TO SIN BUT Afraid to Laugh</td>\n",
       "      <td>Normal</td>\n",
       "      <td>57.142857</td>\n",
       "    </tr>\n",
       "    <tr>\n",
       "      <th>36232</th>\n",
       "      <td>Everything is temporary. EVIL EYES OFF SHIVRIT</td>\n",
       "      <td>Normal</td>\n",
       "      <td>57.142857</td>\n",
       "    </tr>\n",
       "    <tr>\n",
       "      <th>830</th>\n",
       "      <td>MORNING AGAIN I've made a AMENDE SPACE</td>\n",
       "      <td>Normal</td>\n",
       "      <td>57.142857</td>\n",
       "    </tr>\n",
       "    <tr>\n",
       "      <th>48673</th>\n",
       "      <td>AAAAAAAAAAAAAAAAAA aaAAAAAAAAAA FIDBWJSKLA oaa...</td>\n",
       "      <td>Stress</td>\n",
       "      <td>57.142857</td>\n",
       "    </tr>\n",
       "    <tr>\n",
       "      <th>4557</th>\n",
       "      <td>if this passes, DROP YOUR LAST COPY !</td>\n",
       "      <td>Normal</td>\n",
       "      <td>57.142857</td>\n",
       "    </tr>\n",
       "    <tr>\n",
       "      <th>7490</th>\n",
       "      <td>This is what the government wants poor people ...</td>\n",
       "      <td>Suicidal</td>\n",
       "      <td>56.862745</td>\n",
       "    </tr>\n",
       "    <tr>\n",
       "      <th>19137</th>\n",
       "      <td>I am here to talk if you need help HAHAHAHAA A...</td>\n",
       "      <td>Depression</td>\n",
       "      <td>56.756757</td>\n",
       "    </tr>\n",
       "    <tr>\n",
       "      <th>22163</th>\n",
       "      <td>I MIGHT KILL MSELF BECAUSE I am A RETARDED USE...</td>\n",
       "      <td>Suicidal</td>\n",
       "      <td>56.521739</td>\n",
       "    </tr>\n",
       "    <tr>\n",
       "      <th>23744</th>\n",
       "      <td>i just want to fit in. i do not want to be mad...</td>\n",
       "      <td>Depression</td>\n",
       "      <td>56.074766</td>\n",
       "    </tr>\n",
       "    <tr>\n",
       "      <th>8319</th>\n",
       "      <td>Bitch why the fuck did you just tell me to che...</td>\n",
       "      <td>Depression</td>\n",
       "      <td>56.020942</td>\n",
       "    </tr>\n",
       "    <tr>\n",
       "      <th>15768</th>\n",
       "      <td>Welp fuck it everything I do gets put on the b...</td>\n",
       "      <td>Depression</td>\n",
       "      <td>55.882353</td>\n",
       "    </tr>\n",
       "    <tr>\n",
       "      <th>25969</th>\n",
       "      <td>My humiliation and mental torture of sleeping ...</td>\n",
       "      <td>Suicidal</td>\n",
       "      <td>55.882353</td>\n",
       "    </tr>\n",
       "    <tr>\n",
       "      <th>5121</th>\n",
       "      <td>type IMB space DENITAKOPLOK send to 14045, TON...</td>\n",
       "      <td>Normal</td>\n",
       "      <td>55.555556</td>\n",
       "    </tr>\n",
       "    <tr>\n",
       "      <th>8227</th>\n",
       "      <td>I really regret talkin or sayin anything. I am...</td>\n",
       "      <td>Suicidal</td>\n",
       "      <td>54.255319</td>\n",
       "    </tr>\n",
       "  </tbody>\n",
       "</table>\n",
       "</div>"
      ],
      "text/plain": [
       "                                               statement      status  \\\n",
       "10953    NOBODY WANTS TO TALK TO ME Going to kill myself  Depression   \n",
       "498    the habit of chatting for a day, gadicchat imm...     Anxiety   \n",
       "17851  I feel like I cannot even explain myself becau...    Suicidal   \n",
       "4525                     NOT FUNNY MORNING â€ Runny nose      Normal   \n",
       "24841  I try my best but I just want to die. I hate m...  Depression   \n",
       "6357   HAHAAAA GET THE ASSIGNMENT OF MAKING A SCIENTI...      Normal   \n",
       "1113                     WANT TO SIN BUT Afraid to Laugh      Normal   \n",
       "36232     Everything is temporary. EVIL EYES OFF SHIVRIT      Normal   \n",
       "830               MORNING AGAIN I've made a AMENDE SPACE      Normal   \n",
       "48673  AAAAAAAAAAAAAAAAAA aaAAAAAAAAAA FIDBWJSKLA oaa...      Stress   \n",
       "4557               if this passes, DROP YOUR LAST COPY !      Normal   \n",
       "7490   This is what the government wants poor people ...    Suicidal   \n",
       "19137  I am here to talk if you need help HAHAHAHAA A...  Depression   \n",
       "22163  I MIGHT KILL MSELF BECAUSE I am A RETARDED USE...    Suicidal   \n",
       "23744  i just want to fit in. i do not want to be mad...  Depression   \n",
       "8319   Bitch why the fuck did you just tell me to che...  Depression   \n",
       "15768  Welp fuck it everything I do gets put on the b...  Depression   \n",
       "25969  My humiliation and mental torture of sleeping ...    Suicidal   \n",
       "5121   type IMB space DENITAKOPLOK send to 14045, TON...      Normal   \n",
       "8227   I really regret talkin or sayin anything. I am...    Suicidal   \n",
       "\n",
       "       perc_upper_words  \n",
       "10953         60.000000  \n",
       "498           60.000000  \n",
       "17851         60.000000  \n",
       "4525          60.000000  \n",
       "24841         59.420290  \n",
       "6357          57.894737  \n",
       "1113          57.142857  \n",
       "36232         57.142857  \n",
       "830           57.142857  \n",
       "48673         57.142857  \n",
       "4557          57.142857  \n",
       "7490          56.862745  \n",
       "19137         56.756757  \n",
       "22163         56.521739  \n",
       "23744         56.074766  \n",
       "8319          56.020942  \n",
       "15768         55.882353  \n",
       "25969         55.882353  \n",
       "5121          55.555556  \n",
       "8227          54.255319  "
      ]
     },
     "execution_count": 64,
     "metadata": {},
     "output_type": "execute_result"
    }
   ],
   "source": [
    "# Sampling rows from the middle\n",
    "filtered_rows = upper_sorted[(upper_sorted['perc_upper_words'] >= 50.0) & (upper_sorted['perc_upper_words'] <= 60.0)]\n",
    "filtered_rows.head(20)"
   ]
  },
  {
   "cell_type": "markdown",
   "id": "4e0c0284-4c55-4ca3-be98-a03528f616a0",
   "metadata": {},
   "source": [
    "Let's see if there are any trends regarding the distribution of these numbers within each of our 'status' values."
   ]
  },
  {
   "cell_type": "code",
   "execution_count": 65,
   "id": "057a6f96-febb-43c6-a668-d3e2c44708e2",
   "metadata": {},
   "outputs": [
    {
     "data": {
      "text/html": [
       "<div>\n",
       "<style scoped>\n",
       "    .dataframe tbody tr th:only-of-type {\n",
       "        vertical-align: middle;\n",
       "    }\n",
       "\n",
       "    .dataframe tbody tr th {\n",
       "        vertical-align: top;\n",
       "    }\n",
       "\n",
       "    .dataframe thead th {\n",
       "        text-align: right;\n",
       "    }\n",
       "</style>\n",
       "<table border=\"1\" class=\"dataframe\">\n",
       "  <thead>\n",
       "    <tr style=\"text-align: right;\">\n",
       "      <th></th>\n",
       "      <th>mean</th>\n",
       "      <th>min</th>\n",
       "      <th>max</th>\n",
       "    </tr>\n",
       "    <tr>\n",
       "      <th>status</th>\n",
       "      <th></th>\n",
       "      <th></th>\n",
       "      <th></th>\n",
       "    </tr>\n",
       "  </thead>\n",
       "  <tbody>\n",
       "    <tr>\n",
       "      <th>Anxiety</th>\n",
       "      <td>5.511061</td>\n",
       "      <td>0.0</td>\n",
       "      <td>100.000000</td>\n",
       "    </tr>\n",
       "    <tr>\n",
       "      <th>Bipolar</th>\n",
       "      <td>5.978278</td>\n",
       "      <td>0.0</td>\n",
       "      <td>25.000000</td>\n",
       "    </tr>\n",
       "    <tr>\n",
       "      <th>Depression</th>\n",
       "      <td>5.667380</td>\n",
       "      <td>0.0</td>\n",
       "      <td>100.000000</td>\n",
       "    </tr>\n",
       "    <tr>\n",
       "      <th>Normal</th>\n",
       "      <td>3.903474</td>\n",
       "      <td>0.0</td>\n",
       "      <td>100.000000</td>\n",
       "    </tr>\n",
       "    <tr>\n",
       "      <th>Personality disorder</th>\n",
       "      <td>5.424887</td>\n",
       "      <td>0.0</td>\n",
       "      <td>27.118644</td>\n",
       "    </tr>\n",
       "    <tr>\n",
       "      <th>Stress</th>\n",
       "      <td>5.664143</td>\n",
       "      <td>0.0</td>\n",
       "      <td>57.142857</td>\n",
       "    </tr>\n",
       "    <tr>\n",
       "      <th>Suicidal</th>\n",
       "      <td>7.922907</td>\n",
       "      <td>0.0</td>\n",
       "      <td>100.000000</td>\n",
       "    </tr>\n",
       "  </tbody>\n",
       "</table>\n",
       "</div>"
      ],
      "text/plain": [
       "                          mean  min         max\n",
       "status                                         \n",
       "Anxiety               5.511061  0.0  100.000000\n",
       "Bipolar               5.978278  0.0   25.000000\n",
       "Depression            5.667380  0.0  100.000000\n",
       "Normal                3.903474  0.0  100.000000\n",
       "Personality disorder  5.424887  0.0   27.118644\n",
       "Stress                5.664143  0.0   57.142857\n",
       "Suicidal              7.922907  0.0  100.000000"
      ]
     },
     "execution_count": 65,
     "metadata": {},
     "output_type": "execute_result"
    }
   ],
   "source": [
    "upper_stats = data.groupby('status')['perc_upper_words'].agg(['mean', 'min', 'max'])\n",
    "upper_stats"
   ]
  },
  {
   "cell_type": "markdown",
   "id": "d54ad87b-56f7-4d6e-95e2-2cd19e9932bc",
   "metadata": {},
   "source": [
    "Interesting. 'Normal' has the lowest average perc_upper_words with a mean of 3.90, whereas 'Suicidal' has the highest with a mean of 7.92.\n",
    "\n",
    "Let's see if there are any noticeable trends for the same metric applied to lower-case words. A higher percentage of lower-case words might be indicative of disorders like 'Depression'."
   ]
  },
  {
   "cell_type": "code",
   "execution_count": 66,
   "id": "1bfe5ba9-5c72-4558-b6c7-1b2f4482b243",
   "metadata": {},
   "outputs": [],
   "source": [
    "# Updating perc_upper to calculate based on number of words\n",
    "def perc_lower_words(text): \n",
    "    if not isinstance(text, str):\n",
    "        return 0\n",
    "    words = re.findall(r'\\b[a-zA-Z\\'-]+\\b', text) # Including apostrophes and hyphens\n",
    "    words = [word for word in words if not re.search(r'\\d', word)] # Filter out numbers\n",
    "    if not words:\n",
    "        return 0\n",
    "    lowercase_words = [word for word in words if word.islower()]\n",
    "    return len(lowercase_words) / len(words) * 100\n",
    "\n",
    "data['perc_lower_words'] = data['statement'].apply(perc_lower_words)"
   ]
  },
  {
   "cell_type": "code",
   "execution_count": 67,
   "id": "ab3c0154-4d69-4988-8d8e-8a781a13d06d",
   "metadata": {},
   "outputs": [
    {
     "data": {
      "text/html": [
       "<div>\n",
       "<style scoped>\n",
       "    .dataframe tbody tr th:only-of-type {\n",
       "        vertical-align: middle;\n",
       "    }\n",
       "\n",
       "    .dataframe tbody tr th {\n",
       "        vertical-align: top;\n",
       "    }\n",
       "\n",
       "    .dataframe thead th {\n",
       "        text-align: right;\n",
       "    }\n",
       "</style>\n",
       "<table border=\"1\" class=\"dataframe\">\n",
       "  <thead>\n",
       "    <tr style=\"text-align: right;\">\n",
       "      <th></th>\n",
       "      <th>mean</th>\n",
       "      <th>min</th>\n",
       "      <th>max</th>\n",
       "    </tr>\n",
       "    <tr>\n",
       "      <th>status</th>\n",
       "      <th></th>\n",
       "      <th></th>\n",
       "      <th></th>\n",
       "    </tr>\n",
       "  </thead>\n",
       "  <tbody>\n",
       "    <tr>\n",
       "      <th>Anxiety</th>\n",
       "      <td>87.107075</td>\n",
       "      <td>0.000000</td>\n",
       "      <td>100.0</td>\n",
       "    </tr>\n",
       "    <tr>\n",
       "      <th>Bipolar</th>\n",
       "      <td>86.984639</td>\n",
       "      <td>25.000000</td>\n",
       "      <td>100.0</td>\n",
       "    </tr>\n",
       "    <tr>\n",
       "      <th>Depression</th>\n",
       "      <td>90.887056</td>\n",
       "      <td>0.000000</td>\n",
       "      <td>100.0</td>\n",
       "    </tr>\n",
       "    <tr>\n",
       "      <th>Normal</th>\n",
       "      <td>89.098266</td>\n",
       "      <td>0.000000</td>\n",
       "      <td>100.0</td>\n",
       "    </tr>\n",
       "    <tr>\n",
       "      <th>Personality disorder</th>\n",
       "      <td>87.738038</td>\n",
       "      <td>45.454545</td>\n",
       "      <td>100.0</td>\n",
       "    </tr>\n",
       "    <tr>\n",
       "      <th>Stress</th>\n",
       "      <td>87.853044</td>\n",
       "      <td>14.285714</td>\n",
       "      <td>100.0</td>\n",
       "    </tr>\n",
       "    <tr>\n",
       "      <th>Suicidal</th>\n",
       "      <td>87.430360</td>\n",
       "      <td>0.000000</td>\n",
       "      <td>100.0</td>\n",
       "    </tr>\n",
       "  </tbody>\n",
       "</table>\n",
       "</div>"
      ],
      "text/plain": [
       "                           mean        min    max\n",
       "status                                           \n",
       "Anxiety               87.107075   0.000000  100.0\n",
       "Bipolar               86.984639  25.000000  100.0\n",
       "Depression            90.887056   0.000000  100.0\n",
       "Normal                89.098266   0.000000  100.0\n",
       "Personality disorder  87.738038  45.454545  100.0\n",
       "Stress                87.853044  14.285714  100.0\n",
       "Suicidal              87.430360   0.000000  100.0"
      ]
     },
     "execution_count": 67,
     "metadata": {},
     "output_type": "execute_result"
    }
   ],
   "source": [
    "lower_stats = data.groupby('status')['perc_lower_words'].agg(['mean', 'min', 'max'])\n",
    "lower_stats"
   ]
  },
  {
   "cell_type": "markdown",
   "id": "e66f4c6e-166a-434a-b75f-b2e6fbf6b989",
   "metadata": {},
   "source": [
    "'Depression' does indeed have the highest mean compared with our other 'status' values. \n",
    "\n",
    "However, typing in all lower-case is far more socially \"standard\" than typing in caps-lock. People often remove automatic capitilization as a setting on their phone or computer, which sets their default text to all lower-case. \n",
    "\n",
    "Given that lower-case typing is a societal 'norm', and a personal preference people often make regardless of psychological state...the 'lower_stats' numbers above do not vary drastically between 'status' groups enough for us to be able to use this as a predictive metric. \n",
    "\n",
    "We'll drop it and just keep perc_upper_words. "
   ]
  },
  {
   "cell_type": "code",
   "execution_count": 68,
   "id": "8bc761d7-bcc9-4745-91b2-f48777f42ef3",
   "metadata": {},
   "outputs": [],
   "source": [
    "data.drop(columns=['perc_lower_words'], inplace=True)"
   ]
  },
  {
   "cell_type": "markdown",
   "id": "685328a9-0982-4191-b269-f99749c0da88",
   "metadata": {},
   "source": [
    "#### Special Characters\n",
    "\n",
    "Let's explore if it will be useful to apply similar logic to special characters and punctuation. Let's examine all the different special characters in our entire dataframe, excluding numbers."
   ]
  },
  {
   "cell_type": "code",
   "execution_count": 69,
   "id": "a57d31ce-c74e-42e6-a1aa-f6afdf7df668",
   "metadata": {},
   "outputs": [],
   "source": [
    "# Searching for special characters, excluding numbers\n",
    "def extract_special(text):\n",
    "    if not isinstance(text, str):\n",
    "        return ''\n",
    "    return re.findall(r'[^\\w\\s\\d]', text)\n",
    "\n",
    "special_chars = data['statement'].apply(extract_special).explode().unique()"
   ]
  },
  {
   "cell_type": "code",
   "execution_count": 70,
   "id": "179ebfa3-9765-4751-bfbf-9a3f48e38287",
   "metadata": {},
   "outputs": [
    {
     "data": {
      "text/plain": [
       "array([nan, ',', '.', \"'\", '?', ':', ')', '(', '[', ']', '™', '‚', '=',\n",
       "       '\"', '/', '#', '!', '️', '±', '-', '…', '*', '”', '&', '€', '„',\n",
       "       '«', '–', '¤', '<', '°', '»', '^', ';', '\\u200b', '“', '+', '˜',\n",
       "       '‹', '¥', '©', '£', '@', '~', '¸', '—', '$', '§', '•', '¡', '❤',\n",
       "       '¨', '>', '‡', '|', '¯', '%', '¦', '{', '}', '’', '\\\\', '´', '`',\n",
       "       '†', '¶', '·', '®', '¢', '‰', '¿', '¬', '›', '👩', '\\u200d', '🎓',\n",
       "       '😇', '\\u200e', '➡', '💸', '😔', '🙂', '😦', '‘', '💕', '●', '🐰', '🥕',\n",
       "       '💖', '😱', '😐', '✌', '🏻', '🙃', '☹', '😅', '😢', '😂', '😩', '😖', '↑',\n",
       "       '👍', '🏼', '😭', '🤷', '♂', '⛅', '🛑', '🤦', '♀', '🙄', '😕', '😠', '😫',\n",
       "       '😁', '\\ufeff', '😒', '💩', '😜', '😨', '😆', '🏽', '😓', '\\x80', '\\x99',\n",
       "       '\\x9f', '\\x98', '\\xad', '\\x92', '\\x8f', '\\x8b', '\\x9c', '\\x9d',\n",
       "       '\\x8d', '\\x87', '\\x82', '\\x8a', '\\x81', '\\x8c', '\\x91', '\\x94',\n",
       "       '\\x84', '\\x95', '\\x96', '\\x89', '\\x83', '\\x88', '\\x97', '\\x90',\n",
       "       '\\x9a', '\\x8e', '\\U0001fae0', '🙏', '🔃', '💀', '🤣', '\\U0001fae3',\n",
       "       '😮', '💨', '😞', '🥰', '😳', '💜', '🖕', '\\U0001f979', '💅', '🙈', '🥱',\n",
       "       '🤩', '🖤', '😬', '😥', '🔥', '🤔', '❓', '⁉', '😏', '🤯', '😌', '⚡', '🏴',\n",
       "       '÷', '》', '×', '🐕', '😑', '📷', '⛽', '➲', '→', '\\U0001fae4', '👋',\n",
       "       '🥲', '🙁', '🤍', '🔴', '🌊', '💚', '✅', '✨', '😊', '🤡', '💗', '😍', '🧡',\n",
       "       '😚', '🌷', '\\u2060', '🙌', '‐', '\\U0001faf6', '🥺', '💝', '🙋', '⚠',\n",
       "       '☺', '😣', '😵', '💫', '😪', '♥', '🚩', '💛', '🤗', '👇', '🐟', '\\u202d',\n",
       "       '\\u202c', '🥳', '🤕', '💋', '🤭', '❌', '⬇', '💔', '🍃', '😀', '🤞', '☠',\n",
       "       '🤫', '😹', '\\U0001fae2', '⏳'], dtype=object)"
      ]
     },
     "execution_count": 70,
     "metadata": {},
     "output_type": "execute_result"
    }
   ],
   "source": [
    "special_chars"
   ]
  },
  {
   "cell_type": "markdown",
   "id": "60997a5d-1207-4cd1-9dd8-9040b0cb0761",
   "metadata": {},
   "source": [
    "#### Emojis\n",
    "\n",
    "Let's try and categorize the emojis used. There are few enough that we can manually create lists identifying emojis we deem to carry clear 'positive' or 'negative' sentiments. We'll ignore any \"neutral\" emojis: we're about to get into more detailed and layered analysis of the actual text in a bit, so we don't need to waste time getting *too* intricate with these additional features!\n",
    "\n",
    "If we have to choose one or the other, we'll probably choose **negative** emojis as our main predictive metric (with regards to emoji sentiments)...since positive emojis could be used sarcastically. \n",
    "\n",
    "The sarcastic use of positive \"sentiments\" to indicate negativity is far more common than the sarcastic use of negative sentiments to indicate positivity. \n",
    "\n",
    "##### Varying Cultural Expression\n",
    "\n",
    "There can be differences in a person's interpretation and use of emojis when conveying sentiments, based on a variety of cultural factors. We don't know enough about the people who created this dataset, nor do we have demographic information on the users in the dataset itself, to make those determinations...We'll categorize emoji sentiments through our own cultural lens, and see how well our version of this metric helps or hurts our predictive model."
   ]
  },
  {
   "cell_type": "code",
   "execution_count": 72,
   "id": "45bbcbb4-9a3a-4cf9-8f9b-4427620dc4bf",
   "metadata": {},
   "outputs": [],
   "source": [
    "pos_emojis = ['😇', '💖', '🙂', '💕', '❤', '😅', '😂', '👍', '😁', '😆', '🤣', '🥰', '💜', '🤩', '🖤', '😌', '🥲', '🤍','💚','😊',\n",
    "              '💗', '😍', '🧡', '💝', '♥', '💛', '🤗', '😀', '😹', '😏']\n",
    "\n",
    "neg_emojis = ['😔', '😦', '😐', '😢', '😩', '😖', '😭', '🤦', '🙄', '😕', '😠', '😫', '😒', '😨', '😓', '😮', '😞', '😳', '😥',\n",
    "              '😑', '🙁', '😣', '😪', '🤕', '💔']"
   ]
  },
  {
   "cell_type": "markdown",
   "id": "730721c1-6a86-4236-bc2b-5aea55bf558d",
   "metadata": {},
   "source": [
    "##### Binary Classification\n",
    "\n",
    "As we stated, we don't need to get too intricate. Let's create a binary classifier to simply determine whether a 'statement' has any number of positive or negative emojis in it's text. "
   ]
  },
  {
   "cell_type": "code",
   "execution_count": 73,
   "id": "b17622ad-b795-401e-88d7-17bc76fe65d3",
   "metadata": {},
   "outputs": [],
   "source": [
    "# 1 if any positive emojis in 'statement', else 0\n",
    "def has_pos_emoji(text):\n",
    "    if not isinstance(text, str):\n",
    "        return 0\n",
    "    return 1 if any(emoji in text for emoji in pos_emojis) else 0\n",
    "\n",
    "data['pos_emoji'] = data['statement'].apply(has_pos_emoji)"
   ]
  },
  {
   "cell_type": "code",
   "execution_count": 74,
   "id": "519aa4e0-b1dd-41e2-8b29-3527a8b92a0b",
   "metadata": {},
   "outputs": [],
   "source": [
    "# Same for negative emojis\n",
    "def has_neg_emoji(text):\n",
    "    if not isinstance(text, str):\n",
    "        return 0\n",
    "    return 1 if any(emoji in text for emoji in neg_emojis) else 0\n",
    "\n",
    "data['neg_emoji'] = data['statement'].apply(has_neg_emoji)"
   ]
  },
  {
   "cell_type": "code",
   "execution_count": 76,
   "id": "ee22008a-d237-4b6c-b2fe-22c8fe66f5c6",
   "metadata": {},
   "outputs": [
    {
     "name": "stdout",
     "output_type": "stream",
     "text": [
      "Number of Rows with POSITIVE Emojis:\n",
      "status\n",
      "Anxiety                 39\n",
      "Bipolar                 17\n",
      "Depression              10\n",
      "Normal                  15\n",
      "Personality disorder    22\n",
      "Stress                   7\n",
      "dtype: int64\n",
      "\n",
      "Number of Rows with NEGATIVE Emojis:\n",
      "status\n",
      "Anxiety                 40\n",
      "Bipolar                 12\n",
      "Depression               8\n",
      "Personality disorder    14\n",
      "Stress                  13\n",
      "dtype: int64\n",
      "\n",
      "Number of Rows with BOTH:\n",
      "status\n",
      "Anxiety                 2\n",
      "Depression              2\n",
      "Personality disorder    4\n",
      "dtype: int64\n"
     ]
    }
   ],
   "source": [
    "# Define a function to count rows with certain values\n",
    "def count_rows(df, pos_val, neg_val):\n",
    "    filtered_df = df[(df['pos_emoji'] == pos_val) & (df['neg_emoji'] == neg_val)]\n",
    "    return filtered_df.groupby('status').size()\n",
    "\n",
    "print(\"Number of Rows with POSITIVE Emojis:\")\n",
    "print(count_rows(data, 1, 0))\n",
    "print(\"\")\n",
    "print(\"Number of Rows with NEGATIVE Emojis:\")\n",
    "print(count_rows(data, 0, 1))\n",
    "print(\"\")\n",
    "print(\"Number of Rows with BOTH:\")\n",
    "print(count_rows(data, 1, 1))"
   ]
  },
  {
   "cell_type": "markdown",
   "id": "0d0b1701-20fc-43b0-b130-6e6446d6bafb",
   "metadata": {},
   "source": [
    "We were correct in assuming that the use of negative emojis might be a more telling metric than the use of positive emojis. There are no 'Normal' status users that have used any negative emojis whatsoever. The results for positive emojis are more ambiguous. Let's drop that column.\n",
    "\n",
    "(There are a suprisingly few amount of rows in our dataset that contain emojis. Our neg_emoji column is probably useless as well, but we'll keep it for right now)."
   ]
  },
  {
   "cell_type": "code",
   "execution_count": 77,
   "id": "63b6a8be-39d7-4700-9938-3f60dad94883",
   "metadata": {},
   "outputs": [],
   "source": [
    "data.drop(columns=['pos_emoji'], inplace=True)"
   ]
  },
  {
   "cell_type": "markdown",
   "id": "fb2d07c2-88a8-43d7-8091-6c9fdaf5d7c5",
   "metadata": {},
   "source": [
    "#### ! and ?\n",
    "\n",
    "The last notable special characters we might want to document prior to text cleaning are exclamation points ('!') and question marks ('?'). These are frequently used to convey emotional sentiment, especially distress when used repeatedly (ex. '!!!!!', '????', '!?!?!?!?'). \n",
    "\n",
    "Let's add columns counting the number of times a person uses these in a 'statement'. \n",
    "\n",
    "We'll want to normalize our values to account for varying statement lengths, to be able to accurately identify any notable outliers."
   ]
  },
  {
   "cell_type": "code",
   "execution_count": 78,
   "id": "566c3282-3fb3-41a8-aa17-5eb385e854f8",
   "metadata": {},
   "outputs": [
    {
     "name": "stdout",
     "output_type": "stream",
     "text": [
      "The history saving thread hit an unexpected error (OperationalError('attempt to write a readonly database')).History will not be written to the database.\n"
     ]
    }
   ],
   "source": [
    "# Function to count characters excluding whitespace and calculate proportion of 'char'\n",
    "def calculate_char_ratio(text, char):\n",
    "    if not isinstance(text, str):\n",
    "        return 0\n",
    "\n",
    "    # Remove whitespace and count non-whitespace characters\n",
    "    non_whitespace_text = re.sub(r'\\s+', '', text)\n",
    "    total_characters = len(non_whitespace_text)\n",
    "    \n",
    "    # Count occurrences of 'char'\n",
    "    char_count = text.count(char)\n",
    "    \n",
    "    # Calculate proportion\n",
    "    if total_characters == 0:\n",
    "        return 0\n",
    "    ratio = char_count / total_characters\n",
    "    \n",
    "    return ratio\n",
    "\n",
    "# Apply the function to calculate proportions for '!' and '?'\n",
    "data['!_ratio'] = data['statement'].apply(lambda x: calculate_char_ratio(x, '!'))\n",
    "data['?_proportion'] = data['statement'].apply(lambda x: calculate_char_ratio(x, '?'))"
   ]
  },
  {
   "cell_type": "code",
   "execution_count": null,
   "id": "be468c21-7bf3-4084-83dd-cf01f190e8a9",
   "metadata": {},
   "outputs": [],
   "source": [
    "# Define function to clean text\n",
    "def clean_text(text):\n",
    "    text = text.lower() # Lowercase\n",
    "    text"
   ]
  },
  {
   "cell_type": "code",
   "execution_count": null,
   "id": "2079f14a-85b3-496d-b626-88abd5b4025a",
   "metadata": {},
   "outputs": [],
   "source": []
  }
 ],
 "metadata": {
  "kernelspec": {
   "display_name": "Python 3 (ipykernel)",
   "language": "python",
   "name": "python3"
  },
  "language_info": {
   "codemirror_mode": {
    "name": "ipython",
    "version": 3
   },
   "file_extension": ".py",
   "mimetype": "text/x-python",
   "name": "python",
   "nbconvert_exporter": "python",
   "pygments_lexer": "ipython3",
   "version": "3.10.14"
  }
 },
 "nbformat": 4,
 "nbformat_minor": 5
}
